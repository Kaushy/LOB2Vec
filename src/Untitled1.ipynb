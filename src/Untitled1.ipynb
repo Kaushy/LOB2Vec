{
 "cells": [
  {
   "cell_type": "code",
   "execution_count": 4,
   "metadata": {},
   "outputs": [],
   "source": [
    "import os\n",
    "import sys\n",
    "\n",
    "# Setting Paths\n",
    "module_path = os.path.abspath(os.path.join('..'))\n",
    "project_path = os.path.abspath(os.path.join('../..'))\n",
    "\n",
    "if module_path not in sys.path:\n",
    "    sys.path.append(module_path)\n",
    "if project_path not in sys.path:\n",
    "    sys.path.append(project_path)\n",
    "import os\n",
    "import sys\n",
    "import numpy as np\n",
    "import pandas as pd\n",
    "import paths\n",
    "import seaborn as sns; sns.set()\n",
    "import matplotlib.pyplot as plt\n",
    "import tensorflow as tf\n",
    "import time\n",
    "import logging\n",
    "from pylab import *\n",
    "from os.path import basename\n",
    "from pathlib import Path\n",
    "from sklearn.preprocessing import MinMaxScaler, QuantileTransformer\n",
    "from skimage.util.shape import view_as_windows\n",
    "from scipy.ndimage.interpolation import shift\n",
    "\n",
    "\n",
    "# Parameters\n",
    "num_frames = 100"
   ]
  },
  {
   "cell_type": "code",
   "execution_count": 1,
   "metadata": {},
   "outputs": [
    {
     "name": "stderr",
     "output_type": "stream",
     "text": [
      "Matplotlib is building the font cache; this may take a moment.\n"
     ]
    }
   ],
   "source": [
    "from matplotlib.animation import FuncAnimation\n",
    "import matplotlib.pyplot as plt\n",
    "import numpy as np\n",
    "\n",
    "fig, ax = plt.subplots(figsize=(5, 8))\n",
    "\n",
    "\n",
    "def update(i):\n",
    "    im_normed = np.random.random((64, 64))\n",
    "    ax.imshow(im_normed)\n",
    "    ax.set_title(\"Angle: {}*pi/10\".format(i), fontsize=20)\n",
    "    ax.set_axis_off()\n",
    "\n",
    "\n",
    "anim = FuncAnimation(fig, update, frames=np.arange(0, 20), interval=50)\n",
    "anim.save('colour_rotation.gif', dpi=80, writer='imagemagick')\n",
    "plt.close()"
   ]
  },
  {
   "cell_type": "code",
   "execution_count": 8,
   "metadata": {},
   "outputs": [],
   "source": [
    "data_path = paths.source_test_dev + '20190403/X/USM_NASDAQ.npy'\n",
    "npy_y = np.load(data_path, allow_pickle=True)"
   ]
  },
  {
   "cell_type": "code",
   "execution_count": 15,
   "metadata": {},
   "outputs": [
    {
     "data": {
      "text/plain": [
       "<matplotlib.image.AxesImage at 0x2b7c6bd6e860>"
      ]
     },
     "execution_count": 15,
     "metadata": {},
     "output_type": "execute_result"
    }
   ],
   "source": [
    "b_price = npy_y['price'][0,0,0,:]\n",
    "s_price = npy_y['price'][0,0,1,:]\n",
    "lob_price = np.stack((b_price, s_price), axis=1)\n",
    "lob_price.shape\n",
    "ax.imshow(lob_price)"
   ]
  },
  {
   "cell_type": "code",
   "execution_count": 2,
   "metadata": {},
   "outputs": [
    {
     "name": "stdout",
     "output_type": "stream",
     "text": [
      "/bin/sh: -c: line 0: syntax error near unexpected token `colour_rotation.gif'\n",
      "/bin/sh: -c: line 0: `[SegmentLocal](colour_rotation.gif \"colour_rotation\")'\n"
     ]
    }
   ],
   "source": [
    "![SegmentLocal](colour_rotation.gif \"colour_rotation\")"
   ]
  },
  {
   "cell_type": "code",
   "execution_count": null,
   "metadata": {},
   "outputs": [],
   "source": []
  }
 ],
 "metadata": {
  "kernelspec": {
   "display_name": "Python 3",
   "language": "python",
   "name": "python3"
  },
  "language_info": {
   "codemirror_mode": {
    "name": "ipython",
    "version": 3
   },
   "file_extension": ".py",
   "mimetype": "text/x-python",
   "name": "python",
   "nbconvert_exporter": "python",
   "pygments_lexer": "ipython3",
   "version": "3.6.8"
  }
 },
 "nbformat": 4,
 "nbformat_minor": 2
}
