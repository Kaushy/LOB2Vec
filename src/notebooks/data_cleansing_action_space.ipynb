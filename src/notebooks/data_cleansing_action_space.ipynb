{
 "cells": [
  {
   "cell_type": "code",
   "execution_count": 2,
   "metadata": {},
   "outputs": [],
   "source": [
    "import os\n",
    "import sys\n",
    "\n",
    "# Setting Paths\n",
    "module_path = os.path.abspath(os.path.join('..'))\n",
    "project_path = os.path.abspath(os.path.join('../..'))\n",
    "\n",
    "if module_path not in sys.path:\n",
    "    sys.path.append(module_path)\n",
    "if project_path not in sys.path:\n",
    "    sys.path.append(project_path)\n",
    "import os\n",
    "import sys\n",
    "import numpy as np\n",
    "import pandas as pd\n",
    "import paths\n",
    "import model\n",
    "import seaborn as sns; sns.set()\n",
    "import matplotlib.pyplot as plt\n",
    "import tensorflow as tf\n",
    "import time\n",
    "import logging\n",
    "from pylab import *\n",
    "from os.path import basename\n",
    "from pathlib import Path\n",
    "from sklearn.preprocessing import MinMaxScaler, QuantileTransformer\n",
    "from skimage.util.shape import view_as_windows\n",
    "from scipy.ndimage.interpolation import shift\n",
    "\n",
    "\n",
    "# Parameters\n",
    "num_frames = 10"
   ]
  },
  {
   "cell_type": "code",
   "execution_count": 2,
   "metadata": {},
   "outputs": [],
   "source": [
    "def retrieve_cleansed_data(lob, y_df, width, filename):\n",
    "    min_max_scaler = MinMaxScaler(feature_range=(0,50))\n",
    "    quantile_transformer = QuantileTransformer()\n",
    "    \n",
    "    # As evidenced by above, we can technically select all in the second axis as there is only 1 element. However, \n",
    "    # because we need a 2d input we make it 0. The 3rd axis is side so we need this\n",
    "    \n",
    "    lob_qty_buy = pd.DataFrame(lob['quantity'][:,0,0,0:20])\n",
    "    lob_qty_buy = lob_qty_buy.replace(0, np.NaN)\n",
    "    \n",
    "    lob_qty_sell = pd.DataFrame(lob['quantity'][:,0,1,0:20])\n",
    "    lob_qty_sell = lob_qty_sell.replace(0, np.NaN)\n",
    "  \n",
    "    lob_n, d, w, h = lob['quantity'].shape\n",
    "    b_qty = lob['quantity'][:,0,0,:]\n",
    "    s_qty = lob['quantity'][:,0,1,:]\n",
    "    lob_qty = np.stack((b_qty, s_qty), axis=2)\n",
    "\n",
    "    lob_qty = lob_qty.reshape(-1,1)\n",
    "    lob_qty = min_max_scaler.fit_transform(lob_qty)\n",
    "    lob_qty = lob_qty.reshape(lob_n, h, w)\n",
    "    \n",
    "    b_price = lob['price'][:,0,0,:]\n",
    "    s_price = lob['price'][:,0,1,:]\n",
    "    lob_price = np.stack((b_price, s_price), axis=2)\n",
    "\n",
    "    lob_price = lob_price.reshape(-1,1)\n",
    "    lob_price = min_max_scaler.fit_transform(lob_price)\n",
    "    lob_price = lob_price.reshape(lob_n, h, w)\n",
    "    \n",
    "    b_ts = lob['timestamp'][:,0,0,:]\n",
    "    b_ts = np.diff(b_ts, axis=0, prepend=b_ts[0].reshape(1, 30))\n",
    "    s_ts = lob['timestamp'][:,0,1,:]\n",
    "    s_ts = np.diff(s_ts, axis=0, prepend=s_ts[0].reshape(1, 30))\n",
    "    lob_ts = np.stack((b_ts, s_ts), axis=2)\n",
    "    lob_ts = lob_ts / np.timedelta64(1, 'us')\n",
    "\n",
    "    lob_states = np.dstack((lob_qty, lob_price, lob_ts))\n",
    "    lob_states = lob_states.reshape(lob_n, h, w, 3)\n",
    "\n",
    "    # We use the num_frames for step count so that the windows are non-overlapping. We can also use view_as_blocks but the issue with this is that it \n",
    "    # requires precise block splits. i.e: If block does not have enough data it will not make block\n",
    " \n",
    "    if ((len(lob_states) - num_frames) < 0):\n",
    "        return [], []\n",
    "    else:\n",
    "        # We are shifting Y values by one, since what we want from a state is the prediction of the action from that state. Without this shift, Y value\n",
    "        # gives the action that achieved this current state. With this shift the last state will have action = 0, which is did nothing\n",
    "        y_df_shifted = shift(y_df, -1, cval=0)\n",
    "        \n",
    "        # Use this to get non-overlapping windows. Y value calculation for this not complete\n",
    "        lob_states = view_as_windows(lob_states,(width,1,1,1), step=(num_frames,1,1,1))[...,0,0,0].transpose(0,4,1,2,3)\n",
    "        y_df_shifted = y_df_shifted[num_frames-1::num_frames]\n",
    "        \n",
    "        # Use this for overlapping windows. Y value calculation also complete\n",
    "        #lob_states = view_as_windows(lob_states,(width,1,1,1))[...,0,0,0].transpose(0,4,1,2,3)\n",
    "        #y_df_shifted = y_df_shifted[num_frames-1:len(y_df_shifted)]\n",
    "        logging.error(lob_states.shape)\n",
    "        logging.error(len(y_df_shifted))\n",
    "        return lob_states, y_df_shifted"
   ]
  },
  {
   "cell_type": "code",
   "execution_count": 3,
   "metadata": {},
   "outputs": [],
   "source": [
    "def convert_data_to_labels(data_source, frames):\n",
    "    \"\"\"\n",
    "    \n",
    "    \"\"\"\n",
    "    X = None\n",
    "    Y = None\n",
    "        \n",
    "    for subdir, dirs, files in os.walk(data_source):\n",
    "        for file in files:\n",
    "            data_path = os.path.join(subdir, file)\n",
    "            my_path = Path(data_path)\n",
    "            date_path = my_path.parent.parent\n",
    "            x_path = date_path / 'X' / file\n",
    "            XorY = basename(my_path.parent)\n",
    "            if XorY == 'Y':\n",
    "                npy_y = np.load(data_path, allow_pickle=True)\n",
    "                npy_x = np.load(x_path, allow_pickle=True)\n",
    "                logging.error(x_path)\n",
    "                logging.error(data_path)\n",
    "       \n",
    "                print(data_path)\n",
    "                print(x_path)\n",
    "                x, y = retrieve_cleansed_data(npy_x, npy_y, frames, file)\n",
    "                if len(x) > 0:\n",
    "                    if X is not None:\n",
    "                        X = np.append(X, x, axis=0)\n",
    "                    else:\n",
    "                        X = x\n",
    "\n",
    "                if len(y) > 0:    \n",
    "                    if Y is not None:\n",
    "                        Y = np.append(Y, y, axis=0)\n",
    "                    else:\n",
    "                        Y = y\n",
    "    return X, Y\n",
    "        \n",
    "\n",
    "def save_data(data_source, data_dest, datatype):\n",
    "    \"\"\"\n",
    "\n",
    "    \"\"\"\n",
    "    X, Y = convert_data_to_labels(data_source, num_frames)\n",
    "    np.save(data_dest + str(num_frames) + datatype + 'X.npy', X)\n",
    "    np.save(data_dest + str(num_frames) + datatype + 'Y.npy', Y)\n",
    "    print('Written To ' + str(data_dest + str(num_frames)))\n",
    "\n",
    "    \n",
    "# To run this you need high memory machine\n",
    "def save_individual_files(data_source, save_location, frames):\n",
    "    if not os.path.exists(str(save_location) + str(frames) + '_X/'):\n",
    "        os.makedirs(str(save_location) + str(frames) + '_X/')\n",
    "    X, Y = convert_data_to_labels(data_source, frames)\n",
    "    {np.save(save_location + str(frames) + '_X/' + str(k) + '.npy', v) for k, v in enumerate(X)}\n",
    "    np.save(save_location + str(frames) + '_Y.npy', Y)\n",
    "    logging.error('Written To ' + str(save_location) + str(frames))"
   ]
  },
  {
   "cell_type": "code",
   "execution_count": null,
   "metadata": {},
   "outputs": [
    {
     "name": "stderr",
     "output_type": "stream",
     "text": [
      "ERROR:root:/rds/general/user/kk2219/ephemeral/data/lob_2_vec/full_depth/train_2016/20160907/X/IBM_NASDAQ.npy\n",
      "ERROR:root:/rds/general/user/kk2219/ephemeral/data/lob_2_vec/full_depth/train_2016/20160907/Y/IBM_NASDAQ.npy\n"
     ]
    },
    {
     "name": "stdout",
     "output_type": "stream",
     "text": [
      "/rds/general/user/kk2219/ephemeral/data/lob_2_vec/full_depth/train_2016/20160907/Y/IBM_NASDAQ.npy\n",
      "/rds/general/user/kk2219/ephemeral/data/lob_2_vec/full_depth/train_2016/20160907/X/IBM_NASDAQ.npy\n"
     ]
    },
    {
     "name": "stderr",
     "output_type": "stream",
     "text": [
      "ERROR:root:(21648, 10, 30, 2, 3)\n",
      "ERROR:root:21648\n",
      "ERROR:root:/rds/general/user/kk2219/ephemeral/data/lob_2_vec/full_depth/train_2016/20160907/X/SPY_EDGX.npy\n",
      "ERROR:root:/rds/general/user/kk2219/ephemeral/data/lob_2_vec/full_depth/train_2016/20160907/Y/SPY_EDGX.npy\n"
     ]
    },
    {
     "name": "stdout",
     "output_type": "stream",
     "text": [
      "/rds/general/user/kk2219/ephemeral/data/lob_2_vec/full_depth/train_2016/20160907/Y/SPY_EDGX.npy\n",
      "/rds/general/user/kk2219/ephemeral/data/lob_2_vec/full_depth/train_2016/20160907/X/SPY_EDGX.npy\n"
     ]
    },
    {
     "name": "stderr",
     "output_type": "stream",
     "text": [
      "ERROR:root:(116750, 10, 30, 2, 3)\n",
      "ERROR:root:116750\n",
      "ERROR:root:/rds/general/user/kk2219/ephemeral/data/lob_2_vec/full_depth/train_2016/20160907/X/ABEO_EDGX.npy\n",
      "ERROR:root:/rds/general/user/kk2219/ephemeral/data/lob_2_vec/full_depth/train_2016/20160907/Y/ABEO_EDGX.npy\n",
      "ERROR:root:(63, 10, 30, 2, 3)\n",
      "ERROR:root:63\n"
     ]
    },
    {
     "name": "stdout",
     "output_type": "stream",
     "text": [
      "/rds/general/user/kk2219/ephemeral/data/lob_2_vec/full_depth/train_2016/20160907/Y/ABEO_EDGX.npy\n",
      "/rds/general/user/kk2219/ephemeral/data/lob_2_vec/full_depth/train_2016/20160907/X/ABEO_EDGX.npy\n"
     ]
    },
    {
     "name": "stderr",
     "output_type": "stream",
     "text": [
      "ERROR:root:/rds/general/user/kk2219/ephemeral/data/lob_2_vec/full_depth/train_2016/20160907/X/GOOG_NASDAQ.npy\n",
      "ERROR:root:/rds/general/user/kk2219/ephemeral/data/lob_2_vec/full_depth/train_2016/20160907/Y/GOOG_NASDAQ.npy\n"
     ]
    },
    {
     "name": "stdout",
     "output_type": "stream",
     "text": [
      "/rds/general/user/kk2219/ephemeral/data/lob_2_vec/full_depth/train_2016/20160907/Y/GOOG_NASDAQ.npy\n",
      "/rds/general/user/kk2219/ephemeral/data/lob_2_vec/full_depth/train_2016/20160907/X/GOOG_NASDAQ.npy\n"
     ]
    },
    {
     "name": "stderr",
     "output_type": "stream",
     "text": [
      "ERROR:root:(34001, 10, 30, 2, 3)\n",
      "ERROR:root:34001\n",
      "ERROR:root:/rds/general/user/kk2219/ephemeral/data/lob_2_vec/full_depth/train_2016/20160907/X/ABEO_BATS.npy\n",
      "ERROR:root:/rds/general/user/kk2219/ephemeral/data/lob_2_vec/full_depth/train_2016/20160907/Y/ABEO_BATS.npy\n",
      "ERROR:root:(86, 10, 30, 2, 3)\n",
      "ERROR:root:86\n"
     ]
    },
    {
     "name": "stdout",
     "output_type": "stream",
     "text": [
      "/rds/general/user/kk2219/ephemeral/data/lob_2_vec/full_depth/train_2016/20160907/Y/ABEO_BATS.npy\n",
      "/rds/general/user/kk2219/ephemeral/data/lob_2_vec/full_depth/train_2016/20160907/X/ABEO_BATS.npy\n"
     ]
    },
    {
     "name": "stderr",
     "output_type": "stream",
     "text": [
      "ERROR:root:/rds/general/user/kk2219/ephemeral/data/lob_2_vec/full_depth/train_2016/20160907/X/ABEO_ARCA.npy\n",
      "ERROR:root:/rds/general/user/kk2219/ephemeral/data/lob_2_vec/full_depth/train_2016/20160907/Y/ABEO_ARCA.npy\n",
      "ERROR:root:(92, 10, 30, 2, 3)\n",
      "ERROR:root:92\n"
     ]
    },
    {
     "name": "stdout",
     "output_type": "stream",
     "text": [
      "/rds/general/user/kk2219/ephemeral/data/lob_2_vec/full_depth/train_2016/20160907/Y/ABEO_ARCA.npy\n",
      "/rds/general/user/kk2219/ephemeral/data/lob_2_vec/full_depth/train_2016/20160907/X/ABEO_ARCA.npy\n"
     ]
    },
    {
     "name": "stderr",
     "output_type": "stream",
     "text": [
      "ERROR:root:/rds/general/user/kk2219/ephemeral/data/lob_2_vec/full_depth/train_2016/20160907/X/IBM_EDGA.npy\n",
      "ERROR:root:/rds/general/user/kk2219/ephemeral/data/lob_2_vec/full_depth/train_2016/20160907/Y/IBM_EDGA.npy\n",
      "ERROR:root:(1198, 10, 30, 2, 3)\n",
      "ERROR:root:1198\n"
     ]
    },
    {
     "name": "stdout",
     "output_type": "stream",
     "text": [
      "/rds/general/user/kk2219/ephemeral/data/lob_2_vec/full_depth/train_2016/20160907/Y/IBM_EDGA.npy\n",
      "/rds/general/user/kk2219/ephemeral/data/lob_2_vec/full_depth/train_2016/20160907/X/IBM_EDGA.npy\n"
     ]
    },
    {
     "name": "stderr",
     "output_type": "stream",
     "text": [
      "ERROR:root:/rds/general/user/kk2219/ephemeral/data/lob_2_vec/full_depth/train_2016/20160907/X/SPY_ARCA.npy\n",
      "ERROR:root:/rds/general/user/kk2219/ephemeral/data/lob_2_vec/full_depth/train_2016/20160907/Y/SPY_ARCA.npy\n"
     ]
    },
    {
     "name": "stdout",
     "output_type": "stream",
     "text": [
      "/rds/general/user/kk2219/ephemeral/data/lob_2_vec/full_depth/train_2016/20160907/Y/SPY_ARCA.npy\n",
      "/rds/general/user/kk2219/ephemeral/data/lob_2_vec/full_depth/train_2016/20160907/X/SPY_ARCA.npy\n"
     ]
    },
    {
     "name": "stderr",
     "output_type": "stream",
     "text": [
      "ERROR:root:(175209, 10, 30, 2, 3)\n",
      "ERROR:root:175209\n",
      "ERROR:root:/rds/general/user/kk2219/ephemeral/data/lob_2_vec/full_depth/train_2016/20160907/X/GOOG_ARCA.npy\n",
      "ERROR:root:/rds/general/user/kk2219/ephemeral/data/lob_2_vec/full_depth/train_2016/20160907/Y/GOOG_ARCA.npy\n"
     ]
    },
    {
     "name": "stdout",
     "output_type": "stream",
     "text": [
      "/rds/general/user/kk2219/ephemeral/data/lob_2_vec/full_depth/train_2016/20160907/Y/GOOG_ARCA.npy\n",
      "/rds/general/user/kk2219/ephemeral/data/lob_2_vec/full_depth/train_2016/20160907/X/GOOG_ARCA.npy\n"
     ]
    },
    {
     "name": "stderr",
     "output_type": "stream",
     "text": [
      "ERROR:root:(9430, 10, 30, 2, 3)\n",
      "ERROR:root:9430\n",
      "ERROR:root:/rds/general/user/kk2219/ephemeral/data/lob_2_vec/full_depth/train_2016/20160907/X/VOD_NASDAQ.npy\n",
      "ERROR:root:/rds/general/user/kk2219/ephemeral/data/lob_2_vec/full_depth/train_2016/20160907/Y/VOD_NASDAQ.npy\n"
     ]
    },
    {
     "name": "stdout",
     "output_type": "stream",
     "text": [
      "/rds/general/user/kk2219/ephemeral/data/lob_2_vec/full_depth/train_2016/20160907/Y/VOD_NASDAQ.npy\n",
      "/rds/general/user/kk2219/ephemeral/data/lob_2_vec/full_depth/train_2016/20160907/X/VOD_NASDAQ.npy\n"
     ]
    },
    {
     "name": "stderr",
     "output_type": "stream",
     "text": [
      "ERROR:root:(35320, 10, 30, 2, 3)\n",
      "ERROR:root:35320\n",
      "ERROR:root:/rds/general/user/kk2219/ephemeral/data/lob_2_vec/full_depth/train_2016/20160907/X/VOD_BATS.npy\n",
      "ERROR:root:/rds/general/user/kk2219/ephemeral/data/lob_2_vec/full_depth/train_2016/20160907/Y/VOD_BATS.npy\n"
     ]
    },
    {
     "name": "stdout",
     "output_type": "stream",
     "text": [
      "/rds/general/user/kk2219/ephemeral/data/lob_2_vec/full_depth/train_2016/20160907/Y/VOD_BATS.npy\n",
      "/rds/general/user/kk2219/ephemeral/data/lob_2_vec/full_depth/train_2016/20160907/X/VOD_BATS.npy\n"
     ]
    },
    {
     "name": "stderr",
     "output_type": "stream",
     "text": [
      "ERROR:root:(19465, 10, 30, 2, 3)\n",
      "ERROR:root:19465\n",
      "ERROR:root:/rds/general/user/kk2219/ephemeral/data/lob_2_vec/full_depth/train_2016/20160907/X/ABEO_EDGA.npy\n",
      "ERROR:root:/rds/general/user/kk2219/ephemeral/data/lob_2_vec/full_depth/train_2016/20160907/Y/ABEO_EDGA.npy\n",
      "ERROR:root:(19, 10, 30, 2, 3)\n",
      "ERROR:root:19\n"
     ]
    },
    {
     "name": "stdout",
     "output_type": "stream",
     "text": [
      "/rds/general/user/kk2219/ephemeral/data/lob_2_vec/full_depth/train_2016/20160907/Y/ABEO_EDGA.npy\n",
      "/rds/general/user/kk2219/ephemeral/data/lob_2_vec/full_depth/train_2016/20160907/X/ABEO_EDGA.npy\n"
     ]
    },
    {
     "name": "stderr",
     "output_type": "stream",
     "text": [
      "ERROR:root:/rds/general/user/kk2219/ephemeral/data/lob_2_vec/full_depth/train_2016/20160907/X/GOOG_EDGA.npy\n",
      "ERROR:root:/rds/general/user/kk2219/ephemeral/data/lob_2_vec/full_depth/train_2016/20160907/Y/GOOG_EDGA.npy\n",
      "ERROR:root:(1001, 10, 30, 2, 3)\n",
      "ERROR:root:1001\n"
     ]
    },
    {
     "name": "stdout",
     "output_type": "stream",
     "text": [
      "/rds/general/user/kk2219/ephemeral/data/lob_2_vec/full_depth/train_2016/20160907/Y/GOOG_EDGA.npy\n",
      "/rds/general/user/kk2219/ephemeral/data/lob_2_vec/full_depth/train_2016/20160907/X/GOOG_EDGA.npy\n"
     ]
    },
    {
     "name": "stderr",
     "output_type": "stream",
     "text": [
      "ERROR:root:/rds/general/user/kk2219/ephemeral/data/lob_2_vec/full_depth/train_2016/20160907/X/SPY_EDGA.npy\n",
      "ERROR:root:/rds/general/user/kk2219/ephemeral/data/lob_2_vec/full_depth/train_2016/20160907/Y/SPY_EDGA.npy\n"
     ]
    },
    {
     "name": "stdout",
     "output_type": "stream",
     "text": [
      "/rds/general/user/kk2219/ephemeral/data/lob_2_vec/full_depth/train_2016/20160907/Y/SPY_EDGA.npy\n",
      "/rds/general/user/kk2219/ephemeral/data/lob_2_vec/full_depth/train_2016/20160907/X/SPY_EDGA.npy\n"
     ]
    },
    {
     "name": "stderr",
     "output_type": "stream",
     "text": [
      "ERROR:root:(49391, 10, 30, 2, 3)\n",
      "ERROR:root:49391\n",
      "ERROR:root:/rds/general/user/kk2219/ephemeral/data/lob_2_vec/full_depth/train_2016/20160907/X/IBM_ARCA.npy\n",
      "ERROR:root:/rds/general/user/kk2219/ephemeral/data/lob_2_vec/full_depth/train_2016/20160907/Y/IBM_ARCA.npy\n"
     ]
    },
    {
     "name": "stdout",
     "output_type": "stream",
     "text": [
      "/rds/general/user/kk2219/ephemeral/data/lob_2_vec/full_depth/train_2016/20160907/Y/IBM_ARCA.npy\n",
      "/rds/general/user/kk2219/ephemeral/data/lob_2_vec/full_depth/train_2016/20160907/X/IBM_ARCA.npy\n"
     ]
    },
    {
     "name": "stderr",
     "output_type": "stream",
     "text": [
      "ERROR:root:(10663, 10, 30, 2, 3)\n",
      "ERROR:root:10663\n",
      "ERROR:root:/rds/general/user/kk2219/ephemeral/data/lob_2_vec/full_depth/train_2016/20160907/X/GOOG_EDGX.npy\n",
      "ERROR:root:/rds/general/user/kk2219/ephemeral/data/lob_2_vec/full_depth/train_2016/20160907/Y/GOOG_EDGX.npy\n",
      "ERROR:root:(1919, 10, 30, 2, 3)\n",
      "ERROR:root:1919\n"
     ]
    },
    {
     "name": "stdout",
     "output_type": "stream",
     "text": [
      "/rds/general/user/kk2219/ephemeral/data/lob_2_vec/full_depth/train_2016/20160907/Y/GOOG_EDGX.npy\n",
      "/rds/general/user/kk2219/ephemeral/data/lob_2_vec/full_depth/train_2016/20160907/X/GOOG_EDGX.npy\n"
     ]
    },
    {
     "name": "stderr",
     "output_type": "stream",
     "text": [
      "ERROR:root:/rds/general/user/kk2219/ephemeral/data/lob_2_vec/full_depth/train_2016/20160907/X/VOD_EDGX.npy\n",
      "ERROR:root:/rds/general/user/kk2219/ephemeral/data/lob_2_vec/full_depth/train_2016/20160907/Y/VOD_EDGX.npy\n"
     ]
    },
    {
     "name": "stdout",
     "output_type": "stream",
     "text": [
      "/rds/general/user/kk2219/ephemeral/data/lob_2_vec/full_depth/train_2016/20160907/Y/VOD_EDGX.npy\n",
      "/rds/general/user/kk2219/ephemeral/data/lob_2_vec/full_depth/train_2016/20160907/X/VOD_EDGX.npy\n"
     ]
    },
    {
     "name": "stderr",
     "output_type": "stream",
     "text": [
      "ERROR:root:(14450, 10, 30, 2, 3)\n",
      "ERROR:root:14450\n",
      "ERROR:root:/rds/general/user/kk2219/ephemeral/data/lob_2_vec/full_depth/train_2016/20160907/X/VOD_EDGA.npy\n",
      "ERROR:root:/rds/general/user/kk2219/ephemeral/data/lob_2_vec/full_depth/train_2016/20160907/Y/VOD_EDGA.npy\n"
     ]
    },
    {
     "name": "stdout",
     "output_type": "stream",
     "text": [
      "/rds/general/user/kk2219/ephemeral/data/lob_2_vec/full_depth/train_2016/20160907/Y/VOD_EDGA.npy\n",
      "/rds/general/user/kk2219/ephemeral/data/lob_2_vec/full_depth/train_2016/20160907/X/VOD_EDGA.npy\n"
     ]
    },
    {
     "name": "stderr",
     "output_type": "stream",
     "text": [
      "ERROR:root:(7274, 10, 30, 2, 3)\n",
      "ERROR:root:7274\n",
      "ERROR:root:/rds/general/user/kk2219/ephemeral/data/lob_2_vec/full_depth/train_2016/20160907/X/SPY_BATS.npy\n",
      "ERROR:root:/rds/general/user/kk2219/ephemeral/data/lob_2_vec/full_depth/train_2016/20160907/Y/SPY_BATS.npy\n"
     ]
    },
    {
     "name": "stdout",
     "output_type": "stream",
     "text": [
      "/rds/general/user/kk2219/ephemeral/data/lob_2_vec/full_depth/train_2016/20160907/Y/SPY_BATS.npy\n",
      "/rds/general/user/kk2219/ephemeral/data/lob_2_vec/full_depth/train_2016/20160907/X/SPY_BATS.npy\n"
     ]
    },
    {
     "name": "stderr",
     "output_type": "stream",
     "text": [
      "ERROR:root:(140269, 10, 30, 2, 3)\n",
      "ERROR:root:140269\n",
      "ERROR:root:/rds/general/user/kk2219/ephemeral/data/lob_2_vec/full_depth/train_2016/20160907/X/SPY_NASDAQ.npy\n",
      "ERROR:root:/rds/general/user/kk2219/ephemeral/data/lob_2_vec/full_depth/train_2016/20160907/Y/SPY_NASDAQ.npy\n"
     ]
    },
    {
     "name": "stdout",
     "output_type": "stream",
     "text": [
      "/rds/general/user/kk2219/ephemeral/data/lob_2_vec/full_depth/train_2016/20160907/Y/SPY_NASDAQ.npy\n",
      "/rds/general/user/kk2219/ephemeral/data/lob_2_vec/full_depth/train_2016/20160907/X/SPY_NASDAQ.npy\n"
     ]
    },
    {
     "name": "stderr",
     "output_type": "stream",
     "text": [
      "ERROR:root:(165238, 10, 30, 2, 3)\n",
      "ERROR:root:165238\n",
      "ERROR:root:/rds/general/user/kk2219/ephemeral/data/lob_2_vec/full_depth/train_2016/20160907/X/VOD_ARCA.npy\n",
      "ERROR:root:/rds/general/user/kk2219/ephemeral/data/lob_2_vec/full_depth/train_2016/20160907/Y/VOD_ARCA.npy\n"
     ]
    },
    {
     "name": "stdout",
     "output_type": "stream",
     "text": [
      "/rds/general/user/kk2219/ephemeral/data/lob_2_vec/full_depth/train_2016/20160907/Y/VOD_ARCA.npy\n",
      "/rds/general/user/kk2219/ephemeral/data/lob_2_vec/full_depth/train_2016/20160907/X/VOD_ARCA.npy\n"
     ]
    },
    {
     "name": "stderr",
     "output_type": "stream",
     "text": [
      "ERROR:root:(32655, 10, 30, 2, 3)\n",
      "ERROR:root:32655\n",
      "ERROR:root:/rds/general/user/kk2219/ephemeral/data/lob_2_vec/full_depth/train_2016/20160907/X/GOOG_BATS.npy\n",
      "ERROR:root:/rds/general/user/kk2219/ephemeral/data/lob_2_vec/full_depth/train_2016/20160907/Y/GOOG_BATS.npy\n"
     ]
    },
    {
     "name": "stdout",
     "output_type": "stream",
     "text": [
      "/rds/general/user/kk2219/ephemeral/data/lob_2_vec/full_depth/train_2016/20160907/Y/GOOG_BATS.npy\n",
      "/rds/general/user/kk2219/ephemeral/data/lob_2_vec/full_depth/train_2016/20160907/X/GOOG_BATS.npy\n"
     ]
    },
    {
     "name": "stderr",
     "output_type": "stream",
     "text": [
      "ERROR:root:(4393, 10, 30, 2, 3)\n",
      "ERROR:root:4393\n",
      "ERROR:root:/rds/general/user/kk2219/ephemeral/data/lob_2_vec/full_depth/train_2016/20160907/X/IBM_BATS.npy\n",
      "ERROR:root:/rds/general/user/kk2219/ephemeral/data/lob_2_vec/full_depth/train_2016/20160907/Y/IBM_BATS.npy\n"
     ]
    },
    {
     "name": "stdout",
     "output_type": "stream",
     "text": [
      "/rds/general/user/kk2219/ephemeral/data/lob_2_vec/full_depth/train_2016/20160907/Y/IBM_BATS.npy\n",
      "/rds/general/user/kk2219/ephemeral/data/lob_2_vec/full_depth/train_2016/20160907/X/IBM_BATS.npy\n"
     ]
    },
    {
     "name": "stderr",
     "output_type": "stream",
     "text": [
      "ERROR:root:(10180, 10, 30, 2, 3)\n",
      "ERROR:root:10180\n",
      "ERROR:root:/rds/general/user/kk2219/ephemeral/data/lob_2_vec/full_depth/train_2016/20160907/X/IBM_EDGX.npy\n",
      "ERROR:root:/rds/general/user/kk2219/ephemeral/data/lob_2_vec/full_depth/train_2016/20160907/Y/IBM_EDGX.npy\n",
      "ERROR:root:(2155, 10, 30, 2, 3)\n",
      "ERROR:root:2155\n"
     ]
    },
    {
     "name": "stdout",
     "output_type": "stream",
     "text": [
      "/rds/general/user/kk2219/ephemeral/data/lob_2_vec/full_depth/train_2016/20160907/Y/IBM_EDGX.npy\n",
      "/rds/general/user/kk2219/ephemeral/data/lob_2_vec/full_depth/train_2016/20160907/X/IBM_EDGX.npy\n"
     ]
    },
    {
     "name": "stderr",
     "output_type": "stream",
     "text": [
      "ERROR:root:/rds/general/user/kk2219/ephemeral/data/lob_2_vec/full_depth/train_2016/20160907/X/ABEO_NASDAQ.npy\n",
      "ERROR:root:/rds/general/user/kk2219/ephemeral/data/lob_2_vec/full_depth/train_2016/20160907/Y/ABEO_NASDAQ.npy\n",
      "ERROR:root:(196, 10, 30, 2, 3)\n",
      "ERROR:root:196\n"
     ]
    },
    {
     "name": "stdout",
     "output_type": "stream",
     "text": [
      "/rds/general/user/kk2219/ephemeral/data/lob_2_vec/full_depth/train_2016/20160907/Y/ABEO_NASDAQ.npy\n",
      "/rds/general/user/kk2219/ephemeral/data/lob_2_vec/full_depth/train_2016/20160907/X/ABEO_NASDAQ.npy\n"
     ]
    },
    {
     "name": "stderr",
     "output_type": "stream",
     "text": [
      "ERROR:root:/rds/general/user/kk2219/ephemeral/data/lob_2_vec/full_depth/train_2016/20160901/X/IBM_NASDAQ.npy\n",
      "ERROR:root:/rds/general/user/kk2219/ephemeral/data/lob_2_vec/full_depth/train_2016/20160901/Y/IBM_NASDAQ.npy\n"
     ]
    },
    {
     "name": "stdout",
     "output_type": "stream",
     "text": [
      "/rds/general/user/kk2219/ephemeral/data/lob_2_vec/full_depth/train_2016/20160901/Y/IBM_NASDAQ.npy\n",
      "/rds/general/user/kk2219/ephemeral/data/lob_2_vec/full_depth/train_2016/20160901/X/IBM_NASDAQ.npy\n"
     ]
    },
    {
     "name": "stderr",
     "output_type": "stream",
     "text": [
      "ERROR:root:(18361, 10, 30, 2, 3)\n",
      "ERROR:root:18361\n",
      "ERROR:root:/rds/general/user/kk2219/ephemeral/data/lob_2_vec/full_depth/train_2016/20160901/X/ABEO_EDGX.npy\n",
      "ERROR:root:/rds/general/user/kk2219/ephemeral/data/lob_2_vec/full_depth/train_2016/20160901/Y/ABEO_EDGX.npy\n",
      "ERROR:root:(67, 10, 30, 2, 3)\n",
      "ERROR:root:67\n"
     ]
    },
    {
     "name": "stdout",
     "output_type": "stream",
     "text": [
      "/rds/general/user/kk2219/ephemeral/data/lob_2_vec/full_depth/train_2016/20160901/Y/ABEO_EDGX.npy\n",
      "/rds/general/user/kk2219/ephemeral/data/lob_2_vec/full_depth/train_2016/20160901/X/ABEO_EDGX.npy\n"
     ]
    },
    {
     "name": "stderr",
     "output_type": "stream",
     "text": [
      "ERROR:root:/rds/general/user/kk2219/ephemeral/data/lob_2_vec/full_depth/train_2016/20160901/X/GOOG_NASDAQ.npy\n",
      "ERROR:root:/rds/general/user/kk2219/ephemeral/data/lob_2_vec/full_depth/train_2016/20160901/Y/GOOG_NASDAQ.npy\n"
     ]
    },
    {
     "name": "stdout",
     "output_type": "stream",
     "text": [
      "/rds/general/user/kk2219/ephemeral/data/lob_2_vec/full_depth/train_2016/20160901/Y/GOOG_NASDAQ.npy\n",
      "/rds/general/user/kk2219/ephemeral/data/lob_2_vec/full_depth/train_2016/20160901/X/GOOG_NASDAQ.npy\n"
     ]
    },
    {
     "name": "stderr",
     "output_type": "stream",
     "text": [
      "ERROR:root:(42230, 10, 30, 2, 3)\n",
      "ERROR:root:42230\n",
      "ERROR:root:/rds/general/user/kk2219/ephemeral/data/lob_2_vec/full_depth/train_2016/20160901/X/ABEO_BATS.npy\n",
      "ERROR:root:/rds/general/user/kk2219/ephemeral/data/lob_2_vec/full_depth/train_2016/20160901/Y/ABEO_BATS.npy\n",
      "ERROR:root:(180, 10, 30, 2, 3)\n",
      "ERROR:root:180\n"
     ]
    },
    {
     "name": "stdout",
     "output_type": "stream",
     "text": [
      "/rds/general/user/kk2219/ephemeral/data/lob_2_vec/full_depth/train_2016/20160901/Y/ABEO_BATS.npy\n",
      "/rds/general/user/kk2219/ephemeral/data/lob_2_vec/full_depth/train_2016/20160901/X/ABEO_BATS.npy\n"
     ]
    },
    {
     "name": "stderr",
     "output_type": "stream",
     "text": [
      "ERROR:root:/rds/general/user/kk2219/ephemeral/data/lob_2_vec/full_depth/train_2016/20160901/X/ABEO_ARCA.npy\n",
      "ERROR:root:/rds/general/user/kk2219/ephemeral/data/lob_2_vec/full_depth/train_2016/20160901/Y/ABEO_ARCA.npy\n",
      "ERROR:root:(128, 10, 30, 2, 3)\n",
      "ERROR:root:128\n"
     ]
    },
    {
     "name": "stdout",
     "output_type": "stream",
     "text": [
      "/rds/general/user/kk2219/ephemeral/data/lob_2_vec/full_depth/train_2016/20160901/Y/ABEO_ARCA.npy\n",
      "/rds/general/user/kk2219/ephemeral/data/lob_2_vec/full_depth/train_2016/20160901/X/ABEO_ARCA.npy\n"
     ]
    },
    {
     "name": "stderr",
     "output_type": "stream",
     "text": [
      "ERROR:root:/rds/general/user/kk2219/ephemeral/data/lob_2_vec/full_depth/train_2016/20160901/X/IBM_EDGA.npy\n",
      "ERROR:root:/rds/general/user/kk2219/ephemeral/data/lob_2_vec/full_depth/train_2016/20160901/Y/IBM_EDGA.npy\n",
      "ERROR:root:(1955, 10, 30, 2, 3)\n",
      "ERROR:root:1955\n"
     ]
    },
    {
     "name": "stdout",
     "output_type": "stream",
     "text": [
      "/rds/general/user/kk2219/ephemeral/data/lob_2_vec/full_depth/train_2016/20160901/Y/IBM_EDGA.npy\n",
      "/rds/general/user/kk2219/ephemeral/data/lob_2_vec/full_depth/train_2016/20160901/X/IBM_EDGA.npy\n"
     ]
    },
    {
     "name": "stderr",
     "output_type": "stream",
     "text": [
      "ERROR:root:/rds/general/user/kk2219/ephemeral/data/lob_2_vec/full_depth/train_2016/20160901/X/GOOG_ARCA.npy\n",
      "ERROR:root:/rds/general/user/kk2219/ephemeral/data/lob_2_vec/full_depth/train_2016/20160901/Y/GOOG_ARCA.npy\n"
     ]
    },
    {
     "name": "stdout",
     "output_type": "stream",
     "text": [
      "/rds/general/user/kk2219/ephemeral/data/lob_2_vec/full_depth/train_2016/20160901/Y/GOOG_ARCA.npy\n",
      "/rds/general/user/kk2219/ephemeral/data/lob_2_vec/full_depth/train_2016/20160901/X/GOOG_ARCA.npy\n"
     ]
    },
    {
     "name": "stderr",
     "output_type": "stream",
     "text": [
      "ERROR:root:(8553, 10, 30, 2, 3)\n",
      "ERROR:root:8553\n",
      "ERROR:root:/rds/general/user/kk2219/ephemeral/data/lob_2_vec/full_depth/train_2016/20160901/X/VOD_NASDAQ.npy\n",
      "ERROR:root:/rds/general/user/kk2219/ephemeral/data/lob_2_vec/full_depth/train_2016/20160901/Y/VOD_NASDAQ.npy\n"
     ]
    },
    {
     "name": "stdout",
     "output_type": "stream",
     "text": [
      "/rds/general/user/kk2219/ephemeral/data/lob_2_vec/full_depth/train_2016/20160901/Y/VOD_NASDAQ.npy\n",
      "/rds/general/user/kk2219/ephemeral/data/lob_2_vec/full_depth/train_2016/20160901/X/VOD_NASDAQ.npy\n"
     ]
    },
    {
     "name": "stderr",
     "output_type": "stream",
     "text": [
      "ERROR:root:(47877, 10, 30, 2, 3)\n",
      "ERROR:root:47877\n",
      "ERROR:root:/rds/general/user/kk2219/ephemeral/data/lob_2_vec/full_depth/train_2016/20160901/X/VOD_BATS.npy\n",
      "ERROR:root:/rds/general/user/kk2219/ephemeral/data/lob_2_vec/full_depth/train_2016/20160901/Y/VOD_BATS.npy\n"
     ]
    },
    {
     "name": "stdout",
     "output_type": "stream",
     "text": [
      "/rds/general/user/kk2219/ephemeral/data/lob_2_vec/full_depth/train_2016/20160901/Y/VOD_BATS.npy\n",
      "/rds/general/user/kk2219/ephemeral/data/lob_2_vec/full_depth/train_2016/20160901/X/VOD_BATS.npy\n"
     ]
    },
    {
     "name": "stderr",
     "output_type": "stream",
     "text": [
      "ERROR:root:(22675, 10, 30, 2, 3)\n",
      "ERROR:root:22675\n",
      "ERROR:root:/rds/general/user/kk2219/ephemeral/data/lob_2_vec/full_depth/train_2016/20160901/X/ABEO_EDGA.npy\n",
      "ERROR:root:/rds/general/user/kk2219/ephemeral/data/lob_2_vec/full_depth/train_2016/20160901/Y/ABEO_EDGA.npy\n",
      "ERROR:root:(31, 10, 30, 2, 3)\n",
      "ERROR:root:31\n"
     ]
    },
    {
     "name": "stdout",
     "output_type": "stream",
     "text": [
      "/rds/general/user/kk2219/ephemeral/data/lob_2_vec/full_depth/train_2016/20160901/Y/ABEO_EDGA.npy\n",
      "/rds/general/user/kk2219/ephemeral/data/lob_2_vec/full_depth/train_2016/20160901/X/ABEO_EDGA.npy\n"
     ]
    },
    {
     "name": "stderr",
     "output_type": "stream",
     "text": [
      "ERROR:root:/rds/general/user/kk2219/ephemeral/data/lob_2_vec/full_depth/train_2016/20160901/X/GOOG_EDGA.npy\n",
      "ERROR:root:/rds/general/user/kk2219/ephemeral/data/lob_2_vec/full_depth/train_2016/20160901/Y/GOOG_EDGA.npy\n",
      "ERROR:root:(1132, 10, 30, 2, 3)\n",
      "ERROR:root:1132\n"
     ]
    },
    {
     "name": "stdout",
     "output_type": "stream",
     "text": [
      "/rds/general/user/kk2219/ephemeral/data/lob_2_vec/full_depth/train_2016/20160901/Y/GOOG_EDGA.npy\n",
      "/rds/general/user/kk2219/ephemeral/data/lob_2_vec/full_depth/train_2016/20160901/X/GOOG_EDGA.npy\n"
     ]
    },
    {
     "name": "stderr",
     "output_type": "stream",
     "text": [
      "ERROR:root:/rds/general/user/kk2219/ephemeral/data/lob_2_vec/full_depth/train_2016/20160901/X/IBM_ARCA.npy\n",
      "ERROR:root:/rds/general/user/kk2219/ephemeral/data/lob_2_vec/full_depth/train_2016/20160901/Y/IBM_ARCA.npy\n"
     ]
    },
    {
     "name": "stdout",
     "output_type": "stream",
     "text": [
      "/rds/general/user/kk2219/ephemeral/data/lob_2_vec/full_depth/train_2016/20160901/Y/IBM_ARCA.npy\n",
      "/rds/general/user/kk2219/ephemeral/data/lob_2_vec/full_depth/train_2016/20160901/X/IBM_ARCA.npy\n"
     ]
    },
    {
     "name": "stderr",
     "output_type": "stream",
     "text": [
      "ERROR:root:(12430, 10, 30, 2, 3)\n",
      "ERROR:root:12430\n",
      "ERROR:root:/rds/general/user/kk2219/ephemeral/data/lob_2_vec/full_depth/train_2016/20160901/X/GOOG_EDGX.npy\n",
      "ERROR:root:/rds/general/user/kk2219/ephemeral/data/lob_2_vec/full_depth/train_2016/20160901/Y/GOOG_EDGX.npy\n"
     ]
    },
    {
     "name": "stdout",
     "output_type": "stream",
     "text": [
      "/rds/general/user/kk2219/ephemeral/data/lob_2_vec/full_depth/train_2016/20160901/Y/GOOG_EDGX.npy\n",
      "/rds/general/user/kk2219/ephemeral/data/lob_2_vec/full_depth/train_2016/20160901/X/GOOG_EDGX.npy\n"
     ]
    },
    {
     "name": "stderr",
     "output_type": "stream",
     "text": [
      "ERROR:root:(5030, 10, 30, 2, 3)\n",
      "ERROR:root:5030\n",
      "ERROR:root:/rds/general/user/kk2219/ephemeral/data/lob_2_vec/full_depth/train_2016/20160901/X/VOD_EDGX.npy\n",
      "ERROR:root:/rds/general/user/kk2219/ephemeral/data/lob_2_vec/full_depth/train_2016/20160901/Y/VOD_EDGX.npy\n"
     ]
    },
    {
     "name": "stdout",
     "output_type": "stream",
     "text": [
      "/rds/general/user/kk2219/ephemeral/data/lob_2_vec/full_depth/train_2016/20160901/Y/VOD_EDGX.npy\n",
      "/rds/general/user/kk2219/ephemeral/data/lob_2_vec/full_depth/train_2016/20160901/X/VOD_EDGX.npy\n"
     ]
    },
    {
     "name": "stderr",
     "output_type": "stream",
     "text": [
      "ERROR:root:(16174, 10, 30, 2, 3)\n",
      "ERROR:root:16174\n",
      "ERROR:root:/rds/general/user/kk2219/ephemeral/data/lob_2_vec/full_depth/train_2016/20160901/X/VOD_EDGA.npy\n",
      "ERROR:root:/rds/general/user/kk2219/ephemeral/data/lob_2_vec/full_depth/train_2016/20160901/Y/VOD_EDGA.npy\n"
     ]
    },
    {
     "name": "stdout",
     "output_type": "stream",
     "text": [
      "/rds/general/user/kk2219/ephemeral/data/lob_2_vec/full_depth/train_2016/20160901/Y/VOD_EDGA.npy\n",
      "/rds/general/user/kk2219/ephemeral/data/lob_2_vec/full_depth/train_2016/20160901/X/VOD_EDGA.npy\n"
     ]
    },
    {
     "name": "stderr",
     "output_type": "stream",
     "text": [
      "ERROR:root:(7778, 10, 30, 2, 3)\n",
      "ERROR:root:7778\n",
      "ERROR:root:/rds/general/user/kk2219/ephemeral/data/lob_2_vec/full_depth/train_2016/20160901/X/VOD_ARCA.npy\n",
      "ERROR:root:/rds/general/user/kk2219/ephemeral/data/lob_2_vec/full_depth/train_2016/20160901/Y/VOD_ARCA.npy\n"
     ]
    },
    {
     "name": "stdout",
     "output_type": "stream",
     "text": [
      "/rds/general/user/kk2219/ephemeral/data/lob_2_vec/full_depth/train_2016/20160901/Y/VOD_ARCA.npy\n",
      "/rds/general/user/kk2219/ephemeral/data/lob_2_vec/full_depth/train_2016/20160901/X/VOD_ARCA.npy\n"
     ]
    },
    {
     "name": "stderr",
     "output_type": "stream",
     "text": [
      "ERROR:root:(48753, 10, 30, 2, 3)\n",
      "ERROR:root:48753\n",
      "ERROR:root:/rds/general/user/kk2219/ephemeral/data/lob_2_vec/full_depth/train_2016/20160901/X/GOOG_BATS.npy\n",
      "ERROR:root:/rds/general/user/kk2219/ephemeral/data/lob_2_vec/full_depth/train_2016/20160901/Y/GOOG_BATS.npy\n"
     ]
    },
    {
     "name": "stdout",
     "output_type": "stream",
     "text": [
      "/rds/general/user/kk2219/ephemeral/data/lob_2_vec/full_depth/train_2016/20160901/Y/GOOG_BATS.npy\n",
      "/rds/general/user/kk2219/ephemeral/data/lob_2_vec/full_depth/train_2016/20160901/X/GOOG_BATS.npy\n"
     ]
    },
    {
     "name": "stderr",
     "output_type": "stream",
     "text": [
      "ERROR:root:(6943, 10, 30, 2, 3)\n",
      "ERROR:root:6943\n",
      "ERROR:root:/rds/general/user/kk2219/ephemeral/data/lob_2_vec/full_depth/train_2016/20160901/X/IBM_BATS.npy\n",
      "ERROR:root:/rds/general/user/kk2219/ephemeral/data/lob_2_vec/full_depth/train_2016/20160901/Y/IBM_BATS.npy\n"
     ]
    },
    {
     "name": "stdout",
     "output_type": "stream",
     "text": [
      "/rds/general/user/kk2219/ephemeral/data/lob_2_vec/full_depth/train_2016/20160901/Y/IBM_BATS.npy\n",
      "/rds/general/user/kk2219/ephemeral/data/lob_2_vec/full_depth/train_2016/20160901/X/IBM_BATS.npy\n"
     ]
    },
    {
     "name": "stderr",
     "output_type": "stream",
     "text": [
      "ERROR:root:(7328, 10, 30, 2, 3)\n",
      "ERROR:root:7328\n",
      "ERROR:root:/rds/general/user/kk2219/ephemeral/data/lob_2_vec/full_depth/train_2016/20160901/X/IBM_EDGX.npy\n",
      "ERROR:root:/rds/general/user/kk2219/ephemeral/data/lob_2_vec/full_depth/train_2016/20160901/Y/IBM_EDGX.npy\n",
      "ERROR:root:(2721, 10, 30, 2, 3)\n",
      "ERROR:root:2721\n"
     ]
    },
    {
     "name": "stdout",
     "output_type": "stream",
     "text": [
      "/rds/general/user/kk2219/ephemeral/data/lob_2_vec/full_depth/train_2016/20160901/Y/IBM_EDGX.npy\n",
      "/rds/general/user/kk2219/ephemeral/data/lob_2_vec/full_depth/train_2016/20160901/X/IBM_EDGX.npy\n"
     ]
    },
    {
     "name": "stderr",
     "output_type": "stream",
     "text": [
      "ERROR:root:/rds/general/user/kk2219/ephemeral/data/lob_2_vec/full_depth/train_2016/20160901/X/ABEO_NASDAQ.npy\n",
      "ERROR:root:/rds/general/user/kk2219/ephemeral/data/lob_2_vec/full_depth/train_2016/20160901/Y/ABEO_NASDAQ.npy\n",
      "ERROR:root:(344, 10, 30, 2, 3)\n",
      "ERROR:root:344\n"
     ]
    },
    {
     "name": "stdout",
     "output_type": "stream",
     "text": [
      "/rds/general/user/kk2219/ephemeral/data/lob_2_vec/full_depth/train_2016/20160901/Y/ABEO_NASDAQ.npy\n",
      "/rds/general/user/kk2219/ephemeral/data/lob_2_vec/full_depth/train_2016/20160901/X/ABEO_NASDAQ.npy\n"
     ]
    },
    {
     "name": "stderr",
     "output_type": "stream",
     "text": [
      "ERROR:root:/rds/general/user/kk2219/ephemeral/data/lob_2_vec/full_depth/train_2016/20160908/X/IBM_NASDAQ.npy\n",
      "ERROR:root:/rds/general/user/kk2219/ephemeral/data/lob_2_vec/full_depth/train_2016/20160908/Y/IBM_NASDAQ.npy\n"
     ]
    },
    {
     "name": "stdout",
     "output_type": "stream",
     "text": [
      "/rds/general/user/kk2219/ephemeral/data/lob_2_vec/full_depth/train_2016/20160908/Y/IBM_NASDAQ.npy\n",
      "/rds/general/user/kk2219/ephemeral/data/lob_2_vec/full_depth/train_2016/20160908/X/IBM_NASDAQ.npy\n"
     ]
    },
    {
     "name": "stderr",
     "output_type": "stream",
     "text": [
      "ERROR:root:(18699, 10, 30, 2, 3)\n",
      "ERROR:root:18699\n",
      "ERROR:root:/rds/general/user/kk2219/ephemeral/data/lob_2_vec/full_depth/train_2016/20160908/X/ABEO_EDGX.npy\n",
      "ERROR:root:/rds/general/user/kk2219/ephemeral/data/lob_2_vec/full_depth/train_2016/20160908/Y/ABEO_EDGX.npy\n",
      "ERROR:root:(114, 10, 30, 2, 3)\n",
      "ERROR:root:114\n"
     ]
    },
    {
     "name": "stdout",
     "output_type": "stream",
     "text": [
      "/rds/general/user/kk2219/ephemeral/data/lob_2_vec/full_depth/train_2016/20160908/Y/ABEO_EDGX.npy\n",
      "/rds/general/user/kk2219/ephemeral/data/lob_2_vec/full_depth/train_2016/20160908/X/ABEO_EDGX.npy\n"
     ]
    },
    {
     "name": "stderr",
     "output_type": "stream",
     "text": [
      "ERROR:root:/rds/general/user/kk2219/ephemeral/data/lob_2_vec/full_depth/train_2016/20160908/X/GOOG_NASDAQ.npy\n",
      "ERROR:root:/rds/general/user/kk2219/ephemeral/data/lob_2_vec/full_depth/train_2016/20160908/Y/GOOG_NASDAQ.npy\n"
     ]
    },
    {
     "name": "stdout",
     "output_type": "stream",
     "text": [
      "/rds/general/user/kk2219/ephemeral/data/lob_2_vec/full_depth/train_2016/20160908/Y/GOOG_NASDAQ.npy\n",
      "/rds/general/user/kk2219/ephemeral/data/lob_2_vec/full_depth/train_2016/20160908/X/GOOG_NASDAQ.npy\n"
     ]
    },
    {
     "name": "stderr",
     "output_type": "stream",
     "text": [
      "ERROR:root:(29437, 10, 30, 2, 3)\n",
      "ERROR:root:29437\n",
      "ERROR:root:/rds/general/user/kk2219/ephemeral/data/lob_2_vec/full_depth/train_2016/20160908/X/ABEO_BATS.npy\n",
      "ERROR:root:/rds/general/user/kk2219/ephemeral/data/lob_2_vec/full_depth/train_2016/20160908/Y/ABEO_BATS.npy\n",
      "ERROR:root:(154, 10, 30, 2, 3)\n",
      "ERROR:root:154\n"
     ]
    },
    {
     "name": "stdout",
     "output_type": "stream",
     "text": [
      "/rds/general/user/kk2219/ephemeral/data/lob_2_vec/full_depth/train_2016/20160908/Y/ABEO_BATS.npy\n",
      "/rds/general/user/kk2219/ephemeral/data/lob_2_vec/full_depth/train_2016/20160908/X/ABEO_BATS.npy\n"
     ]
    },
    {
     "name": "stderr",
     "output_type": "stream",
     "text": [
      "ERROR:root:/rds/general/user/kk2219/ephemeral/data/lob_2_vec/full_depth/train_2016/20160908/X/ABEO_ARCA.npy\n",
      "ERROR:root:/rds/general/user/kk2219/ephemeral/data/lob_2_vec/full_depth/train_2016/20160908/Y/ABEO_ARCA.npy\n",
      "ERROR:root:(165, 10, 30, 2, 3)\n",
      "ERROR:root:165\n"
     ]
    },
    {
     "name": "stdout",
     "output_type": "stream",
     "text": [
      "/rds/general/user/kk2219/ephemeral/data/lob_2_vec/full_depth/train_2016/20160908/Y/ABEO_ARCA.npy\n",
      "/rds/general/user/kk2219/ephemeral/data/lob_2_vec/full_depth/train_2016/20160908/X/ABEO_ARCA.npy\n"
     ]
    },
    {
     "name": "stderr",
     "output_type": "stream",
     "text": [
      "ERROR:root:/rds/general/user/kk2219/ephemeral/data/lob_2_vec/full_depth/train_2016/20160908/X/IBM_EDGA.npy\n",
      "ERROR:root:/rds/general/user/kk2219/ephemeral/data/lob_2_vec/full_depth/train_2016/20160908/Y/IBM_EDGA.npy\n",
      "ERROR:root:(1709, 10, 30, 2, 3)\n",
      "ERROR:root:1709\n"
     ]
    },
    {
     "name": "stdout",
     "output_type": "stream",
     "text": [
      "/rds/general/user/kk2219/ephemeral/data/lob_2_vec/full_depth/train_2016/20160908/Y/IBM_EDGA.npy\n",
      "/rds/general/user/kk2219/ephemeral/data/lob_2_vec/full_depth/train_2016/20160908/X/IBM_EDGA.npy\n"
     ]
    },
    {
     "name": "stderr",
     "output_type": "stream",
     "text": [
      "ERROR:root:/rds/general/user/kk2219/ephemeral/data/lob_2_vec/full_depth/train_2016/20160908/X/GOOG_ARCA.npy\n",
      "ERROR:root:/rds/general/user/kk2219/ephemeral/data/lob_2_vec/full_depth/train_2016/20160908/Y/GOOG_ARCA.npy\n"
     ]
    },
    {
     "name": "stdout",
     "output_type": "stream",
     "text": [
      "/rds/general/user/kk2219/ephemeral/data/lob_2_vec/full_depth/train_2016/20160908/Y/GOOG_ARCA.npy\n",
      "/rds/general/user/kk2219/ephemeral/data/lob_2_vec/full_depth/train_2016/20160908/X/GOOG_ARCA.npy\n"
     ]
    },
    {
     "name": "stderr",
     "output_type": "stream",
     "text": [
      "ERROR:root:(9000, 10, 30, 2, 3)\n",
      "ERROR:root:9000\n",
      "ERROR:root:/rds/general/user/kk2219/ephemeral/data/lob_2_vec/full_depth/train_2016/20160908/X/VOD_NASDAQ.npy\n",
      "ERROR:root:/rds/general/user/kk2219/ephemeral/data/lob_2_vec/full_depth/train_2016/20160908/Y/VOD_NASDAQ.npy\n"
     ]
    },
    {
     "name": "stdout",
     "output_type": "stream",
     "text": [
      "/rds/general/user/kk2219/ephemeral/data/lob_2_vec/full_depth/train_2016/20160908/Y/VOD_NASDAQ.npy\n",
      "/rds/general/user/kk2219/ephemeral/data/lob_2_vec/full_depth/train_2016/20160908/X/VOD_NASDAQ.npy\n"
     ]
    },
    {
     "name": "stderr",
     "output_type": "stream",
     "text": [
      "ERROR:root:(49182, 10, 30, 2, 3)\n",
      "ERROR:root:49182\n",
      "ERROR:root:/rds/general/user/kk2219/ephemeral/data/lob_2_vec/full_depth/train_2016/20160908/X/VOD_BATS.npy\n",
      "ERROR:root:/rds/general/user/kk2219/ephemeral/data/lob_2_vec/full_depth/train_2016/20160908/Y/VOD_BATS.npy\n"
     ]
    },
    {
     "name": "stdout",
     "output_type": "stream",
     "text": [
      "/rds/general/user/kk2219/ephemeral/data/lob_2_vec/full_depth/train_2016/20160908/Y/VOD_BATS.npy\n",
      "/rds/general/user/kk2219/ephemeral/data/lob_2_vec/full_depth/train_2016/20160908/X/VOD_BATS.npy\n"
     ]
    },
    {
     "name": "stderr",
     "output_type": "stream",
     "text": [
      "ERROR:root:(25052, 10, 30, 2, 3)\n",
      "ERROR:root:25052\n",
      "ERROR:root:/rds/general/user/kk2219/ephemeral/data/lob_2_vec/full_depth/train_2016/20160908/X/ABEO_EDGA.npy\n",
      "ERROR:root:/rds/general/user/kk2219/ephemeral/data/lob_2_vec/full_depth/train_2016/20160908/Y/ABEO_EDGA.npy\n",
      "ERROR:root:(27, 10, 30, 2, 3)\n",
      "ERROR:root:27\n"
     ]
    },
    {
     "name": "stdout",
     "output_type": "stream",
     "text": [
      "/rds/general/user/kk2219/ephemeral/data/lob_2_vec/full_depth/train_2016/20160908/Y/ABEO_EDGA.npy\n",
      "/rds/general/user/kk2219/ephemeral/data/lob_2_vec/full_depth/train_2016/20160908/X/ABEO_EDGA.npy\n"
     ]
    },
    {
     "name": "stderr",
     "output_type": "stream",
     "text": [
      "ERROR:root:/rds/general/user/kk2219/ephemeral/data/lob_2_vec/full_depth/train_2016/20160908/X/GOOG_EDGA.npy\n",
      "ERROR:root:/rds/general/user/kk2219/ephemeral/data/lob_2_vec/full_depth/train_2016/20160908/Y/GOOG_EDGA.npy\n",
      "ERROR:root:(536, 10, 30, 2, 3)\n",
      "ERROR:root:536\n"
     ]
    },
    {
     "name": "stdout",
     "output_type": "stream",
     "text": [
      "/rds/general/user/kk2219/ephemeral/data/lob_2_vec/full_depth/train_2016/20160908/Y/GOOG_EDGA.npy\n",
      "/rds/general/user/kk2219/ephemeral/data/lob_2_vec/full_depth/train_2016/20160908/X/GOOG_EDGA.npy\n"
     ]
    },
    {
     "name": "stderr",
     "output_type": "stream",
     "text": [
      "ERROR:root:/rds/general/user/kk2219/ephemeral/data/lob_2_vec/full_depth/train_2016/20160908/X/IBM_ARCA.npy\n",
      "ERROR:root:/rds/general/user/kk2219/ephemeral/data/lob_2_vec/full_depth/train_2016/20160908/Y/IBM_ARCA.npy\n"
     ]
    },
    {
     "name": "stdout",
     "output_type": "stream",
     "text": [
      "/rds/general/user/kk2219/ephemeral/data/lob_2_vec/full_depth/train_2016/20160908/Y/IBM_ARCA.npy\n",
      "/rds/general/user/kk2219/ephemeral/data/lob_2_vec/full_depth/train_2016/20160908/X/IBM_ARCA.npy\n"
     ]
    },
    {
     "name": "stderr",
     "output_type": "stream",
     "text": [
      "ERROR:root:(7871, 10, 30, 2, 3)\n",
      "ERROR:root:7871\n",
      "ERROR:root:/rds/general/user/kk2219/ephemeral/data/lob_2_vec/full_depth/train_2016/20160908/X/GOOG_EDGX.npy\n",
      "ERROR:root:/rds/general/user/kk2219/ephemeral/data/lob_2_vec/full_depth/train_2016/20160908/Y/GOOG_EDGX.npy\n",
      "ERROR:root:(1403, 10, 30, 2, 3)\n",
      "ERROR:root:1403\n"
     ]
    },
    {
     "name": "stdout",
     "output_type": "stream",
     "text": [
      "/rds/general/user/kk2219/ephemeral/data/lob_2_vec/full_depth/train_2016/20160908/Y/GOOG_EDGX.npy\n",
      "/rds/general/user/kk2219/ephemeral/data/lob_2_vec/full_depth/train_2016/20160908/X/GOOG_EDGX.npy\n"
     ]
    },
    {
     "name": "stderr",
     "output_type": "stream",
     "text": [
      "ERROR:root:/rds/general/user/kk2219/ephemeral/data/lob_2_vec/full_depth/train_2016/20160908/X/VOD_EDGX.npy\n",
      "ERROR:root:/rds/general/user/kk2219/ephemeral/data/lob_2_vec/full_depth/train_2016/20160908/Y/VOD_EDGX.npy\n"
     ]
    },
    {
     "name": "stdout",
     "output_type": "stream",
     "text": [
      "/rds/general/user/kk2219/ephemeral/data/lob_2_vec/full_depth/train_2016/20160908/Y/VOD_EDGX.npy\n",
      "/rds/general/user/kk2219/ephemeral/data/lob_2_vec/full_depth/train_2016/20160908/X/VOD_EDGX.npy\n"
     ]
    },
    {
     "name": "stderr",
     "output_type": "stream",
     "text": [
      "ERROR:root:(20074, 10, 30, 2, 3)\n",
      "ERROR:root:20074\n",
      "ERROR:root:/rds/general/user/kk2219/ephemeral/data/lob_2_vec/full_depth/train_2016/20160908/X/VOD_EDGA.npy\n",
      "ERROR:root:/rds/general/user/kk2219/ephemeral/data/lob_2_vec/full_depth/train_2016/20160908/Y/VOD_EDGA.npy\n"
     ]
    },
    {
     "name": "stdout",
     "output_type": "stream",
     "text": [
      "/rds/general/user/kk2219/ephemeral/data/lob_2_vec/full_depth/train_2016/20160908/Y/VOD_EDGA.npy\n",
      "/rds/general/user/kk2219/ephemeral/data/lob_2_vec/full_depth/train_2016/20160908/X/VOD_EDGA.npy\n"
     ]
    },
    {
     "name": "stderr",
     "output_type": "stream",
     "text": [
      "ERROR:root:(9666, 10, 30, 2, 3)\n",
      "ERROR:root:9666\n",
      "ERROR:root:/rds/general/user/kk2219/ephemeral/data/lob_2_vec/full_depth/train_2016/20160908/X/VOD_ARCA.npy\n",
      "ERROR:root:/rds/general/user/kk2219/ephemeral/data/lob_2_vec/full_depth/train_2016/20160908/Y/VOD_ARCA.npy\n"
     ]
    },
    {
     "name": "stdout",
     "output_type": "stream",
     "text": [
      "/rds/general/user/kk2219/ephemeral/data/lob_2_vec/full_depth/train_2016/20160908/Y/VOD_ARCA.npy\n",
      "/rds/general/user/kk2219/ephemeral/data/lob_2_vec/full_depth/train_2016/20160908/X/VOD_ARCA.npy\n"
     ]
    },
    {
     "name": "stderr",
     "output_type": "stream",
     "text": [
      "ERROR:root:(40924, 10, 30, 2, 3)\n",
      "ERROR:root:40924\n",
      "ERROR:root:/rds/general/user/kk2219/ephemeral/data/lob_2_vec/full_depth/train_2016/20160908/X/GOOG_BATS.npy\n",
      "ERROR:root:/rds/general/user/kk2219/ephemeral/data/lob_2_vec/full_depth/train_2016/20160908/Y/GOOG_BATS.npy\n"
     ]
    },
    {
     "name": "stdout",
     "output_type": "stream",
     "text": [
      "/rds/general/user/kk2219/ephemeral/data/lob_2_vec/full_depth/train_2016/20160908/Y/GOOG_BATS.npy\n",
      "/rds/general/user/kk2219/ephemeral/data/lob_2_vec/full_depth/train_2016/20160908/X/GOOG_BATS.npy\n"
     ]
    },
    {
     "name": "stderr",
     "output_type": "stream",
     "text": [
      "ERROR:root:(6284, 10, 30, 2, 3)\n",
      "ERROR:root:6284\n",
      "ERROR:root:/rds/general/user/kk2219/ephemeral/data/lob_2_vec/full_depth/train_2016/20160908/X/IBM_BATS.npy\n",
      "ERROR:root:/rds/general/user/kk2219/ephemeral/data/lob_2_vec/full_depth/train_2016/20160908/Y/IBM_BATS.npy\n"
     ]
    },
    {
     "name": "stdout",
     "output_type": "stream",
     "text": [
      "/rds/general/user/kk2219/ephemeral/data/lob_2_vec/full_depth/train_2016/20160908/Y/IBM_BATS.npy\n",
      "/rds/general/user/kk2219/ephemeral/data/lob_2_vec/full_depth/train_2016/20160908/X/IBM_BATS.npy\n"
     ]
    },
    {
     "name": "stderr",
     "output_type": "stream",
     "text": [
      "ERROR:root:(12963, 10, 30, 2, 3)\n",
      "ERROR:root:12963\n",
      "ERROR:root:/rds/general/user/kk2219/ephemeral/data/lob_2_vec/full_depth/train_2016/20160908/X/IBM_EDGX.npy\n",
      "ERROR:root:/rds/general/user/kk2219/ephemeral/data/lob_2_vec/full_depth/train_2016/20160908/Y/IBM_EDGX.npy\n",
      "ERROR:root:(2479, 10, 30, 2, 3)\n",
      "ERROR:root:2479\n"
     ]
    },
    {
     "name": "stdout",
     "output_type": "stream",
     "text": [
      "/rds/general/user/kk2219/ephemeral/data/lob_2_vec/full_depth/train_2016/20160908/Y/IBM_EDGX.npy\n",
      "/rds/general/user/kk2219/ephemeral/data/lob_2_vec/full_depth/train_2016/20160908/X/IBM_EDGX.npy\n"
     ]
    },
    {
     "name": "stderr",
     "output_type": "stream",
     "text": [
      "ERROR:root:/rds/general/user/kk2219/ephemeral/data/lob_2_vec/full_depth/train_2016/20160908/X/ABEO_NASDAQ.npy\n",
      "ERROR:root:/rds/general/user/kk2219/ephemeral/data/lob_2_vec/full_depth/train_2016/20160908/Y/ABEO_NASDAQ.npy\n",
      "ERROR:root:(344, 10, 30, 2, 3)\n",
      "ERROR:root:344\n"
     ]
    },
    {
     "name": "stdout",
     "output_type": "stream",
     "text": [
      "/rds/general/user/kk2219/ephemeral/data/lob_2_vec/full_depth/train_2016/20160908/Y/ABEO_NASDAQ.npy\n",
      "/rds/general/user/kk2219/ephemeral/data/lob_2_vec/full_depth/train_2016/20160908/X/ABEO_NASDAQ.npy\n"
     ]
    },
    {
     "name": "stderr",
     "output_type": "stream",
     "text": [
      "ERROR:root:/rds/general/user/kk2219/ephemeral/data/lob_2_vec/full_depth/train_2016/20160906/X/IBM_NASDAQ.npy\n",
      "ERROR:root:/rds/general/user/kk2219/ephemeral/data/lob_2_vec/full_depth/train_2016/20160906/Y/IBM_NASDAQ.npy\n"
     ]
    },
    {
     "name": "stdout",
     "output_type": "stream",
     "text": [
      "/rds/general/user/kk2219/ephemeral/data/lob_2_vec/full_depth/train_2016/20160906/Y/IBM_NASDAQ.npy\n",
      "/rds/general/user/kk2219/ephemeral/data/lob_2_vec/full_depth/train_2016/20160906/X/IBM_NASDAQ.npy\n"
     ]
    },
    {
     "name": "stderr",
     "output_type": "stream",
     "text": [
      "ERROR:root:(15892, 10, 30, 2, 3)\n",
      "ERROR:root:15892\n",
      "ERROR:root:/rds/general/user/kk2219/ephemeral/data/lob_2_vec/full_depth/train_2016/20160906/X/SPY_EDGX.npy\n",
      "ERROR:root:/rds/general/user/kk2219/ephemeral/data/lob_2_vec/full_depth/train_2016/20160906/Y/SPY_EDGX.npy\n"
     ]
    },
    {
     "name": "stdout",
     "output_type": "stream",
     "text": [
      "/rds/general/user/kk2219/ephemeral/data/lob_2_vec/full_depth/train_2016/20160906/Y/SPY_EDGX.npy\n",
      "/rds/general/user/kk2219/ephemeral/data/lob_2_vec/full_depth/train_2016/20160906/X/SPY_EDGX.npy\n"
     ]
    },
    {
     "name": "stderr",
     "output_type": "stream",
     "text": [
      "ERROR:root:(135813, 10, 30, 2, 3)\n",
      "ERROR:root:135813\n",
      "ERROR:root:/rds/general/user/kk2219/ephemeral/data/lob_2_vec/full_depth/train_2016/20160906/X/ABEO_EDGX.npy\n",
      "ERROR:root:/rds/general/user/kk2219/ephemeral/data/lob_2_vec/full_depth/train_2016/20160906/Y/ABEO_EDGX.npy\n",
      "ERROR:root:(78, 10, 30, 2, 3)\n",
      "ERROR:root:78\n"
     ]
    },
    {
     "name": "stdout",
     "output_type": "stream",
     "text": [
      "/rds/general/user/kk2219/ephemeral/data/lob_2_vec/full_depth/train_2016/20160906/Y/ABEO_EDGX.npy\n",
      "/rds/general/user/kk2219/ephemeral/data/lob_2_vec/full_depth/train_2016/20160906/X/ABEO_EDGX.npy\n"
     ]
    },
    {
     "name": "stderr",
     "output_type": "stream",
     "text": [
      "ERROR:root:/rds/general/user/kk2219/ephemeral/data/lob_2_vec/full_depth/train_2016/20160906/X/GOOG_NASDAQ.npy\n",
      "ERROR:root:/rds/general/user/kk2219/ephemeral/data/lob_2_vec/full_depth/train_2016/20160906/Y/GOOG_NASDAQ.npy\n"
     ]
    },
    {
     "name": "stdout",
     "output_type": "stream",
     "text": [
      "/rds/general/user/kk2219/ephemeral/data/lob_2_vec/full_depth/train_2016/20160906/Y/GOOG_NASDAQ.npy\n",
      "/rds/general/user/kk2219/ephemeral/data/lob_2_vec/full_depth/train_2016/20160906/X/GOOG_NASDAQ.npy\n"
     ]
    },
    {
     "name": "stderr",
     "output_type": "stream",
     "text": [
      "ERROR:root:(40107, 10, 30, 2, 3)\n",
      "ERROR:root:40107\n",
      "ERROR:root:/rds/general/user/kk2219/ephemeral/data/lob_2_vec/full_depth/train_2016/20160906/X/ABEO_BATS.npy\n",
      "ERROR:root:/rds/general/user/kk2219/ephemeral/data/lob_2_vec/full_depth/train_2016/20160906/Y/ABEO_BATS.npy\n",
      "ERROR:root:(136, 10, 30, 2, 3)\n",
      "ERROR:root:136\n"
     ]
    },
    {
     "name": "stdout",
     "output_type": "stream",
     "text": [
      "/rds/general/user/kk2219/ephemeral/data/lob_2_vec/full_depth/train_2016/20160906/Y/ABEO_BATS.npy\n",
      "/rds/general/user/kk2219/ephemeral/data/lob_2_vec/full_depth/train_2016/20160906/X/ABEO_BATS.npy\n"
     ]
    },
    {
     "name": "stderr",
     "output_type": "stream",
     "text": [
      "ERROR:root:/rds/general/user/kk2219/ephemeral/data/lob_2_vec/full_depth/train_2016/20160906/X/ABEO_ARCA.npy\n",
      "ERROR:root:/rds/general/user/kk2219/ephemeral/data/lob_2_vec/full_depth/train_2016/20160906/Y/ABEO_ARCA.npy\n",
      "ERROR:root:(115, 10, 30, 2, 3)\n",
      "ERROR:root:115\n"
     ]
    },
    {
     "name": "stdout",
     "output_type": "stream",
     "text": [
      "/rds/general/user/kk2219/ephemeral/data/lob_2_vec/full_depth/train_2016/20160906/Y/ABEO_ARCA.npy\n",
      "/rds/general/user/kk2219/ephemeral/data/lob_2_vec/full_depth/train_2016/20160906/X/ABEO_ARCA.npy\n"
     ]
    },
    {
     "name": "stderr",
     "output_type": "stream",
     "text": [
      "ERROR:root:/rds/general/user/kk2219/ephemeral/data/lob_2_vec/full_depth/train_2016/20160906/X/IBM_EDGA.npy\n",
      "ERROR:root:/rds/general/user/kk2219/ephemeral/data/lob_2_vec/full_depth/train_2016/20160906/Y/IBM_EDGA.npy\n",
      "ERROR:root:(874, 10, 30, 2, 3)\n",
      "ERROR:root:874\n"
     ]
    },
    {
     "name": "stdout",
     "output_type": "stream",
     "text": [
      "/rds/general/user/kk2219/ephemeral/data/lob_2_vec/full_depth/train_2016/20160906/Y/IBM_EDGA.npy\n",
      "/rds/general/user/kk2219/ephemeral/data/lob_2_vec/full_depth/train_2016/20160906/X/IBM_EDGA.npy\n"
     ]
    },
    {
     "name": "stderr",
     "output_type": "stream",
     "text": [
      "ERROR:root:/rds/general/user/kk2219/ephemeral/data/lob_2_vec/full_depth/train_2016/20160906/X/SPY_ARCA.npy\n",
      "ERROR:root:/rds/general/user/kk2219/ephemeral/data/lob_2_vec/full_depth/train_2016/20160906/Y/SPY_ARCA.npy\n"
     ]
    },
    {
     "name": "stdout",
     "output_type": "stream",
     "text": [
      "/rds/general/user/kk2219/ephemeral/data/lob_2_vec/full_depth/train_2016/20160906/Y/SPY_ARCA.npy\n",
      "/rds/general/user/kk2219/ephemeral/data/lob_2_vec/full_depth/train_2016/20160906/X/SPY_ARCA.npy\n"
     ]
    },
    {
     "name": "stderr",
     "output_type": "stream",
     "text": [
      "ERROR:root:(215554, 10, 30, 2, 3)\n",
      "ERROR:root:215554\n",
      "ERROR:root:/rds/general/user/kk2219/ephemeral/data/lob_2_vec/full_depth/train_2016/20160906/X/GOOG_ARCA.npy\n",
      "ERROR:root:/rds/general/user/kk2219/ephemeral/data/lob_2_vec/full_depth/train_2016/20160906/Y/GOOG_ARCA.npy\n"
     ]
    },
    {
     "name": "stdout",
     "output_type": "stream",
     "text": [
      "/rds/general/user/kk2219/ephemeral/data/lob_2_vec/full_depth/train_2016/20160906/Y/GOOG_ARCA.npy\n",
      "/rds/general/user/kk2219/ephemeral/data/lob_2_vec/full_depth/train_2016/20160906/X/GOOG_ARCA.npy\n"
     ]
    },
    {
     "name": "stderr",
     "output_type": "stream",
     "text": [
      "ERROR:root:(11884, 10, 30, 2, 3)\n",
      "ERROR:root:11884\n",
      "ERROR:root:/rds/general/user/kk2219/ephemeral/data/lob_2_vec/full_depth/train_2016/20160906/X/VOD_NASDAQ.npy\n",
      "ERROR:root:/rds/general/user/kk2219/ephemeral/data/lob_2_vec/full_depth/train_2016/20160906/Y/VOD_NASDAQ.npy\n"
     ]
    },
    {
     "name": "stdout",
     "output_type": "stream",
     "text": [
      "/rds/general/user/kk2219/ephemeral/data/lob_2_vec/full_depth/train_2016/20160906/Y/VOD_NASDAQ.npy\n",
      "/rds/general/user/kk2219/ephemeral/data/lob_2_vec/full_depth/train_2016/20160906/X/VOD_NASDAQ.npy\n"
     ]
    },
    {
     "name": "stderr",
     "output_type": "stream",
     "text": [
      "ERROR:root:(25297, 10, 30, 2, 3)\n",
      "ERROR:root:25297\n",
      "ERROR:root:/rds/general/user/kk2219/ephemeral/data/lob_2_vec/full_depth/train_2016/20160906/X/VOD_BATS.npy\n",
      "ERROR:root:/rds/general/user/kk2219/ephemeral/data/lob_2_vec/full_depth/train_2016/20160906/Y/VOD_BATS.npy\n"
     ]
    },
    {
     "name": "stdout",
     "output_type": "stream",
     "text": [
      "/rds/general/user/kk2219/ephemeral/data/lob_2_vec/full_depth/train_2016/20160906/Y/VOD_BATS.npy\n",
      "/rds/general/user/kk2219/ephemeral/data/lob_2_vec/full_depth/train_2016/20160906/X/VOD_BATS.npy\n"
     ]
    },
    {
     "name": "stderr",
     "output_type": "stream",
     "text": [
      "ERROR:root:(15686, 10, 30, 2, 3)\n",
      "ERROR:root:15686\n",
      "ERROR:root:/rds/general/user/kk2219/ephemeral/data/lob_2_vec/full_depth/train_2016/20160906/X/ABEO_EDGA.npy\n",
      "ERROR:root:/rds/general/user/kk2219/ephemeral/data/lob_2_vec/full_depth/train_2016/20160906/Y/ABEO_EDGA.npy\n",
      "ERROR:root:(24, 10, 30, 2, 3)\n",
      "ERROR:root:24\n"
     ]
    },
    {
     "name": "stdout",
     "output_type": "stream",
     "text": [
      "/rds/general/user/kk2219/ephemeral/data/lob_2_vec/full_depth/train_2016/20160906/Y/ABEO_EDGA.npy\n",
      "/rds/general/user/kk2219/ephemeral/data/lob_2_vec/full_depth/train_2016/20160906/X/ABEO_EDGA.npy\n"
     ]
    },
    {
     "name": "stderr",
     "output_type": "stream",
     "text": [
      "ERROR:root:/rds/general/user/kk2219/ephemeral/data/lob_2_vec/full_depth/train_2016/20160906/X/GOOG_EDGA.npy\n",
      "ERROR:root:/rds/general/user/kk2219/ephemeral/data/lob_2_vec/full_depth/train_2016/20160906/Y/GOOG_EDGA.npy\n",
      "ERROR:root:(1447, 10, 30, 2, 3)\n",
      "ERROR:root:1447\n"
     ]
    },
    {
     "name": "stdout",
     "output_type": "stream",
     "text": [
      "/rds/general/user/kk2219/ephemeral/data/lob_2_vec/full_depth/train_2016/20160906/Y/GOOG_EDGA.npy\n",
      "/rds/general/user/kk2219/ephemeral/data/lob_2_vec/full_depth/train_2016/20160906/X/GOOG_EDGA.npy\n"
     ]
    },
    {
     "name": "stderr",
     "output_type": "stream",
     "text": [
      "ERROR:root:/rds/general/user/kk2219/ephemeral/data/lob_2_vec/full_depth/train_2016/20160906/X/SPY_EDGA.npy\n",
      "ERROR:root:/rds/general/user/kk2219/ephemeral/data/lob_2_vec/full_depth/train_2016/20160906/Y/SPY_EDGA.npy\n"
     ]
    },
    {
     "name": "stdout",
     "output_type": "stream",
     "text": [
      "/rds/general/user/kk2219/ephemeral/data/lob_2_vec/full_depth/train_2016/20160906/Y/SPY_EDGA.npy\n",
      "/rds/general/user/kk2219/ephemeral/data/lob_2_vec/full_depth/train_2016/20160906/X/SPY_EDGA.npy\n"
     ]
    },
    {
     "name": "stderr",
     "output_type": "stream",
     "text": [
      "ERROR:root:(57629, 10, 30, 2, 3)\n",
      "ERROR:root:57629\n",
      "ERROR:root:/rds/general/user/kk2219/ephemeral/data/lob_2_vec/full_depth/train_2016/20160906/X/IBM_ARCA.npy\n",
      "ERROR:root:/rds/general/user/kk2219/ephemeral/data/lob_2_vec/full_depth/train_2016/20160906/Y/IBM_ARCA.npy\n"
     ]
    },
    {
     "name": "stdout",
     "output_type": "stream",
     "text": [
      "/rds/general/user/kk2219/ephemeral/data/lob_2_vec/full_depth/train_2016/20160906/Y/IBM_ARCA.npy\n",
      "/rds/general/user/kk2219/ephemeral/data/lob_2_vec/full_depth/train_2016/20160906/X/IBM_ARCA.npy\n"
     ]
    },
    {
     "name": "stderr",
     "output_type": "stream",
     "text": [
      "ERROR:root:(8031, 10, 30, 2, 3)\n",
      "ERROR:root:8031\n",
      "ERROR:root:/rds/general/user/kk2219/ephemeral/data/lob_2_vec/full_depth/train_2016/20160906/X/GOOG_EDGX.npy\n",
      "ERROR:root:/rds/general/user/kk2219/ephemeral/data/lob_2_vec/full_depth/train_2016/20160906/Y/GOOG_EDGX.npy\n",
      "ERROR:root:(2084, 10, 30, 2, 3)\n",
      "ERROR:root:2084\n"
     ]
    },
    {
     "name": "stdout",
     "output_type": "stream",
     "text": [
      "/rds/general/user/kk2219/ephemeral/data/lob_2_vec/full_depth/train_2016/20160906/Y/GOOG_EDGX.npy\n",
      "/rds/general/user/kk2219/ephemeral/data/lob_2_vec/full_depth/train_2016/20160906/X/GOOG_EDGX.npy\n"
     ]
    },
    {
     "name": "stderr",
     "output_type": "stream",
     "text": [
      "ERROR:root:/rds/general/user/kk2219/ephemeral/data/lob_2_vec/full_depth/train_2016/20160906/X/VOD_EDGX.npy\n",
      "ERROR:root:/rds/general/user/kk2219/ephemeral/data/lob_2_vec/full_depth/train_2016/20160906/Y/VOD_EDGX.npy\n"
     ]
    },
    {
     "name": "stdout",
     "output_type": "stream",
     "text": [
      "/rds/general/user/kk2219/ephemeral/data/lob_2_vec/full_depth/train_2016/20160906/Y/VOD_EDGX.npy\n",
      "/rds/general/user/kk2219/ephemeral/data/lob_2_vec/full_depth/train_2016/20160906/X/VOD_EDGX.npy\n"
     ]
    },
    {
     "name": "stderr",
     "output_type": "stream",
     "text": [
      "ERROR:root:(11355, 10, 30, 2, 3)\n",
      "ERROR:root:11355\n",
      "ERROR:root:/rds/general/user/kk2219/ephemeral/data/lob_2_vec/full_depth/train_2016/20160906/X/VOD_EDGA.npy\n",
      "ERROR:root:/rds/general/user/kk2219/ephemeral/data/lob_2_vec/full_depth/train_2016/20160906/Y/VOD_EDGA.npy\n"
     ]
    },
    {
     "name": "stdout",
     "output_type": "stream",
     "text": [
      "/rds/general/user/kk2219/ephemeral/data/lob_2_vec/full_depth/train_2016/20160906/Y/VOD_EDGA.npy\n",
      "/rds/general/user/kk2219/ephemeral/data/lob_2_vec/full_depth/train_2016/20160906/X/VOD_EDGA.npy\n"
     ]
    },
    {
     "name": "stderr",
     "output_type": "stream",
     "text": [
      "ERROR:root:(5795, 10, 30, 2, 3)\n",
      "ERROR:root:5795\n",
      "ERROR:root:/rds/general/user/kk2219/ephemeral/data/lob_2_vec/full_depth/train_2016/20160906/X/SPY_BATS.npy\n",
      "ERROR:root:/rds/general/user/kk2219/ephemeral/data/lob_2_vec/full_depth/train_2016/20160906/Y/SPY_BATS.npy\n"
     ]
    },
    {
     "name": "stdout",
     "output_type": "stream",
     "text": [
      "/rds/general/user/kk2219/ephemeral/data/lob_2_vec/full_depth/train_2016/20160906/Y/SPY_BATS.npy\n",
      "/rds/general/user/kk2219/ephemeral/data/lob_2_vec/full_depth/train_2016/20160906/X/SPY_BATS.npy\n"
     ]
    },
    {
     "name": "stderr",
     "output_type": "stream",
     "text": [
      "ERROR:root:(180568, 10, 30, 2, 3)\n",
      "ERROR:root:180568\n",
      "ERROR:root:/rds/general/user/kk2219/ephemeral/data/lob_2_vec/full_depth/train_2016/20160906/X/SPY_NASDAQ.npy\n",
      "ERROR:root:/rds/general/user/kk2219/ephemeral/data/lob_2_vec/full_depth/train_2016/20160906/Y/SPY_NASDAQ.npy\n"
     ]
    },
    {
     "name": "stdout",
     "output_type": "stream",
     "text": [
      "/rds/general/user/kk2219/ephemeral/data/lob_2_vec/full_depth/train_2016/20160906/Y/SPY_NASDAQ.npy\n",
      "/rds/general/user/kk2219/ephemeral/data/lob_2_vec/full_depth/train_2016/20160906/X/SPY_NASDAQ.npy\n"
     ]
    },
    {
     "name": "stderr",
     "output_type": "stream",
     "text": [
      "ERROR:root:(173179, 10, 30, 2, 3)\n",
      "ERROR:root:173179\n",
      "ERROR:root:/rds/general/user/kk2219/ephemeral/data/lob_2_vec/full_depth/train_2016/20160906/X/VOD_ARCA.npy\n",
      "ERROR:root:/rds/general/user/kk2219/ephemeral/data/lob_2_vec/full_depth/train_2016/20160906/Y/VOD_ARCA.npy\n"
     ]
    },
    {
     "name": "stdout",
     "output_type": "stream",
     "text": [
      "/rds/general/user/kk2219/ephemeral/data/lob_2_vec/full_depth/train_2016/20160906/Y/VOD_ARCA.npy\n",
      "/rds/general/user/kk2219/ephemeral/data/lob_2_vec/full_depth/train_2016/20160906/X/VOD_ARCA.npy\n"
     ]
    },
    {
     "name": "stderr",
     "output_type": "stream",
     "text": [
      "ERROR:root:(29283, 10, 30, 2, 3)\n",
      "ERROR:root:29283\n",
      "ERROR:root:/rds/general/user/kk2219/ephemeral/data/lob_2_vec/full_depth/train_2016/20160906/X/GOOG_BATS.npy\n",
      "ERROR:root:/rds/general/user/kk2219/ephemeral/data/lob_2_vec/full_depth/train_2016/20160906/Y/GOOG_BATS.npy\n"
     ]
    },
    {
     "name": "stdout",
     "output_type": "stream",
     "text": [
      "/rds/general/user/kk2219/ephemeral/data/lob_2_vec/full_depth/train_2016/20160906/Y/GOOG_BATS.npy\n",
      "/rds/general/user/kk2219/ephemeral/data/lob_2_vec/full_depth/train_2016/20160906/X/GOOG_BATS.npy\n"
     ]
    },
    {
     "name": "stderr",
     "output_type": "stream",
     "text": [
      "ERROR:root:(6631, 10, 30, 2, 3)\n",
      "ERROR:root:6631\n",
      "ERROR:root:/rds/general/user/kk2219/ephemeral/data/lob_2_vec/full_depth/train_2016/20160906/X/IBM_BATS.npy\n",
      "ERROR:root:/rds/general/user/kk2219/ephemeral/data/lob_2_vec/full_depth/train_2016/20160906/Y/IBM_BATS.npy\n"
     ]
    },
    {
     "name": "stdout",
     "output_type": "stream",
     "text": [
      "/rds/general/user/kk2219/ephemeral/data/lob_2_vec/full_depth/train_2016/20160906/Y/IBM_BATS.npy\n",
      "/rds/general/user/kk2219/ephemeral/data/lob_2_vec/full_depth/train_2016/20160906/X/IBM_BATS.npy\n"
     ]
    },
    {
     "name": "stderr",
     "output_type": "stream",
     "text": [
      "ERROR:root:(7692, 10, 30, 2, 3)\n",
      "ERROR:root:7692\n",
      "ERROR:root:/rds/general/user/kk2219/ephemeral/data/lob_2_vec/full_depth/train_2016/20160906/X/IBM_EDGX.npy\n",
      "ERROR:root:/rds/general/user/kk2219/ephemeral/data/lob_2_vec/full_depth/train_2016/20160906/Y/IBM_EDGX.npy\n",
      "ERROR:root:(2546, 10, 30, 2, 3)\n",
      "ERROR:root:2546\n"
     ]
    },
    {
     "name": "stdout",
     "output_type": "stream",
     "text": [
      "/rds/general/user/kk2219/ephemeral/data/lob_2_vec/full_depth/train_2016/20160906/Y/IBM_EDGX.npy\n",
      "/rds/general/user/kk2219/ephemeral/data/lob_2_vec/full_depth/train_2016/20160906/X/IBM_EDGX.npy\n"
     ]
    },
    {
     "name": "stderr",
     "output_type": "stream",
     "text": [
      "ERROR:root:/rds/general/user/kk2219/ephemeral/data/lob_2_vec/full_depth/train_2016/20160906/X/ABEO_NASDAQ.npy\n",
      "ERROR:root:/rds/general/user/kk2219/ephemeral/data/lob_2_vec/full_depth/train_2016/20160906/Y/ABEO_NASDAQ.npy\n",
      "ERROR:root:(288, 10, 30, 2, 3)\n",
      "ERROR:root:288\n"
     ]
    },
    {
     "name": "stdout",
     "output_type": "stream",
     "text": [
      "/rds/general/user/kk2219/ephemeral/data/lob_2_vec/full_depth/train_2016/20160906/Y/ABEO_NASDAQ.npy\n",
      "/rds/general/user/kk2219/ephemeral/data/lob_2_vec/full_depth/train_2016/20160906/X/ABEO_NASDAQ.npy\n"
     ]
    },
    {
     "name": "stderr",
     "output_type": "stream",
     "text": [
      "ERROR:root:/rds/general/user/kk2219/ephemeral/data/lob_2_vec/full_depth/train_2016/20160902/X/IBM_NASDAQ.npy\n",
      "ERROR:root:/rds/general/user/kk2219/ephemeral/data/lob_2_vec/full_depth/train_2016/20160902/Y/IBM_NASDAQ.npy\n"
     ]
    },
    {
     "name": "stdout",
     "output_type": "stream",
     "text": [
      "/rds/general/user/kk2219/ephemeral/data/lob_2_vec/full_depth/train_2016/20160902/Y/IBM_NASDAQ.npy\n",
      "/rds/general/user/kk2219/ephemeral/data/lob_2_vec/full_depth/train_2016/20160902/X/IBM_NASDAQ.npy\n"
     ]
    },
    {
     "name": "stderr",
     "output_type": "stream",
     "text": [
      "ERROR:root:(15914, 10, 30, 2, 3)\n",
      "ERROR:root:15914\n",
      "ERROR:root:/rds/general/user/kk2219/ephemeral/data/lob_2_vec/full_depth/train_2016/20160902/X/SPY_EDGX.npy\n",
      "ERROR:root:/rds/general/user/kk2219/ephemeral/data/lob_2_vec/full_depth/train_2016/20160902/Y/SPY_EDGX.npy\n"
     ]
    },
    {
     "name": "stdout",
     "output_type": "stream",
     "text": [
      "/rds/general/user/kk2219/ephemeral/data/lob_2_vec/full_depth/train_2016/20160902/Y/SPY_EDGX.npy\n",
      "/rds/general/user/kk2219/ephemeral/data/lob_2_vec/full_depth/train_2016/20160902/X/SPY_EDGX.npy\n"
     ]
    },
    {
     "name": "stderr",
     "output_type": "stream",
     "text": [
      "ERROR:root:(176021, 10, 30, 2, 3)\n",
      "ERROR:root:176021\n",
      "ERROR:root:/rds/general/user/kk2219/ephemeral/data/lob_2_vec/full_depth/train_2016/20160902/X/ABEO_EDGX.npy\n",
      "ERROR:root:/rds/general/user/kk2219/ephemeral/data/lob_2_vec/full_depth/train_2016/20160902/Y/ABEO_EDGX.npy\n",
      "ERROR:root:(62, 10, 30, 2, 3)\n",
      "ERROR:root:62\n"
     ]
    },
    {
     "name": "stdout",
     "output_type": "stream",
     "text": [
      "/rds/general/user/kk2219/ephemeral/data/lob_2_vec/full_depth/train_2016/20160902/Y/ABEO_EDGX.npy\n",
      "/rds/general/user/kk2219/ephemeral/data/lob_2_vec/full_depth/train_2016/20160902/X/ABEO_EDGX.npy\n"
     ]
    },
    {
     "name": "stderr",
     "output_type": "stream",
     "text": [
      "ERROR:root:/rds/general/user/kk2219/ephemeral/data/lob_2_vec/full_depth/train_2016/20160902/X/GOOG_NASDAQ.npy\n",
      "ERROR:root:/rds/general/user/kk2219/ephemeral/data/lob_2_vec/full_depth/train_2016/20160902/Y/GOOG_NASDAQ.npy\n"
     ]
    },
    {
     "name": "stdout",
     "output_type": "stream",
     "text": [
      "/rds/general/user/kk2219/ephemeral/data/lob_2_vec/full_depth/train_2016/20160902/Y/GOOG_NASDAQ.npy\n",
      "/rds/general/user/kk2219/ephemeral/data/lob_2_vec/full_depth/train_2016/20160902/X/GOOG_NASDAQ.npy\n"
     ]
    },
    {
     "name": "stderr",
     "output_type": "stream",
     "text": [
      "ERROR:root:(37794, 10, 30, 2, 3)\n",
      "ERROR:root:37794\n",
      "ERROR:root:/rds/general/user/kk2219/ephemeral/data/lob_2_vec/full_depth/train_2016/20160902/X/ABEO_BATS.npy\n",
      "ERROR:root:/rds/general/user/kk2219/ephemeral/data/lob_2_vec/full_depth/train_2016/20160902/Y/ABEO_BATS.npy\n",
      "ERROR:root:(131, 10, 30, 2, 3)\n",
      "ERROR:root:131\n"
     ]
    },
    {
     "name": "stdout",
     "output_type": "stream",
     "text": [
      "/rds/general/user/kk2219/ephemeral/data/lob_2_vec/full_depth/train_2016/20160902/Y/ABEO_BATS.npy\n",
      "/rds/general/user/kk2219/ephemeral/data/lob_2_vec/full_depth/train_2016/20160902/X/ABEO_BATS.npy\n"
     ]
    },
    {
     "name": "stderr",
     "output_type": "stream",
     "text": [
      "ERROR:root:/rds/general/user/kk2219/ephemeral/data/lob_2_vec/full_depth/train_2016/20160902/X/ABEO_ARCA.npy\n",
      "ERROR:root:/rds/general/user/kk2219/ephemeral/data/lob_2_vec/full_depth/train_2016/20160902/Y/ABEO_ARCA.npy\n",
      "ERROR:root:(86, 10, 30, 2, 3)\n",
      "ERROR:root:86\n"
     ]
    },
    {
     "name": "stdout",
     "output_type": "stream",
     "text": [
      "/rds/general/user/kk2219/ephemeral/data/lob_2_vec/full_depth/train_2016/20160902/Y/ABEO_ARCA.npy\n",
      "/rds/general/user/kk2219/ephemeral/data/lob_2_vec/full_depth/train_2016/20160902/X/ABEO_ARCA.npy\n"
     ]
    },
    {
     "name": "stderr",
     "output_type": "stream",
     "text": [
      "ERROR:root:/rds/general/user/kk2219/ephemeral/data/lob_2_vec/full_depth/train_2016/20160902/X/IBM_EDGA.npy\n",
      "ERROR:root:/rds/general/user/kk2219/ephemeral/data/lob_2_vec/full_depth/train_2016/20160902/Y/IBM_EDGA.npy\n",
      "ERROR:root:(1068, 10, 30, 2, 3)\n",
      "ERROR:root:1068\n"
     ]
    },
    {
     "name": "stdout",
     "output_type": "stream",
     "text": [
      "/rds/general/user/kk2219/ephemeral/data/lob_2_vec/full_depth/train_2016/20160902/Y/IBM_EDGA.npy\n",
      "/rds/general/user/kk2219/ephemeral/data/lob_2_vec/full_depth/train_2016/20160902/X/IBM_EDGA.npy\n"
     ]
    },
    {
     "name": "stderr",
     "output_type": "stream",
     "text": [
      "ERROR:root:/rds/general/user/kk2219/ephemeral/data/lob_2_vec/full_depth/train_2016/20160902/X/SPY_ARCA.npy\n",
      "ERROR:root:/rds/general/user/kk2219/ephemeral/data/lob_2_vec/full_depth/train_2016/20160902/Y/SPY_ARCA.npy\n"
     ]
    },
    {
     "name": "stdout",
     "output_type": "stream",
     "text": [
      "/rds/general/user/kk2219/ephemeral/data/lob_2_vec/full_depth/train_2016/20160902/Y/SPY_ARCA.npy\n",
      "/rds/general/user/kk2219/ephemeral/data/lob_2_vec/full_depth/train_2016/20160902/X/SPY_ARCA.npy\n"
     ]
    },
    {
     "name": "stderr",
     "output_type": "stream",
     "text": [
      "ERROR:root:(284392, 10, 30, 2, 3)\n",
      "ERROR:root:284392\n",
      "ERROR:root:/rds/general/user/kk2219/ephemeral/data/lob_2_vec/full_depth/train_2016/20160902/X/GOOG_ARCA.npy\n",
      "ERROR:root:/rds/general/user/kk2219/ephemeral/data/lob_2_vec/full_depth/train_2016/20160902/Y/GOOG_ARCA.npy\n"
     ]
    },
    {
     "name": "stdout",
     "output_type": "stream",
     "text": [
      "/rds/general/user/kk2219/ephemeral/data/lob_2_vec/full_depth/train_2016/20160902/Y/GOOG_ARCA.npy\n",
      "/rds/general/user/kk2219/ephemeral/data/lob_2_vec/full_depth/train_2016/20160902/X/GOOG_ARCA.npy\n"
     ]
    },
    {
     "name": "stderr",
     "output_type": "stream",
     "text": [
      "ERROR:root:(10606, 10, 30, 2, 3)\n",
      "ERROR:root:10606\n",
      "ERROR:root:/rds/general/user/kk2219/ephemeral/data/lob_2_vec/full_depth/train_2016/20160902/X/VOD_NASDAQ.npy\n",
      "ERROR:root:/rds/general/user/kk2219/ephemeral/data/lob_2_vec/full_depth/train_2016/20160902/Y/VOD_NASDAQ.npy\n"
     ]
    },
    {
     "name": "stdout",
     "output_type": "stream",
     "text": [
      "/rds/general/user/kk2219/ephemeral/data/lob_2_vec/full_depth/train_2016/20160902/Y/VOD_NASDAQ.npy\n",
      "/rds/general/user/kk2219/ephemeral/data/lob_2_vec/full_depth/train_2016/20160902/X/VOD_NASDAQ.npy\n"
     ]
    },
    {
     "name": "stderr",
     "output_type": "stream",
     "text": [
      "ERROR:root:(60763, 10, 30, 2, 3)\n",
      "ERROR:root:60763\n",
      "ERROR:root:/rds/general/user/kk2219/ephemeral/data/lob_2_vec/full_depth/train_2016/20160902/X/VOD_BATS.npy\n",
      "ERROR:root:/rds/general/user/kk2219/ephemeral/data/lob_2_vec/full_depth/train_2016/20160902/Y/VOD_BATS.npy\n"
     ]
    },
    {
     "name": "stdout",
     "output_type": "stream",
     "text": [
      "/rds/general/user/kk2219/ephemeral/data/lob_2_vec/full_depth/train_2016/20160902/Y/VOD_BATS.npy\n",
      "/rds/general/user/kk2219/ephemeral/data/lob_2_vec/full_depth/train_2016/20160902/X/VOD_BATS.npy\n"
     ]
    },
    {
     "name": "stderr",
     "output_type": "stream",
     "text": [
      "ERROR:root:(22478, 10, 30, 2, 3)\n",
      "ERROR:root:22478\n",
      "ERROR:root:/rds/general/user/kk2219/ephemeral/data/lob_2_vec/full_depth/train_2016/20160902/X/ABEO_EDGA.npy\n",
      "ERROR:root:/rds/general/user/kk2219/ephemeral/data/lob_2_vec/full_depth/train_2016/20160902/Y/ABEO_EDGA.npy\n",
      "ERROR:root:(11, 10, 30, 2, 3)\n",
      "ERROR:root:11\n"
     ]
    },
    {
     "name": "stdout",
     "output_type": "stream",
     "text": [
      "/rds/general/user/kk2219/ephemeral/data/lob_2_vec/full_depth/train_2016/20160902/Y/ABEO_EDGA.npy\n",
      "/rds/general/user/kk2219/ephemeral/data/lob_2_vec/full_depth/train_2016/20160902/X/ABEO_EDGA.npy\n"
     ]
    },
    {
     "name": "stderr",
     "output_type": "stream",
     "text": [
      "ERROR:root:/rds/general/user/kk2219/ephemeral/data/lob_2_vec/full_depth/train_2016/20160902/X/GOOG_EDGA.npy\n",
      "ERROR:root:/rds/general/user/kk2219/ephemeral/data/lob_2_vec/full_depth/train_2016/20160902/Y/GOOG_EDGA.npy\n",
      "ERROR:root:(1198, 10, 30, 2, 3)\n",
      "ERROR:root:1198\n"
     ]
    },
    {
     "name": "stdout",
     "output_type": "stream",
     "text": [
      "/rds/general/user/kk2219/ephemeral/data/lob_2_vec/full_depth/train_2016/20160902/Y/GOOG_EDGA.npy\n",
      "/rds/general/user/kk2219/ephemeral/data/lob_2_vec/full_depth/train_2016/20160902/X/GOOG_EDGA.npy\n"
     ]
    },
    {
     "name": "stderr",
     "output_type": "stream",
     "text": [
      "ERROR:root:/rds/general/user/kk2219/ephemeral/data/lob_2_vec/full_depth/train_2016/20160902/X/SPY_EDGA.npy\n",
      "ERROR:root:/rds/general/user/kk2219/ephemeral/data/lob_2_vec/full_depth/train_2016/20160902/Y/SPY_EDGA.npy\n"
     ]
    },
    {
     "name": "stdout",
     "output_type": "stream",
     "text": [
      "/rds/general/user/kk2219/ephemeral/data/lob_2_vec/full_depth/train_2016/20160902/Y/SPY_EDGA.npy\n",
      "/rds/general/user/kk2219/ephemeral/data/lob_2_vec/full_depth/train_2016/20160902/X/SPY_EDGA.npy\n"
     ]
    },
    {
     "name": "stderr",
     "output_type": "stream",
     "text": [
      "ERROR:root:(79176, 10, 30, 2, 3)\n",
      "ERROR:root:79176\n",
      "ERROR:root:/rds/general/user/kk2219/ephemeral/data/lob_2_vec/full_depth/train_2016/20160902/X/IBM_ARCA.npy\n",
      "ERROR:root:/rds/general/user/kk2219/ephemeral/data/lob_2_vec/full_depth/train_2016/20160902/Y/IBM_ARCA.npy\n"
     ]
    },
    {
     "name": "stdout",
     "output_type": "stream",
     "text": [
      "/rds/general/user/kk2219/ephemeral/data/lob_2_vec/full_depth/train_2016/20160902/Y/IBM_ARCA.npy\n",
      "/rds/general/user/kk2219/ephemeral/data/lob_2_vec/full_depth/train_2016/20160902/X/IBM_ARCA.npy\n"
     ]
    },
    {
     "name": "stderr",
     "output_type": "stream",
     "text": [
      "ERROR:root:(12780, 10, 30, 2, 3)\n",
      "ERROR:root:12780\n",
      "ERROR:root:/rds/general/user/kk2219/ephemeral/data/lob_2_vec/full_depth/train_2016/20160902/X/GOOG_EDGX.npy\n",
      "ERROR:root:/rds/general/user/kk2219/ephemeral/data/lob_2_vec/full_depth/train_2016/20160902/Y/GOOG_EDGX.npy\n",
      "ERROR:root:(1718, 10, 30, 2, 3)\n",
      "ERROR:root:1718\n"
     ]
    },
    {
     "name": "stdout",
     "output_type": "stream",
     "text": [
      "/rds/general/user/kk2219/ephemeral/data/lob_2_vec/full_depth/train_2016/20160902/Y/GOOG_EDGX.npy\n",
      "/rds/general/user/kk2219/ephemeral/data/lob_2_vec/full_depth/train_2016/20160902/X/GOOG_EDGX.npy\n"
     ]
    },
    {
     "name": "stderr",
     "output_type": "stream",
     "text": [
      "ERROR:root:/rds/general/user/kk2219/ephemeral/data/lob_2_vec/full_depth/train_2016/20160902/X/VOD_EDGX.npy\n",
      "ERROR:root:/rds/general/user/kk2219/ephemeral/data/lob_2_vec/full_depth/train_2016/20160902/Y/VOD_EDGX.npy\n"
     ]
    },
    {
     "name": "stdout",
     "output_type": "stream",
     "text": [
      "/rds/general/user/kk2219/ephemeral/data/lob_2_vec/full_depth/train_2016/20160902/Y/VOD_EDGX.npy\n",
      "/rds/general/user/kk2219/ephemeral/data/lob_2_vec/full_depth/train_2016/20160902/X/VOD_EDGX.npy\n"
     ]
    },
    {
     "name": "stderr",
     "output_type": "stream",
     "text": [
      "ERROR:root:(16741, 10, 30, 2, 3)\n",
      "ERROR:root:16741\n",
      "ERROR:root:/rds/general/user/kk2219/ephemeral/data/lob_2_vec/full_depth/train_2016/20160902/X/VOD_EDGA.npy\n",
      "ERROR:root:/rds/general/user/kk2219/ephemeral/data/lob_2_vec/full_depth/train_2016/20160902/Y/VOD_EDGA.npy\n"
     ]
    },
    {
     "name": "stdout",
     "output_type": "stream",
     "text": [
      "/rds/general/user/kk2219/ephemeral/data/lob_2_vec/full_depth/train_2016/20160902/Y/VOD_EDGA.npy\n",
      "/rds/general/user/kk2219/ephemeral/data/lob_2_vec/full_depth/train_2016/20160902/X/VOD_EDGA.npy\n"
     ]
    },
    {
     "name": "stderr",
     "output_type": "stream",
     "text": [
      "ERROR:root:(9058, 10, 30, 2, 3)\n",
      "ERROR:root:9058\n",
      "ERROR:root:/rds/general/user/kk2219/ephemeral/data/lob_2_vec/full_depth/train_2016/20160902/X/SPY_BATS.npy\n",
      "ERROR:root:/rds/general/user/kk2219/ephemeral/data/lob_2_vec/full_depth/train_2016/20160902/Y/SPY_BATS.npy\n"
     ]
    },
    {
     "name": "stdout",
     "output_type": "stream",
     "text": [
      "/rds/general/user/kk2219/ephemeral/data/lob_2_vec/full_depth/train_2016/20160902/Y/SPY_BATS.npy\n",
      "/rds/general/user/kk2219/ephemeral/data/lob_2_vec/full_depth/train_2016/20160902/X/SPY_BATS.npy\n"
     ]
    },
    {
     "name": "stderr",
     "output_type": "stream",
     "text": [
      "ERROR:root:(211199, 10, 30, 2, 3)\n",
      "ERROR:root:211199\n",
      "ERROR:root:/rds/general/user/kk2219/ephemeral/data/lob_2_vec/full_depth/train_2016/20160902/X/SPY_NASDAQ.npy\n",
      "ERROR:root:/rds/general/user/kk2219/ephemeral/data/lob_2_vec/full_depth/train_2016/20160902/Y/SPY_NASDAQ.npy\n"
     ]
    },
    {
     "name": "stdout",
     "output_type": "stream",
     "text": [
      "/rds/general/user/kk2219/ephemeral/data/lob_2_vec/full_depth/train_2016/20160902/Y/SPY_NASDAQ.npy\n",
      "/rds/general/user/kk2219/ephemeral/data/lob_2_vec/full_depth/train_2016/20160902/X/SPY_NASDAQ.npy\n"
     ]
    },
    {
     "name": "stderr",
     "output_type": "stream",
     "text": [
      "ERROR:root:(231824, 10, 30, 2, 3)\n",
      "ERROR:root:231824\n",
      "ERROR:root:/rds/general/user/kk2219/ephemeral/data/lob_2_vec/full_depth/train_2016/20160902/X/VOD_ARCA.npy\n",
      "ERROR:root:/rds/general/user/kk2219/ephemeral/data/lob_2_vec/full_depth/train_2016/20160902/Y/VOD_ARCA.npy\n"
     ]
    },
    {
     "name": "stdout",
     "output_type": "stream",
     "text": [
      "/rds/general/user/kk2219/ephemeral/data/lob_2_vec/full_depth/train_2016/20160902/Y/VOD_ARCA.npy\n",
      "/rds/general/user/kk2219/ephemeral/data/lob_2_vec/full_depth/train_2016/20160902/X/VOD_ARCA.npy\n"
     ]
    },
    {
     "name": "stderr",
     "output_type": "stream",
     "text": [
      "ERROR:root:(50299, 10, 30, 2, 3)\n",
      "ERROR:root:50299\n",
      "ERROR:root:/rds/general/user/kk2219/ephemeral/data/lob_2_vec/full_depth/train_2016/20160902/X/GOOG_BATS.npy\n",
      "ERROR:root:/rds/general/user/kk2219/ephemeral/data/lob_2_vec/full_depth/train_2016/20160902/Y/GOOG_BATS.npy\n"
     ]
    },
    {
     "name": "stdout",
     "output_type": "stream",
     "text": [
      "/rds/general/user/kk2219/ephemeral/data/lob_2_vec/full_depth/train_2016/20160902/Y/GOOG_BATS.npy\n",
      "/rds/general/user/kk2219/ephemeral/data/lob_2_vec/full_depth/train_2016/20160902/X/GOOG_BATS.npy\n"
     ]
    },
    {
     "name": "stderr",
     "output_type": "stream",
     "text": [
      "ERROR:root:(6515, 10, 30, 2, 3)\n",
      "ERROR:root:6515\n",
      "ERROR:root:/rds/general/user/kk2219/ephemeral/data/lob_2_vec/full_depth/train_2016/20160902/X/IBM_BATS.npy\n",
      "ERROR:root:/rds/general/user/kk2219/ephemeral/data/lob_2_vec/full_depth/train_2016/20160902/Y/IBM_BATS.npy\n"
     ]
    },
    {
     "name": "stdout",
     "output_type": "stream",
     "text": [
      "/rds/general/user/kk2219/ephemeral/data/lob_2_vec/full_depth/train_2016/20160902/Y/IBM_BATS.npy\n",
      "/rds/general/user/kk2219/ephemeral/data/lob_2_vec/full_depth/train_2016/20160902/X/IBM_BATS.npy\n"
     ]
    },
    {
     "name": "stderr",
     "output_type": "stream",
     "text": [
      "ERROR:root:(6744, 10, 30, 2, 3)\n",
      "ERROR:root:6744\n",
      "ERROR:root:/rds/general/user/kk2219/ephemeral/data/lob_2_vec/full_depth/train_2016/20160902/X/IBM_EDGX.npy\n",
      "ERROR:root:/rds/general/user/kk2219/ephemeral/data/lob_2_vec/full_depth/train_2016/20160902/Y/IBM_EDGX.npy\n",
      "ERROR:root:(3011, 10, 30, 2, 3)\n",
      "ERROR:root:3011\n"
     ]
    },
    {
     "name": "stdout",
     "output_type": "stream",
     "text": [
      "/rds/general/user/kk2219/ephemeral/data/lob_2_vec/full_depth/train_2016/20160902/Y/IBM_EDGX.npy\n",
      "/rds/general/user/kk2219/ephemeral/data/lob_2_vec/full_depth/train_2016/20160902/X/IBM_EDGX.npy\n"
     ]
    },
    {
     "name": "stderr",
     "output_type": "stream",
     "text": [
      "ERROR:root:/rds/general/user/kk2219/ephemeral/data/lob_2_vec/full_depth/train_2016/20160902/X/ABEO_NASDAQ.npy\n",
      "ERROR:root:/rds/general/user/kk2219/ephemeral/data/lob_2_vec/full_depth/train_2016/20160902/Y/ABEO_NASDAQ.npy\n",
      "ERROR:root:(263, 10, 30, 2, 3)\n",
      "ERROR:root:263\n"
     ]
    },
    {
     "name": "stdout",
     "output_type": "stream",
     "text": [
      "/rds/general/user/kk2219/ephemeral/data/lob_2_vec/full_depth/train_2016/20160902/Y/ABEO_NASDAQ.npy\n",
      "/rds/general/user/kk2219/ephemeral/data/lob_2_vec/full_depth/train_2016/20160902/X/ABEO_NASDAQ.npy\n"
     ]
    }
   ],
   "source": [
    "# Test Data\n",
    "#save_data(paths.source_test_2017, paths.dest_2017, '_Test2017_')\n",
    "\n",
    "#save_individual_files(paths.source_train_dev, paths.generator_train_dev, num_frames)\n",
    "#save_individual_files(paths.source_val_dev, paths.generator_val_dev, num_frames)\n",
    "#save_individual_files(paths.source_test_dev, paths.generator_test_dev, num_frames)\n",
    "\n",
    "save_individual_files(paths.source_test_2016, paths.generator_test_2016, num_frames)\n",
    "save_individual_files(paths.source_val_2016, paths.generator_val_2016, num_frames)\n",
    "save_individual_files(paths.source_train_2016, paths.generator_train_2016, num_frames)\n",
    "\n",
    "#save_individual_files(paths.source_train_2017, paths.generator_train_2017, num_frames)\n",
    "#save_individual_files(paths.source_val_2017, paths.generator_val_2017, num_frames)\n",
    "#save_individual_files(paths.source_test_2017, paths.generator_test_2017, num_frames)"
   ]
  },
  {
   "cell_type": "code",
   "execution_count": null,
   "metadata": {},
   "outputs": [],
   "source": []
  }
 ],
 "metadata": {
  "kernelspec": {
   "display_name": "Python [conda env:spoofing_new]",
   "language": "python",
   "name": "conda-env-spoofing_new-py"
  },
  "language_info": {
   "codemirror_mode": {
    "name": "ipython",
    "version": 3
   },
   "file_extension": ".py",
   "mimetype": "text/x-python",
   "name": "python",
   "nbconvert_exporter": "python",
   "pygments_lexer": "ipython3",
   "version": "3.7.7"
  }
 },
 "nbformat": 4,
 "nbformat_minor": 2
}
