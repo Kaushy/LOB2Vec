{
 "cells": [
  {
   "cell_type": "code",
   "execution_count": null,
   "metadata": {},
   "outputs": [],
   "source": [
    "import os\n",
    "import numpy as np\n",
    "import pandas as pd\n",
    "import seaborn as sns; sns.set()\n",
    "import matplotlib.pyplot as plt\n",
    "import sys\n",
    "import tensorflow as tf\n",
    "import time\n",
    "from pylab import *\n",
    "from sklearn.preprocessing import MinMaxScaler, QuantileTransformer\n",
    "from skimage.util.shape import view_as_windows\n",
    "\n",
    "module_path = os.path.abspath(os.path.join('..'))\n",
    "project_path = os.path.abspath(os.path.join('../..'))\n",
    "source = os.path.abspath(os.path.join('../../../data/LOB2VecData/Research/source/prototype'))\n",
    "dest = os.path.abspath(os.path.join('../../../data/LOB2VecData/Research/destination'))\n",
    "\n",
    "if module_path not in sys.path:\n",
    "    sys.path.append(module_path)\n",
    "if project_path not in sys.path:\n",
    "    sys.path.append(project_path)\n",
    "    \n",
    "np.set_printoptions(suppress=True)\n",
    "np.set_printoptions(threshold=sys.maxsize)"
   ]
  },
  {
   "cell_type": "code",
   "execution_count": null,
   "metadata": {},
   "outputs": [],
   "source": [
    "num_frames = 500"
   ]
  },
  {
   "cell_type": "code",
   "execution_count": null,
   "metadata": {},
   "outputs": [],
   "source": [
    "def retrieve_cleansed_data(lob, width, filename):\n",
    "    min_max_scaler = MinMaxScaler(feature_range=(0,50))\n",
    "    quantile_transformer = QuantileTransformer()\n",
    "    \n",
    "    # As evidenced by above, we can technically select all in the second axis as there is only 1 element. However, \n",
    "    # because we need a 2d input we make it 0. The 3rd axis is side so we need this\n",
    "    lob_qty_buy = pd.DataFrame(lob['quantity'][:,0,0,0:20])\n",
    "    lob_qty_buy = lob_qty_buy.replace(0, np.NaN)\n",
    "    \n",
    "    lob_qty_sell = pd.DataFrame(lob['quantity'][:,0,1,0:20])\n",
    "    lob_qty_sell = lob_qty_sell.replace(0, np.NaN)\n",
    "  \n",
    "    lob_n, d, w, h = lob['quantity'].shape\n",
    "    b_qty = lob['quantity'][:,0,0,:]\n",
    "    s_qty = lob['quantity'][:,0,1,:]\n",
    "    lob_qty = np.stack((b_qty, s_qty), axis=2)\n",
    "\n",
    "    lob_qty = lob_qty.reshape(-1,1)\n",
    "    lob_qty = min_max_scaler.fit_transform(lob_qty)\n",
    "    lob_qty = lob_qty.reshape(lob_n, h, w)\n",
    "    \n",
    "    b_price = lob['price'][:,0,0,:]\n",
    "    s_price = lob['price'][:,0,1,:]\n",
    "    lob_price = np.stack((b_price, s_price), axis=2)\n",
    "\n",
    "    lob_price = lob_price.reshape(-1,1)\n",
    "    lob_price = min_max_scaler.fit_transform(lob_price)\n",
    "    lob_price = lob_price.reshape(lob_n, h, w)\n",
    "\n",
    "    lob_states = np.dstack((lob_qty, lob_price))\n",
    "    lob_states = lob_states.reshape(lob_n, h, w, 2)\n",
    "    # We use the num_frames for step count so that the windows are non-overlapping. We can also use view_as_blocks but the issue with this is that it requires precise block splits. i.e: If block does not have enough data it will\n",
    "    # not make block\n",
    "    print(lob_states.shape)\n",
    "    if ((len(lob_states) - num_frames) < 0):\n",
    "        return [], []\n",
    "    else:\n",
    "        lob_states = view_as_windows(lob_states,(width,1,1,1), step=(num_frames,1,1,1))[...,0,0,0].transpose(0,4,1,2,3)\n",
    "        labels = np.full(len(lob_states), filename)\n",
    "        return lob_states, labels"
   ]
  },
  {
   "cell_type": "code",
   "execution_count": null,
   "metadata": {},
   "outputs": [],
   "source": [
    "def convert_data_to_labels(data_source, frames):\n",
    "    X = None\n",
    "    Y = None\n",
    "    for subdir, dirs, files in os.walk(data_source):\n",
    "        for file in files:\n",
    "            data_path = os.path.join(subdir, file)\n",
    "            print(data_path)\n",
    "            npy = np.load(data_path)\n",
    "            x, y = retrieve_cleansed_data(npy, frames, file)\n",
    "            if len(x) > 0:\n",
    "                if X is not None:\n",
    "                    X = np.append(X, x, axis=0)\n",
    "                    print(X.shape)\n",
    "                    print(x.shape)\n",
    "                else:\n",
    "                    X = x\n",
    "                    \n",
    "            if len(y) > 0:    \n",
    "                if Y is not None:\n",
    "                    Y = np.append(Y, y, axis=0)\n",
    "                else:\n",
    "                    Y = y\n",
    "    return X, Y"
   ]
  },
  {
   "cell_type": "code",
   "execution_count": null,
   "metadata": {},
   "outputs": [],
   "source": [
    "def save_training_data(path, source, frames):\n",
    "    X, Y = convert_data_to_labels(source, frames)\n",
    "    \n",
    "\n",
    "    np.save(path + '/' + str(frames) + '_small_X.npy', X)\n",
    "    np.save(path + '/' + str(frames) + '_small_Y.npy', Y)\n",
    "    \n",
    "save_training_data(dest, source, num_frames)"
   ]
  },
  {
   "cell_type": "code",
   "execution_count": null,
   "metadata": {},
   "outputs": [],
   "source": []
  }
 ],
 "metadata": {
  "kernelspec": {
   "display_name": "Python [conda env:spoofing_new]",
   "language": "python",
   "name": "conda-env-spoofing_new-py"
  },
  "language_info": {
   "codemirror_mode": {
    "name": "ipython",
    "version": 3
   },
   "file_extension": ".py",
   "mimetype": "text/x-python",
   "name": "python",
   "nbconvert_exporter": "python",
   "pygments_lexer": "ipython3",
   "version": "3.7.7"
  }
 },
 "nbformat": 4,
 "nbformat_minor": 2
}
