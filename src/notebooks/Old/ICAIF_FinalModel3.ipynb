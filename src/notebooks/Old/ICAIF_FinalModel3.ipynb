{
 "cells": [
  {
   "cell_type": "code",
   "execution_count": 1,
   "metadata": {},
   "outputs": [],
   "source": [
    "import os\n",
    "import numpy as np\n",
    "import pandas as pd\n",
    "import seaborn as sns; sns.set()\n",
    "import matplotlib.pyplot as plt\n",
    "import sys\n",
    "import tensorflow as tf\n",
    "import time\n",
    "from pylab import *\n",
    "from sklearn.preprocessing import MinMaxScaler, QuantileTransformer\n",
    "from skimage.util.shape import view_as_windows\n",
    "from sklearn.metrics import roc_curve,roc_auc_score\n",
    "from tcn import TCN, tcn_full_summary\n",
    "from tensorflow.keras.layers import Dense, Conv2D, Layer, Lambda, Flatten\n",
    "from tensorflow.keras import Input, Model, metrics\n",
    "from tensorflow.keras import backend as K\n",
    "from tensorflow.keras.optimizers import Adam\n",
    "from tensorflow.keras.regularizers import l2\n",
    "from tensorflow.keras.utils import plot_model\n",
    "from tensorflow.python.client import device_lib\n",
    "\n",
    "module_path = os.path.abspath(os.path.join('..'))\n",
    "project_path = os.path.abspath(os.path.join('../..'))\n",
    "train_source = os.path.abspath(os.path.join('../../data/train_source/'))\n",
    "test_source = os.path.abspath(os.path.join('../../data/test_source/'))\n",
    "train_path = os.path.abspath(os.path.join('../../data/train/'))\n",
    "test_path = os.path.abspath(os.path.join('../../data/test/'))\n",
    "dest_path_bsu = os.path.abspath(os.path.join('../../data/final_bsu/'))\n",
    "dest_path_bs = os.path.abspath(os.path.join('../../data/final_bs/'))\n",
    "val_path_bs = os.path.abspath(os.path.join('../../data/validation_bs/'))\n",
    "val_path_bsu = os.path.abspath(os.path.join('../../data/validation_bsu/'))\n",
    "\n",
    "if module_path not in sys.path:\n",
    "    sys.path.append(module_path)\n",
    "if project_path not in sys.path:\n",
    "    sys.path.append(project_path)\n",
    "    \n",
    "np.set_printoptions(suppress=True)\n",
    "np.set_printoptions(threshold=sys.maxsize)\n",
    "#print(device_lib.list_local_devices())"
   ]
  },
  {
   "cell_type": "code",
   "execution_count": 2,
   "metadata": {},
   "outputs": [],
   "source": [
    "# 1. Train 10 without weights 128 bs - DONE\n",
    "# 2. Train 10 without weights 256 bs - DONE\n",
    "# 3. Train 10 without weights 1024 bs - DONE\n",
    "# 4. Train 10 weights 128 bs - DONE\n",
    "# 5. Train 10 weights 256 bs - DONE\n",
    "# 6. Train 10 weights 1024 bs - DONE\n",
    "# 7. Train 10 without weights 128 bsu - DONE\n",
    "# 8. Train 10 without weights 256 bsu - DONE\n",
    "# 9. Train 10 without weights 1024 bsu - DONE\n",
    "# 10. Train 10 weights 128 bsu - RUNNING\n",
    "# 11. Train 10 weights 256 bsu\n",
    "# 12. Train 10 weights 1024 bsu\n",
    "\n",
    "\n",
    "# 13. Train 50 without weights 128 bs\n",
    "# 14. Train 50 without weights 256 bs\n",
    "# 15. Train 50 without weights 1024 bs\n",
    "# 16. Train 50 weights 128 bs\n",
    "# 17. Train 50 weights 256 bs\n",
    "# 18. Train 50 weights 1024 bs\n",
    "# 19. Train 50 without weights 128 bsu\n",
    "# 20. Train 50 without weights 256 bsu\n",
    "# 21. Train 50 without weights 1024 bsu\n",
    "# 22. Train 50 weights 128 bsu\n",
    "# 23. Train 50 weights 256 bsu\n",
    "# 24. Train 50 weights 1024 bsu\n"
   ]
  },
  {
   "cell_type": "code",
   "execution_count": 3,
   "metadata": {},
   "outputs": [],
   "source": [
    "# Hyperparameters\n",
    "nb_classes=2\n",
    "cols, rows = 2, 30\n",
    "input_shape = (cols, rows, 1)\n",
    "vol_imb_diff = 0.1\n",
    "evaluate_every = 100 # interval for evaluating on one-shot tasks\n",
    "batch_size = 32\n",
    "n_iter = 20000 # No. of training iterations\n",
    "n_val = 250 # how many one-shot tasks to validate on\n",
    "h = 30\n",
    "w = 2\n",
    "d = 2"
   ]
  },
  {
   "cell_type": "code",
   "execution_count": 4,
   "metadata": {},
   "outputs": [
    {
     "name": "stdout",
     "output_type": "stream",
     "text": [
      "(265825, 10, 30, 2, 2)\n",
      "(93741, 10, 30, 2, 2)\n",
      "(19733, 10, 30, 2, 2)\n"
     ]
    }
   ],
   "source": [
    "num_frames = 10\n",
    "# FOR BS Training \n",
    "# Train\n",
    "X_train = np.load(dest_path_bs + '/' + str(num_frames) + '_X_train.npy')\n",
    "Y_train = np.load(dest_path_bs + '/' + str(num_frames) + '_Y_train.npy')\n",
    "F_train = np.load(dest_path_bs + '/' + str(num_frames) + '_F_train.npy')\n",
    "X_test = np.load(dest_path_bs + '/' + str(num_frames) + '_X_test.npy')\n",
    "Y_test = np.load(dest_path_bs + '/' + str(num_frames) + '_Y_test.npy')\n",
    "F_test = np.load(dest_path_bs + '/' + str(num_frames) + '_F_test.npy')\n",
    "\n",
    "print(X_train.shape)\n",
    "print(X_test.shape)\n",
    "\n",
    "#X_train = np.append(X_train, X_test, axis=0)\n",
    "#Y_train = np.append(Y_train, Y_test, axis=0)\n",
    "#F_train = np.append(F_train, F_test, axis=0)\n",
    "#print(X_train.shape)\n",
    "\n",
    "# Validation\n",
    "X_val = np.load(val_path_bs + '/' + str(num_frames) + '_X_val.npy')\n",
    "Y_val = np.load(val_path_bs + '/' + str(num_frames) + '_Y_val.npy')\n",
    "print(X_val.shape)"
   ]
  },
  {
   "cell_type": "code",
   "execution_count": 5,
   "metadata": {},
   "outputs": [
    {
     "name": "stdout",
     "output_type": "stream",
     "text": [
      "(50000, 10, 30, 2, 2)\n",
      "(50000, 10, 30, 2, 2)\n",
      "(100000, 10, 30, 2, 2)\n"
     ]
    }
   ],
   "source": [
    "# FOR BSU Training \n",
    "# Train\n",
    "Xu_train = np.load(dest_path_bsu + '/' + str(num_frames) + '_X_train.npy')\n",
    "Yu_train = np.load(dest_path_bsu + '/' + str(num_frames) + '_Y_train.npy')\n",
    "Fu_train = np.load(dest_path_bsu + '/' + str(num_frames) + '_F_train.npy')\n",
    "Xu_test = np.load(dest_path_bsu + '/' + str(num_frames) + '_X_test.npy')\n",
    "Yu_test = np.load(dest_path_bsu + '/' + str(num_frames) + '_Y_test.npy')\n",
    "Fu_test = np.load(dest_path_bsu + '/' + str(num_frames) + '_F_test.npy')\n",
    "\n",
    "print(Xu_train.shape)\n",
    "print(Xu_test.shape)\n",
    "\n",
    "Xu_train = np.append(Xu_train, Xu_test, axis=0)\n",
    "Yu_train = np.append(Yu_train, Yu_test, axis=0)\n",
    "Fu_train = np.append(Fu_train, Fu_test, axis=0)\n",
    "print(Xu_train.shape)\n",
    "\n",
    "# Validation\n",
    "Xu_val = np.load(val_path_bsu + '/' + str(num_frames) + '_X_val.npy')\n",
    "Yu_val = np.load(val_path_bsu + '/' + str(num_frames) + '_Y_val.npy')"
   ]
  },
  {
   "cell_type": "code",
   "execution_count": 33,
   "metadata": {},
   "outputs": [
    {
     "name": "stdout",
     "output_type": "stream",
     "text": [
      "(465825, 10, 30, 2, 2)\n",
      "(465825,)\n",
      "(375733, 10, 30, 2, 2)\n"
     ]
    }
   ],
   "source": [
    "# COMBINE BS AND BSU\n",
    "X_train = np.append(X_train, Xu_train, axis=0)\n",
    "Y_train = np.append(Y_train, Yu_train, axis=0)\n",
    "F_train = np.append(F_train, Fu_train, axis=0)\n",
    "print(X_train.shape)\n",
    "print(F_train.shape)\n",
    "\n",
    "X_val = np.append(X_val, Xu_val, axis=0)\n",
    "Y_val = np.append(Y_val, Yu_val, axis=0)\n",
    "print(X_val.shape)"
   ]
  },
  {
   "cell_type": "markdown",
   "metadata": {},
   "source": [
    "### Model Initialisation"
   ]
  },
  {
   "cell_type": "code",
   "execution_count": 7,
   "metadata": {},
   "outputs": [
    {
     "data": {
      "text/plain": [
       "Text(0.5, 1.0, 'Plot of biases initialized, with mean of 0.0 and standard deviation of 0.01')"
      ]
     },
     "execution_count": 7,
     "metadata": {},
     "output_type": "execute_result"
    },
    {
     "data": {
      "image/png": "[encoded data removed]",
      "text/plain": [
       "<Figure size 432x288 with 1 Axes>"
      ]
     },
     "metadata": {},
     "output_type": "display_data"
    }
   ],
   "source": [
    "def initialize_weights(shape, name=None, dtype=None):\n",
    "    \"\"\"\n",
    "        The paper, http://www.cs.utoronto.ca/~gkoch/files/msc-thesis.pdf\n",
    "        suggests to initialize CNN layer weights with mean as 0.0 and standard deviation of 0.01\n",
    "    \"\"\"\n",
    "    return np.random.normal(loc = 0.0, scale = 1e-2, size = shape)\n",
    "\n",
    "def initialize_bias(shape, name=None, dtype=None):\n",
    "    \"\"\"\n",
    "        The paper, http://www.cs.utoronto.ca/~gkoch/files/msc-thesis.pdf\n",
    "        suggests to initialize CNN layer bias with mean as 0.5 and standard deviation of 0.01\n",
    "    \"\"\"\n",
    "    return np.random.normal(loc = 0.5, scale = 1e-2, size = shape)\n",
    "\n",
    "# Intialize bias with mean 0.0 and standard deviation of 10^-2\n",
    "weights = initialize_weights((1000,1))\n",
    "sns.distplot(weights)\n",
    "plt.title(\"Plot of weights initialized, with mean of 0.0 and standard deviation of 0.01\")\n",
    "\n",
    "# Intialize bias with mean 0.5 and standard deviation of 10^-2\n",
    "bias = initialize_bias((1000,1))\n",
    "sns.distplot(bias)\n",
    "plt.title(\"Plot of biases initialized, with mean of 0.0 and standard deviation of 0.01\")"
   ]
  },
  {
   "cell_type": "code",
   "execution_count": 8,
   "metadata": {},
   "outputs": [],
   "source": [
    "class CategoricalTruePositives(tf.keras.metrics.Metric):\n",
    "    def __init__(self, num_classes, batch_size,\n",
    "                 name=\"categorical_true_positives\", **kwargs):\n",
    "        super(CategoricalTruePositives, self).__init__(name=name, **kwargs)\n",
    "\n",
    "        self.batch_size = batch_size\n",
    "        self.num_classes = num_classes    \n",
    "\n",
    "        self.cat_true_positives = self.add_weight(name=\"ctp\", initializer=\"zeros\")\n",
    "\n",
    "    def update_state(self, y_true, y_pred, sample_weight=None):     \n",
    "\n",
    "        y_true = K.argmax(y_true, axis=-1)\n",
    "        y_pred = K.argmax(y_pred, axis=-1)\n",
    "        y_true = K.flatten(y_true)\n",
    "\n",
    "        true_poss = K.sum(K.cast((K.equal(y_true, y_pred)), dtype=tf.float32))\n",
    "        self.cat_true_positives.assign_add(true_poss)\n",
    "\n",
    "    def result(self):\n",
    "        return self.cat_true_positives"
   ]
  },
  {
   "cell_type": "code",
   "execution_count": 30,
   "metadata": {},
   "outputs": [
    {
     "name": "stdout",
     "output_type": "stream",
     "text": [
      "Model: \"model_6\"\n",
      "_________________________________________________________________\n",
      "Layer (type)                 Output Shape              Param #   \n",
      "=================================================================\n",
      "input_4 (InputLayer)         [(None, 10, 30, 2, 2)]    0         \n",
      "_________________________________________________________________\n",
      "lambda_7 (Lambda)            (None, 10, 120)           0         \n",
      "_________________________________________________________________\n",
      "tcn_3 (TCN)                  (None, 128)               473984    \n",
      "_________________________________________________________________\n",
      "flatten_3 (Flatten)          (None, 128)               0         \n",
      "_________________________________________________________________\n",
      "dense_6 (Dense)              (None, 128)               16512     \n",
      "=================================================================\n",
      "Total params: 490,496\n",
      "Trainable params: 490,496\n",
      "Non-trainable params: 0\n",
      "_________________________________________________________________\n",
      "Model: \"model_7\"\n",
      "_________________________________________________________________\n",
      "Layer (type)                 Output Shape              Param #   \n",
      "=================================================================\n",
      "anchor_input (InputLayer)    [(None, 10, 30, 2, 2)]    0         \n",
      "_________________________________________________________________\n",
      "model_6 (Model)              (None, 128)               490496    \n",
      "_________________________________________________________________\n",
      "dense_7 (Dense)              (None, 3)                 387       \n",
      "=================================================================\n",
      "Total params: 490,883\n",
      "Trainable params: 490,883\n",
      "Non-trainable params: 0\n",
      "_________________________________________________________________\n",
      "Model: \"model_6\"\n",
      "_________________________________________________________________\n",
      "Layer (type)                 Output Shape              Param #   \n",
      "=================================================================\n",
      "input_4 (InputLayer)         [(None, 10, 30, 2, 2)]    0         \n",
      "_________________________________________________________________\n",
      "lambda_7 (Lambda)            (None, 10, 120)           0         \n",
      "_________________________________________________________________\n",
      "matching_conv1D (Conv1D)     (None, 10, 128)           15488     \n",
      "_________________________________________________________________\n",
      "activation_65 (Activation)   (None, 10, 128)           0         \n",
      "_________________________________________________________________\n",
      "conv1D_0 (Conv1D)            (None, 10, 128)           30848     \n",
      "_________________________________________________________________\n",
      "activation_63 (Activation)   (None, 10, 128)           0         \n",
      "_________________________________________________________________\n",
      "spatial_dropout1d_42 (Spatia (None, 10, 128)           0         \n",
      "_________________________________________________________________\n",
      "conv1D_1 (Conv1D)            (None, 10, 128)           32896     \n",
      "_________________________________________________________________\n",
      "activation_64 (Activation)   (None, 10, 128)           0         \n",
      "_________________________________________________________________\n",
      "spatial_dropout1d_43 (Spatia (None, 10, 128)           0         \n",
      "_________________________________________________________________\n",
      "matching_identity (Lambda)   (None, 10, 128)           0         \n",
      "_________________________________________________________________\n",
      "activation_68 (Activation)   (None, 10, 128)           0         \n",
      "_________________________________________________________________\n",
      "conv1D_0 (Conv1D)            (None, 10, 128)           32896     \n",
      "_________________________________________________________________\n",
      "activation_66 (Activation)   (None, 10, 128)           0         \n",
      "_________________________________________________________________\n",
      "spatial_dropout1d_44 (Spatia (None, 10, 128)           0         \n",
      "_________________________________________________________________\n",
      "conv1D_1 (Conv1D)            (None, 10, 128)           32896     \n",
      "_________________________________________________________________\n",
      "activation_67 (Activation)   (None, 10, 128)           0         \n",
      "_________________________________________________________________\n",
      "spatial_dropout1d_45 (Spatia (None, 10, 128)           0         \n",
      "_________________________________________________________________\n",
      "matching_identity (Lambda)   (None, 10, 128)           0         \n",
      "_________________________________________________________________\n",
      "activation_71 (Activation)   (None, 10, 128)           0         \n",
      "_________________________________________________________________\n",
      "conv1D_0 (Conv1D)            (None, 10, 128)           32896     \n",
      "_________________________________________________________________\n",
      "activation_69 (Activation)   (None, 10, 128)           0         \n",
      "_________________________________________________________________\n",
      "spatial_dropout1d_46 (Spatia (None, 10, 128)           0         \n",
      "_________________________________________________________________\n",
      "conv1D_1 (Conv1D)            (None, 10, 128)           32896     \n",
      "_________________________________________________________________\n",
      "activation_70 (Activation)   (None, 10, 128)           0         \n",
      "_________________________________________________________________\n",
      "spatial_dropout1d_47 (Spatia (None, 10, 128)           0         \n",
      "_________________________________________________________________\n",
      "matching_identity (Lambda)   (None, 10, 128)           0         \n",
      "_________________________________________________________________\n",
      "activation_74 (Activation)   (None, 10, 128)           0         \n",
      "_________________________________________________________________\n",
      "conv1D_0 (Conv1D)            (None, 10, 128)           32896     \n",
      "_________________________________________________________________\n",
      "activation_72 (Activation)   (None, 10, 128)           0         \n",
      "_________________________________________________________________\n",
      "spatial_dropout1d_48 (Spatia (None, 10, 128)           0         \n",
      "_________________________________________________________________\n",
      "conv1D_1 (Conv1D)            (None, 10, 128)           32896     \n",
      "_________________________________________________________________\n",
      "activation_73 (Activation)   (None, 10, 128)           0         \n",
      "_________________________________________________________________\n",
      "spatial_dropout1d_49 (Spatia (None, 10, 128)           0         \n",
      "_________________________________________________________________\n",
      "matching_identity (Lambda)   (None, 10, 128)           0         \n",
      "_________________________________________________________________\n",
      "activation_77 (Activation)   (None, 10, 128)           0         \n",
      "_________________________________________________________________\n",
      "conv1D_0 (Conv1D)            (None, 10, 128)           32896     \n",
      "_________________________________________________________________\n",
      "activation_75 (Activation)   (None, 10, 128)           0         \n",
      "_________________________________________________________________\n",
      "spatial_dropout1d_50 (Spatia (None, 10, 128)           0         \n",
      "_________________________________________________________________\n",
      "conv1D_1 (Conv1D)            (None, 10, 128)           32896     \n",
      "_________________________________________________________________\n",
      "activation_76 (Activation)   (None, 10, 128)           0         \n",
      "_________________________________________________________________\n",
      "spatial_dropout1d_51 (Spatia (None, 10, 128)           0         \n",
      "_________________________________________________________________\n",
      "matching_identity (Lambda)   (None, 10, 128)           0         \n",
      "_________________________________________________________________\n",
      "activation_80 (Activation)   (None, 10, 128)           0         \n",
      "_________________________________________________________________\n",
      "conv1D_0 (Conv1D)            (None, 10, 128)           32896     \n",
      "_________________________________________________________________\n",
      "activation_78 (Activation)   (None, 10, 128)           0         \n",
      "_________________________________________________________________\n",
      "spatial_dropout1d_52 (Spatia (None, 10, 128)           0         \n",
      "_________________________________________________________________\n",
      "conv1D_1 (Conv1D)            (None, 10, 128)           32896     \n",
      "_________________________________________________________________\n",
      "activation_79 (Activation)   (None, 10, 128)           0         \n",
      "_________________________________________________________________\n",
      "spatial_dropout1d_53 (Spatia (None, 10, 128)           0         \n",
      "_________________________________________________________________\n",
      "matching_identity (Lambda)   (None, 10, 128)           0         \n",
      "_________________________________________________________________\n",
      "activation_83 (Activation)   (None, 10, 128)           0         \n",
      "_________________________________________________________________\n",
      "conv1D_0 (Conv1D)            (None, 10, 128)           32896     \n",
      "_________________________________________________________________\n",
      "activation_81 (Activation)   (None, 10, 128)           0         \n",
      "_________________________________________________________________\n",
      "spatial_dropout1d_54 (Spatia (None, 10, 128)           0         \n",
      "_________________________________________________________________\n",
      "conv1D_1 (Conv1D)            (None, 10, 128)           32896     \n",
      "_________________________________________________________________\n",
      "activation_82 (Activation)   (None, 10, 128)           0         \n",
      "_________________________________________________________________\n",
      "spatial_dropout1d_55 (Spatia (None, 10, 128)           0         \n",
      "_________________________________________________________________\n",
      "lambda_3 (Lambda)            (None, 128)               0         \n",
      "_________________________________________________________________\n",
      "flatten_3 (Flatten)          (None, 128)               0         \n",
      "_________________________________________________________________\n",
      "dense_6 (Dense)              (None, 128)               16512     \n",
      "=================================================================\n",
      "Total params: 490,496\n",
      "Trainable params: 490,496\n",
      "Non-trainable params: 0\n",
      "_________________________________________________________________\n"
     ]
    },
    {
     "data": {
      "image/png": "[encoded data removed]",
      "text/plain": [
       "<IPython.core.display.Image object>"
      ]
     },
     "execution_count": 30,
     "metadata": {},
     "output_type": "execute_result"
    }
   ],
   "source": [
    "def embedding_model(frames, h, w, c, input_shape, dimensions, include_top=False, pooling=None, classes=1):  \n",
    "    inp = Input(shape=(frames, h, w, c))\n",
    "    out = Lambda(lambda y: K.reshape(y, (-1, h, w, c)))(inp)\n",
    "    num_features_cnn = np.prod(K.int_shape(out)[1:])\n",
    "    out = Lambda(lambda y: K.reshape(y, (-1, num_frames, num_features_cnn)))(inp)\n",
    "    out = TCN(nb_filters=128, kernel_size=2, return_sequences=False, dilations=[1, 2, 4, 8, 16, 32, 64], \n",
    "              activation=tf.keras.activations.swish, nb_stacks=1, dropout_rate=0.08)(out)\n",
    "    out = Flatten()(out)\n",
    "    out = Dense(128, activation=None, kernel_regularizer=l2(1e-3), kernel_initializer='he_uniform')(out)    \n",
    "    return Model(inputs=inp, outputs=out)\n",
    "\n",
    "def triplets_model(input_shape, embedding, include_top=False, pooling=None):\n",
    "    anchor_input = Input(shape=input_shape, name='anchor_input')\n",
    "    encoded_a = embedding(anchor_input)\n",
    "    prediction = Dense(nb_classes+1, activation='softmax',bias_initializer=initialize_bias)(encoded_a)\n",
    "    triplet_net = Model(inputs=[anchor_input],outputs=[prediction])\n",
    "    return triplet_net\n",
    "\n",
    "build_embedding = embedding_model(num_frames, h, w, d, input_shape=(num_frames, h, w, d), dimensions=60)\n",
    "build_triplet = triplets_model(input_shape=(num_frames, h, w, d), embedding=build_embedding)\n",
    "optimizer = Adam(lr = 0.00006)\n",
    "build_triplet.compile(loss=tf.keras.losses.CategoricalCrossentropy(),optimizer=optimizer, \n",
    "                      metrics=[metrics.MeanSquaredError(), tf.keras.metrics.Recall(), tf.keras.metrics.Precision(),\n",
    "                      tf.keras.metrics.CategoricalAccuracy(name='acc'),\n",
    "                      CategoricalTruePositives(nb_classes, batch_size)])\n",
    "build_embedding.summary()\n",
    "build_triplet.summary()\n",
    "tcn_full_summary(build_embedding, expand_residual_blocks=True)\n",
    "plot_model(build_embedding, 'multi_input_and_output_model.png', show_shapes=True)"
   ]
  },
  {
   "cell_type": "markdown",
   "metadata": {},
   "source": [
    "### Training - 10 Frames "
   ]
  },
  {
   "cell_type": "code",
   "execution_count": 32,
   "metadata": {},
   "outputs": [
    {
     "name": "stdout",
     "output_type": "stream",
     "text": [
      "Epoch 1/200\n"
     ]
    },
    {
     "ename": "InvalidArgumentError",
     "evalue": " assertion failed: [predictions must be >= 0] [Condition x >= y did not hold element-wise:] [x (model_7/dense_7/Softmax:0) = ] [[nan nan nan]...] [y (Cast_5/x:0) = ] [0]\n\t [[{{node assert_greater_equal/Assert/AssertGuard/else/_1/Assert}}]] [Op:__inference_train_function_2718620]\n\nFunction call stack:\ntrain_function\n",
     "output_type": "error",
     "traceback": [
      "\u001b[0;31m---------------------------------------------------------------------------\u001b[0m",
      "\u001b[0;31mInvalidArgumentError\u001b[0m                      Traceback (most recent call last)",
      "\u001b[0;32m<ipython-input-32-5f5a7fc03d3a>\u001b[0m in \u001b[0;36m<module>\u001b[0;34m\u001b[0m\n\u001b[1;32m      3\u001b[0m history = build_triplet.fit(x=X_train, y=labels_train, batch_size=batch_size, epochs=200, verbose=1, callbacks=None, \n\u001b[1;32m      4\u001b[0m                               \u001b[0mvalidation_split\u001b[0m\u001b[0;34m=\u001b[0m\u001b[0;36m0.02\u001b[0m\u001b[0;34m,\u001b[0m \u001b[0mvalidation_data\u001b[0m\u001b[0;34m=\u001b[0m\u001b[0;32mNone\u001b[0m\u001b[0;34m,\u001b[0m \u001b[0mshuffle\u001b[0m\u001b[0;34m=\u001b[0m\u001b[0;32mTrue\u001b[0m\u001b[0;34m,\u001b[0m \u001b[0mclass_weight\u001b[0m\u001b[0;34m=\u001b[0m\u001b[0;32mNone\u001b[0m\u001b[0;34m,\u001b[0m\u001b[0;34m\u001b[0m\u001b[0;34m\u001b[0m\u001b[0m\n\u001b[0;32m----> 5\u001b[0;31m                               sample_weight=F_train, initial_epoch=0, steps_per_epoch=50, validation_steps=None)\n\u001b[0m",
      "\u001b[0;32m~/anaconda3/envs/spoofing_new/lib/python3.7/site-packages/tensorflow/python/keras/engine/training.py\u001b[0m in \u001b[0;36m_method_wrapper\u001b[0;34m(self, *args, **kwargs)\u001b[0m\n\u001b[1;32m     64\u001b[0m   \u001b[0;32mdef\u001b[0m \u001b[0m_method_wrapper\u001b[0m\u001b[0;34m(\u001b[0m\u001b[0mself\u001b[0m\u001b[0;34m,\u001b[0m \u001b[0;34m*\u001b[0m\u001b[0margs\u001b[0m\u001b[0;34m,\u001b[0m \u001b[0;34m**\u001b[0m\u001b[0mkwargs\u001b[0m\u001b[0;34m)\u001b[0m\u001b[0;34m:\u001b[0m\u001b[0;34m\u001b[0m\u001b[0;34m\u001b[0m\u001b[0m\n\u001b[1;32m     65\u001b[0m     \u001b[0;32mif\u001b[0m \u001b[0;32mnot\u001b[0m \u001b[0mself\u001b[0m\u001b[0;34m.\u001b[0m\u001b[0m_in_multi_worker_mode\u001b[0m\u001b[0;34m(\u001b[0m\u001b[0;34m)\u001b[0m\u001b[0;34m:\u001b[0m  \u001b[0;31m# pylint: disable=protected-access\u001b[0m\u001b[0;34m\u001b[0m\u001b[0;34m\u001b[0m\u001b[0m\n\u001b[0;32m---> 66\u001b[0;31m       \u001b[0;32mreturn\u001b[0m \u001b[0mmethod\u001b[0m\u001b[0;34m(\u001b[0m\u001b[0mself\u001b[0m\u001b[0;34m,\u001b[0m \u001b[0;34m*\u001b[0m\u001b[0margs\u001b[0m\u001b[0;34m,\u001b[0m \u001b[0;34m**\u001b[0m\u001b[0mkwargs\u001b[0m\u001b[0;34m)\u001b[0m\u001b[0;34m\u001b[0m\u001b[0;34m\u001b[0m\u001b[0m\n\u001b[0m\u001b[1;32m     67\u001b[0m \u001b[0;34m\u001b[0m\u001b[0m\n\u001b[1;32m     68\u001b[0m     \u001b[0;31m# Running inside `run_distribute_coordinator` already.\u001b[0m\u001b[0;34m\u001b[0m\u001b[0;34m\u001b[0m\u001b[0;34m\u001b[0m\u001b[0m\n",
      "\u001b[0;32m~/anaconda3/envs/spoofing_new/lib/python3.7/site-packages/tensorflow/python/keras/engine/training.py\u001b[0m in \u001b[0;36mfit\u001b[0;34m(self, x, y, batch_size, epochs, verbose, callbacks, validation_split, validation_data, shuffle, class_weight, sample_weight, initial_epoch, steps_per_epoch, validation_steps, validation_batch_size, validation_freq, max_queue_size, workers, use_multiprocessing)\u001b[0m\n\u001b[1;32m    846\u001b[0m                 batch_size=batch_size):\n\u001b[1;32m    847\u001b[0m               \u001b[0mcallbacks\u001b[0m\u001b[0;34m.\u001b[0m\u001b[0mon_train_batch_begin\u001b[0m\u001b[0;34m(\u001b[0m\u001b[0mstep\u001b[0m\u001b[0;34m)\u001b[0m\u001b[0;34m\u001b[0m\u001b[0;34m\u001b[0m\u001b[0m\n\u001b[0;32m--> 848\u001b[0;31m               \u001b[0mtmp_logs\u001b[0m \u001b[0;34m=\u001b[0m \u001b[0mtrain_function\u001b[0m\u001b[0;34m(\u001b[0m\u001b[0miterator\u001b[0m\u001b[0;34m)\u001b[0m\u001b[0;34m\u001b[0m\u001b[0;34m\u001b[0m\u001b[0m\n\u001b[0m\u001b[1;32m    849\u001b[0m               \u001b[0;31m# Catch OutOfRangeError for Datasets of unknown size.\u001b[0m\u001b[0;34m\u001b[0m\u001b[0;34m\u001b[0m\u001b[0;34m\u001b[0m\u001b[0m\n\u001b[1;32m    850\u001b[0m               \u001b[0;31m# This blocks until the batch has finished executing.\u001b[0m\u001b[0;34m\u001b[0m\u001b[0;34m\u001b[0m\u001b[0;34m\u001b[0m\u001b[0m\n",
      "\u001b[0;32m~/anaconda3/envs/spoofing_new/lib/python3.7/site-packages/tensorflow/python/eager/def_function.py\u001b[0m in \u001b[0;36m__call__\u001b[0;34m(self, *args, **kwds)\u001b[0m\n\u001b[1;32m    578\u001b[0m         \u001b[0mxla_context\u001b[0m\u001b[0;34m.\u001b[0m\u001b[0mExit\u001b[0m\u001b[0;34m(\u001b[0m\u001b[0;34m)\u001b[0m\u001b[0;34m\u001b[0m\u001b[0;34m\u001b[0m\u001b[0m\n\u001b[1;32m    579\u001b[0m     \u001b[0;32melse\u001b[0m\u001b[0;34m:\u001b[0m\u001b[0;34m\u001b[0m\u001b[0;34m\u001b[0m\u001b[0m\n\u001b[0;32m--> 580\u001b[0;31m       \u001b[0mresult\u001b[0m \u001b[0;34m=\u001b[0m \u001b[0mself\u001b[0m\u001b[0;34m.\u001b[0m\u001b[0m_call\u001b[0m\u001b[0;34m(\u001b[0m\u001b[0;34m*\u001b[0m\u001b[0margs\u001b[0m\u001b[0;34m,\u001b[0m \u001b[0;34m**\u001b[0m\u001b[0mkwds\u001b[0m\u001b[0;34m)\u001b[0m\u001b[0;34m\u001b[0m\u001b[0;34m\u001b[0m\u001b[0m\n\u001b[0m\u001b[1;32m    581\u001b[0m \u001b[0;34m\u001b[0m\u001b[0m\n\u001b[1;32m    582\u001b[0m     \u001b[0;32mif\u001b[0m \u001b[0mtracing_count\u001b[0m \u001b[0;34m==\u001b[0m \u001b[0mself\u001b[0m\u001b[0;34m.\u001b[0m\u001b[0m_get_tracing_count\u001b[0m\u001b[0;34m(\u001b[0m\u001b[0;34m)\u001b[0m\u001b[0;34m:\u001b[0m\u001b[0;34m\u001b[0m\u001b[0;34m\u001b[0m\u001b[0m\n",
      "\u001b[0;32m~/anaconda3/envs/spoofing_new/lib/python3.7/site-packages/tensorflow/python/eager/def_function.py\u001b[0m in \u001b[0;36m_call\u001b[0;34m(self, *args, **kwds)\u001b[0m\n\u001b[1;32m    609\u001b[0m       \u001b[0;31m# In this case we have created variables on the first call, so we run the\u001b[0m\u001b[0;34m\u001b[0m\u001b[0;34m\u001b[0m\u001b[0;34m\u001b[0m\u001b[0m\n\u001b[1;32m    610\u001b[0m       \u001b[0;31m# defunned version which is guaranteed to never create variables.\u001b[0m\u001b[0;34m\u001b[0m\u001b[0;34m\u001b[0m\u001b[0;34m\u001b[0m\u001b[0m\n\u001b[0;32m--> 611\u001b[0;31m       \u001b[0;32mreturn\u001b[0m \u001b[0mself\u001b[0m\u001b[0;34m.\u001b[0m\u001b[0m_stateless_fn\u001b[0m\u001b[0;34m(\u001b[0m\u001b[0;34m*\u001b[0m\u001b[0margs\u001b[0m\u001b[0;34m,\u001b[0m \u001b[0;34m**\u001b[0m\u001b[0mkwds\u001b[0m\u001b[0;34m)\u001b[0m  \u001b[0;31m# pylint: disable=not-callable\u001b[0m\u001b[0;34m\u001b[0m\u001b[0;34m\u001b[0m\u001b[0m\n\u001b[0m\u001b[1;32m    612\u001b[0m     \u001b[0;32melif\u001b[0m \u001b[0mself\u001b[0m\u001b[0;34m.\u001b[0m\u001b[0m_stateful_fn\u001b[0m \u001b[0;32mis\u001b[0m \u001b[0;32mnot\u001b[0m \u001b[0;32mNone\u001b[0m\u001b[0;34m:\u001b[0m\u001b[0;34m\u001b[0m\u001b[0;34m\u001b[0m\u001b[0m\n\u001b[1;32m    613\u001b[0m       \u001b[0;31m# Release the lock early so that multiple threads can perform the call\u001b[0m\u001b[0;34m\u001b[0m\u001b[0;34m\u001b[0m\u001b[0;34m\u001b[0m\u001b[0m\n",
      "\u001b[0;32m~/anaconda3/envs/spoofing_new/lib/python3.7/site-packages/tensorflow/python/eager/function.py\u001b[0m in \u001b[0;36m__call__\u001b[0;34m(self, *args, **kwargs)\u001b[0m\n\u001b[1;32m   2418\u001b[0m     \u001b[0;32mwith\u001b[0m \u001b[0mself\u001b[0m\u001b[0;34m.\u001b[0m\u001b[0m_lock\u001b[0m\u001b[0;34m:\u001b[0m\u001b[0;34m\u001b[0m\u001b[0;34m\u001b[0m\u001b[0m\n\u001b[1;32m   2419\u001b[0m       \u001b[0mgraph_function\u001b[0m\u001b[0;34m,\u001b[0m \u001b[0margs\u001b[0m\u001b[0;34m,\u001b[0m \u001b[0mkwargs\u001b[0m \u001b[0;34m=\u001b[0m \u001b[0mself\u001b[0m\u001b[0;34m.\u001b[0m\u001b[0m_maybe_define_function\u001b[0m\u001b[0;34m(\u001b[0m\u001b[0margs\u001b[0m\u001b[0;34m,\u001b[0m \u001b[0mkwargs\u001b[0m\u001b[0;34m)\u001b[0m\u001b[0;34m\u001b[0m\u001b[0;34m\u001b[0m\u001b[0m\n\u001b[0;32m-> 2420\u001b[0;31m     \u001b[0;32mreturn\u001b[0m \u001b[0mgraph_function\u001b[0m\u001b[0;34m.\u001b[0m\u001b[0m_filtered_call\u001b[0m\u001b[0;34m(\u001b[0m\u001b[0margs\u001b[0m\u001b[0;34m,\u001b[0m \u001b[0mkwargs\u001b[0m\u001b[0;34m)\u001b[0m  \u001b[0;31m# pylint: disable=protected-access\u001b[0m\u001b[0;34m\u001b[0m\u001b[0;34m\u001b[0m\u001b[0m\n\u001b[0m\u001b[1;32m   2421\u001b[0m \u001b[0;34m\u001b[0m\u001b[0m\n\u001b[1;32m   2422\u001b[0m   \u001b[0;34m@\u001b[0m\u001b[0mproperty\u001b[0m\u001b[0;34m\u001b[0m\u001b[0;34m\u001b[0m\u001b[0m\n",
      "\u001b[0;32m~/anaconda3/envs/spoofing_new/lib/python3.7/site-packages/tensorflow/python/eager/function.py\u001b[0m in \u001b[0;36m_filtered_call\u001b[0;34m(self, args, kwargs)\u001b[0m\n\u001b[1;32m   1663\u001b[0m          if isinstance(t, (ops.Tensor,\n\u001b[1;32m   1664\u001b[0m                            resource_variable_ops.BaseResourceVariable))),\n\u001b[0;32m-> 1665\u001b[0;31m         self.captured_inputs)\n\u001b[0m\u001b[1;32m   1666\u001b[0m \u001b[0;34m\u001b[0m\u001b[0m\n\u001b[1;32m   1667\u001b[0m   \u001b[0;32mdef\u001b[0m \u001b[0m_call_flat\u001b[0m\u001b[0;34m(\u001b[0m\u001b[0mself\u001b[0m\u001b[0;34m,\u001b[0m \u001b[0margs\u001b[0m\u001b[0;34m,\u001b[0m \u001b[0mcaptured_inputs\u001b[0m\u001b[0;34m,\u001b[0m \u001b[0mcancellation_manager\u001b[0m\u001b[0;34m=\u001b[0m\u001b[0;32mNone\u001b[0m\u001b[0;34m)\u001b[0m\u001b[0;34m:\u001b[0m\u001b[0;34m\u001b[0m\u001b[0;34m\u001b[0m\u001b[0m\n",
      "\u001b[0;32m~/anaconda3/envs/spoofing_new/lib/python3.7/site-packages/tensorflow/python/eager/function.py\u001b[0m in \u001b[0;36m_call_flat\u001b[0;34m(self, args, captured_inputs, cancellation_manager)\u001b[0m\n\u001b[1;32m   1744\u001b[0m       \u001b[0;31m# No tape is watching; skip to running the function.\u001b[0m\u001b[0;34m\u001b[0m\u001b[0;34m\u001b[0m\u001b[0;34m\u001b[0m\u001b[0m\n\u001b[1;32m   1745\u001b[0m       return self._build_call_outputs(self._inference_function.call(\n\u001b[0;32m-> 1746\u001b[0;31m           ctx, args, cancellation_manager=cancellation_manager))\n\u001b[0m\u001b[1;32m   1747\u001b[0m     forward_backward = self._select_forward_and_backward_functions(\n\u001b[1;32m   1748\u001b[0m         \u001b[0margs\u001b[0m\u001b[0;34m,\u001b[0m\u001b[0;34m\u001b[0m\u001b[0;34m\u001b[0m\u001b[0m\n",
      "\u001b[0;32m~/anaconda3/envs/spoofing_new/lib/python3.7/site-packages/tensorflow/python/eager/function.py\u001b[0m in \u001b[0;36mcall\u001b[0;34m(self, ctx, args, cancellation_manager)\u001b[0m\n\u001b[1;32m    596\u001b[0m               \u001b[0minputs\u001b[0m\u001b[0;34m=\u001b[0m\u001b[0margs\u001b[0m\u001b[0;34m,\u001b[0m\u001b[0;34m\u001b[0m\u001b[0;34m\u001b[0m\u001b[0m\n\u001b[1;32m    597\u001b[0m               \u001b[0mattrs\u001b[0m\u001b[0;34m=\u001b[0m\u001b[0mattrs\u001b[0m\u001b[0;34m,\u001b[0m\u001b[0;34m\u001b[0m\u001b[0;34m\u001b[0m\u001b[0m\n\u001b[0;32m--> 598\u001b[0;31m               ctx=ctx)\n\u001b[0m\u001b[1;32m    599\u001b[0m         \u001b[0;32melse\u001b[0m\u001b[0;34m:\u001b[0m\u001b[0;34m\u001b[0m\u001b[0;34m\u001b[0m\u001b[0m\n\u001b[1;32m    600\u001b[0m           outputs = execute.execute_with_cancellation(\n",
      "\u001b[0;32m~/anaconda3/envs/spoofing_new/lib/python3.7/site-packages/tensorflow/python/eager/execute.py\u001b[0m in \u001b[0;36mquick_execute\u001b[0;34m(op_name, num_outputs, inputs, attrs, ctx, name)\u001b[0m\n\u001b[1;32m     58\u001b[0m     \u001b[0mctx\u001b[0m\u001b[0;34m.\u001b[0m\u001b[0mensure_initialized\u001b[0m\u001b[0;34m(\u001b[0m\u001b[0;34m)\u001b[0m\u001b[0;34m\u001b[0m\u001b[0;34m\u001b[0m\u001b[0m\n\u001b[1;32m     59\u001b[0m     tensors = pywrap_tfe.TFE_Py_Execute(ctx._handle, device_name, op_name,\n\u001b[0;32m---> 60\u001b[0;31m                                         inputs, attrs, num_outputs)\n\u001b[0m\u001b[1;32m     61\u001b[0m   \u001b[0;32mexcept\u001b[0m \u001b[0mcore\u001b[0m\u001b[0;34m.\u001b[0m\u001b[0m_NotOkStatusException\u001b[0m \u001b[0;32mas\u001b[0m \u001b[0me\u001b[0m\u001b[0;34m:\u001b[0m\u001b[0;34m\u001b[0m\u001b[0;34m\u001b[0m\u001b[0m\n\u001b[1;32m     62\u001b[0m     \u001b[0;32mif\u001b[0m \u001b[0mname\u001b[0m \u001b[0;32mis\u001b[0m \u001b[0;32mnot\u001b[0m \u001b[0;32mNone\u001b[0m\u001b[0;34m:\u001b[0m\u001b[0;34m\u001b[0m\u001b[0;34m\u001b[0m\u001b[0m\n",
      "\u001b[0;31mInvalidArgumentError\u001b[0m:  assertion failed: [predictions must be >= 0] [Condition x >= y did not hold element-wise:] [x (model_7/dense_7/Softmax:0) = ] [[nan nan nan]...] [y (Cast_5/x:0) = ] [0]\n\t [[{{node assert_greater_equal/Assert/AssertGuard/else/_1/Assert}}]] [Op:__inference_train_function_2718620]\n\nFunction call stack:\ntrain_function\n"
     ]
    }
   ],
   "source": [
    "labels_train = K.one_hot(Y_train, nb_classes+1)\n",
    "labels_val = K.one_hot(Y_val, nb_classes+1)\n",
    "history = build_triplet.fit(x=X_train, y=labels_train, batch_size=batch_size, epochs=200, verbose=1, callbacks=None, \n",
    "                              validation_split=0.02, validation_data=None, shuffle=True, class_weight=None, \n",
    "                              sample_weight=F_train, initial_epoch=0, steps_per_epoch=50, validation_steps=None)"
   ]
  },
  {
   "cell_type": "code",
   "execution_count": null,
   "metadata": {},
   "outputs": [],
   "source": [
    "result = build_triplet.predict(X_val)\n",
    "preds_raw = np.argmax(result, axis=1)\n",
    "preds = K.one_hot(preds_raw, nb_classes+1)\n",
    "    \n",
    "r = tf.keras.metrics.Recall()\n",
    "r.update_state(labels_val, preds)\n",
    "r.result().numpy()\n",
    "print('Recall ' + str(r.result()))\n",
    "\n",
    "p = tf.keras.metrics.Precision()\n",
    "p.update_state(labels_val, preds)\n",
    "p.result().numpy()\n",
    "print('Precision ' + str(p.result()))\n",
    "\n",
    "f1 = 2*((p.result()*r.result())/(p.result()+r.result()+K.epsilon()))\n",
    "print('F1 ' + str(f1))\n",
    "\n",
    "import statistics\n",
    "acc = statistics.mean(history.history['val_acc']) \n",
    "print('accuracy ' + str(acc))"
   ]
  },
  {
   "cell_type": "markdown",
   "metadata": {},
   "source": [
    "### Plotting"
   ]
  },
  {
   "cell_type": "code",
   "execution_count": null,
   "metadata": {},
   "outputs": [],
   "source": [
    "import pickle\n",
    "\n",
    "with open(os.path.abspath(os.path.join('../../results/10/')), 'wb') as file_pi:\n",
    "     pickle.dump(history.history, file_pi)"
   ]
  },
  {
   "cell_type": "code",
   "execution_count": null,
   "metadata": {},
   "outputs": [],
   "source": [
    "history_retrieve = pickle.load(open(os.path.abspath(os.path.join('../../results/10/')), \"rb\"))"
   ]
  },
  {
   "cell_type": "code",
   "execution_count": null,
   "metadata": {},
   "outputs": [],
   "source": [
    "# summarize history for accuracy\n",
    "plt.plot(history_retrieve['acc'])\n",
    "plt.plot(history_retrieve['val_acc'])\n",
    "plt.title('model accuracy')\n",
    "plt.ylabel('accuracy')\n",
    "plt.xlabel('epoch')\n",
    "plt.legend(['train', 'test'], loc='upper left')\n",
    "plt.show()\n",
    "\n",
    "# summarize history for loss\n",
    "plt.plot(history_retrieve['loss'])\n",
    "plt.plot(history_retrieve['val_loss'])\n",
    "plt.title('model loss')\n",
    "plt.ylabel('loss')\n",
    "plt.xlabel('epoch')\n",
    "plt.legend(['train', 'test'], loc='upper left')\n",
    "plt.show()"
   ]
  },
  {
   "cell_type": "code",
   "execution_count": null,
   "metadata": {},
   "outputs": [],
   "source": []
  }
 ],
 "metadata": {
  "kernelspec": {
   "display_name": "Python [conda env:spoofing_new]",
   "language": "python",
   "name": "conda-env-spoofing_new-py"
  },
  "language_info": {
   "codemirror_mode": {
    "name": "ipython",
    "version": 3
   },
   "file_extension": ".py",
   "mimetype": "text/x-python",
   "name": "python",
   "nbconvert_exporter": "python",
   "pygments_lexer": "ipython3",
   "version": "3.7.7"
  }
 },
 "nbformat": 4,
 "nbformat_minor": 2
}
