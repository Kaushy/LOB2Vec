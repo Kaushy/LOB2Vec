{
 "cells": [
  {
   "cell_type": "code",
   "execution_count": 1,
   "metadata": {},
   "outputs": [],
   "source": [
    "# TODO\n",
    "# 1. Complete make_one_shot_task\n",
    "# 2. Complete test one shot task\n",
    "# 3. Complete plotting\n",
    "# 4. See if using attention with some static probabilities help the detection of spoofing\n",
    "# 5. Look at triple loss and computing it\n",
    "# 6. CNN and attention to top of the book - https://towardsdatascience.com/self-attention-in-computer-vision-2782727021f6\n",
    "    #Propose probabilities learnt through an LSTM network \n",
    "# 7. Higher prediction probabilities for top of book\n",
    "    #https://machinelearningmastery.com/how-to-score-probability-predictions-in-python/\n",
    "# 8. Fuck with data to get the desired result -b rebuild project\n",
    "# 9. Clean up code, make fancy plots, write comments and so on\n",
    "# 10. See if using LSTM to learn probabilities for attention would work \n",
    "# 11. Learn Families of classes for spoofing \n",
    "# 12. Custom loss function for family of identifications\n",
    "# 13. Cross Modal for price and qty - https://iclr.cc/virtual/poster_B1lJzyStvS.html\n",
    "# 14. Mutual information for either layering or other task - https://iclr.cc/virtual/poster_rkxoh24FPH.html, https://openreview.net/forum?id=rkxoh24FPH\n",
    "# 15. Time seires with triplet leraning - https://papers.nips.cc/paper/8713-unsupervised-scalable-representation-learning-for-multivariate-time-series.pdf\n",
    "# 16. Quadraple Learning - https://www.youtube.com/watch?v=_o2SLgjejAE\n",
    "# 17. Add 13/14/15/16 for the work\n"
   ]
  },
  {
   "cell_type": "markdown",
   "metadata": {},
   "source": [
    "##### RESULTS\n",
    "1. No-Change Unnormalised Loss : 0.012634731829166412\n",
    "2. Normalised Loss without anchor normalisation : 0.5267388820648193\n",
    "3. Normalised Loss with anchor : 0.20129983127117157"
   ]
  },
  {
   "cell_type": "code",
   "execution_count": 1,
   "metadata": {},
   "outputs": [],
   "source": [
    "import os\n",
    "import numpy as np\n",
    "import pandas as pd\n",
    "import matplotlib.pyplot as plt\n",
    "import seaborn as sns\n",
    "import sys\n",
    "import tensorflow as tf\n",
    "import time\n",
    "from pylab import *\n",
    "from sklearn.preprocessing import MinMaxScaler, QuantileTransformer\n",
    "from skimage.util.shape import view_as_windows\n",
    "from sklearn.metrics import roc_curve,roc_auc_score\n",
    "from tcn import TCN, tcn_full_summary\n",
    "from tensorflow.keras.layers import Dense, Conv2D, Layer, Lambda, Flatten\n",
    "from tensorflow.keras import Input, Model\n",
    "from tensorflow.keras import backend as K\n",
    "from tensorflow.keras.optimizers import Adam\n",
    "from tensorflow.keras.regularizers import l2\n",
    "from tensorflow.keras.utils import plot_model\n",
    "from tensorflow.python.client import device_lib\n",
    "\n",
    "module_path = os.path.abspath(os.path.join('..'))\n",
    "project_path = os.path.abspath(os.path.join('../..'))\n",
    "\n",
    "if module_path not in sys.path:\n",
    "    sys.path.append(module_path)\n",
    "if project_path not in sys.path:\n",
    "    sys.path.append(project_path)\n",
    "    \n",
    "#print(device_lib.list_local_devices())"
   ]
  },
  {
   "cell_type": "code",
   "execution_count": 2,
   "metadata": {},
   "outputs": [],
   "source": [
    "# Hyperparameters\n",
    "nb_classes=2\n",
    "cols, rows = 2, 30\n",
    "input_shape = (cols, rows, 1)\n",
    "volume_imbalace = 0.1\n",
    "evaluate_every = 10000 # interval for evaluating on one-shot tasks\n",
    "batch_size = 12\n",
    "n_iter = 50000 # No. of training iterations\n",
    "n_val = 250 # how many one-shot tasks to validate on\n",
    "num_frames = 100"
   ]
  },
  {
   "cell_type": "markdown",
   "metadata": {},
   "source": [
    "### Data Loading and Cleansing"
   ]
  },
  {
   "cell_type": "code",
   "execution_count": 3,
   "metadata": {},
   "outputs": [],
   "source": [
    "#1. Draw Picture of your data like CRIMY\n",
    "#2. Loop through all the data and create a set with data"
   ]
  },
  {
   "cell_type": "code",
   "execution_count": 5,
   "metadata": {},
   "outputs": [],
   "source": [
    "spy_train = np.load(project_path + '/data/train/20160901/SPY_EDGX.npy')\n",
    "goog_train = np.load(project_path + '/data/train/20160901/GOOG_EDGX.npy')\n",
    "train_data = np.vstack((spy_train, goog_train))\n",
    "\n",
    "goog_test = np.load(project_path + '/data/test/20160902/VOD_ARCA.npy')\n",
    "\n",
    "\n",
    "model_path = project_path + '/weights/spoof'\n",
    "model_cp_path = project_path + '/check_point/spoof'"
   ]
  },
  {
   "cell_type": "code",
   "execution_count": 7,
   "metadata": {},
   "outputs": [
    {
     "name": "stdout",
     "output_type": "stream",
     "text": [
      "(1940896, 100, 30, 2, 2)\n",
      "(1940896,)\n",
      "(502893, 100, 30, 2, 2)\n",
      "(502893,)\n"
     ]
    }
   ],
   "source": [
    "def retrieve_cleansed_data(lob, width=num_frames):\n",
    "    min_max_scaler = MinMaxScaler(feature_range=(0,1))\n",
    "    quantile_transformer = QuantileTransformer()\n",
    "\n",
    "    # As evidenced by above, we can technically select all in the second axis as there is only 1 element. However, \n",
    "    # because we need a 2d input we make it 0. The 3rd axis is side so we need this\n",
    "    lob_qty_buy = pd.DataFrame(lob['quantity'][:,0,0,0:15])\n",
    "    max_buy = np.amax(lob_qty_buy, axis=1)\n",
    "    lob_qty_buy = lob_qty_buy.replace(0, np.NaN)\n",
    "    avg_buy = lob_qty_buy.mean().mean()\n",
    "    vol_sum_buy = lob_qty_buy.sum(axis=1)\n",
    "    \n",
    "    lob_qty_sell = pd.DataFrame(lob['quantity'][:,0,1,0:15])\n",
    "    max_sell = np.amax(lob_qty_sell, axis=1)\n",
    "    lob_qty_sell = lob_qty_sell.replace(0, np.NaN)\n",
    "    avg_sell = lob_qty_sell.mean().mean()\n",
    "    vol_sum_sell = lob_qty_sell.sum(axis=1)\n",
    "    \n",
    "    vol_imbalance = (vol_sum_buy - vol_sum_sell) / (vol_sum_buy + vol_sum_sell)\n",
    "    \n",
    "    label_df = pd.concat([vol_imbalance, pd.Series(lob['action'].ravel()), pd.Series(lob['side'].ravel()), \n",
    "                         max_buy, max_sell], axis=1)\n",
    "    label_df[5] = label_df[0].diff() # Change in the values of the two states of OB (We take diff of prev row)\n",
    "    label_df[6] = 0\n",
    "  \n",
    "    label_df[6] = np.where(((label_df[1] == 2) & (label_df[2] == 'B') & (np.abs(label_df[5]) > volume_imbalace) & \n",
    "                            (label_df[3] > avg_buy)), 1, \n",
    "                             np.where(((label_df[1] == 2) & (label_df[2] == 'S') & \n",
    "                                       (np.abs(label_df[5]) > volume_imbalace) &\n",
    "                                       (label_df[4] > avg_sell)), 2, label_df[6].values))\n",
    "    label_df = label_df.iloc[width-1:]\n",
    "    Y_labels = label_df[6].reset_index(drop=True)\n",
    "   \n",
    "    # Normalise positive samples\n",
    "    # these array manipulations are to get a final array where b-s in same array group\n",
    "    lob_n, d, w, h = lob['quantity'].shape\n",
    "    b_qty = lob['quantity'][:,0,0,:]\n",
    "    s_qty = lob['quantity'][:,0,1,:]\n",
    "    lob_qty = np.stack((b_qty, s_qty), axis=2)\n",
    "\n",
    "    lob_qty = lob_qty.reshape(-1,1)\n",
    "   # lob_qty = min_max_scaler.fit_transform(lob_qty)\n",
    "    lob_qty = lob_qty.reshape(lob_n, h, w)\n",
    "    \n",
    "    b_price = lob['price'][:,0,0,:]\n",
    "    s_price = lob['price'][:,0,1,:]\n",
    "    lob_price = np.stack((b_price, s_price), axis=2)\n",
    "\n",
    "    lob_price = lob_price.reshape(-1,1)\n",
    "   # lob_price = quantile_transformer.fit_transform(lob_price)\n",
    "    lob_price = lob_price.reshape(lob_n, h, w)\n",
    "\n",
    "\n",
    "    lob_states = np.stack((lob_qty, lob_price), axis=-1)\n",
    "    lob_states = lob_states.reshape(lob_n, h, w, 2)\n",
    "    lob_states = view_as_windows(lob_states,(width,1,1,1))[...,0,0,0].transpose(0,4,1,2,3)\n",
    "    \n",
    "    print(lob_states.shape)\n",
    "    print(Y_labels.shape)\n",
    "    return lob_states, Y_labels\n",
    "\n",
    "X_train, Y_train = retrieve_cleansed_data(train_data)\n",
    "X_test, Y_test = retrieve_cleansed_data(goog_test)"
   ]
  },
  {
   "cell_type": "markdown",
   "metadata": {},
   "source": [
    "### Model Initialisation"
   ]
  },
  {
   "cell_type": "code",
   "execution_count": 8,
   "metadata": {},
   "outputs": [
    {
     "data": {
      "text/plain": [
       "Text(0.5, 1.0, 'Plot of biases initialized, with mean of 0.0 and standard deviation of 0.01')"
      ]
     },
     "execution_count": 8,
     "metadata": {},
     "output_type": "execute_result"
    },
    {
     "data": {
      "image/png": "[encoded data removed]",
      "text/plain": [
       "<Figure size 432x288 with 1 Axes>"
      ]
     },
     "metadata": {
      "needs_background": "light"
     },
     "output_type": "display_data"
    }
   ],
   "source": [
    "def initialize_weights(shape, name=None, dtype=None):\n",
    "    \"\"\"\n",
    "        The paper, http://www.cs.utoronto.ca/~gkoch/files/msc-thesis.pdf\n",
    "        suggests to initialize CNN layer weights with mean as 0.0 and standard deviation of 0.01\n",
    "    \"\"\"\n",
    "    return np.random.normal(loc = 0.0, scale = 1e-2, size = shape)\n",
    "\n",
    "def initialize_bias(shape, name=None, dtype=None):\n",
    "    \"\"\"\n",
    "        The paper, http://www.cs.utoronto.ca/~gkoch/files/msc-thesis.pdf\n",
    "        suggests to initialize CNN layer bias with mean as 0.5 and standard deviation of 0.01\n",
    "    \"\"\"\n",
    "    return np.random.normal(loc = 0.5, scale = 1e-2, size = shape)\n",
    "\n",
    "# Intialize bias with mean 0.0 and standard deviation of 10^-2\n",
    "weights = initialize_weights((1000,1))\n",
    "sns.distplot(weights)\n",
    "plt.title(\"Plot of weights initialized, with mean of 0.0 and standard deviation of 0.01\")\n",
    "\n",
    "# Intialize bias with mean 0.5 and standard deviation of 10^-2\n",
    "bias = initialize_bias((1000,1))\n",
    "sns.distplot(bias)\n",
    "plt.title(\"Plot of biases initialized, with mean of 0.0 and standard deviation of 0.01\")"
   ]
  },
  {
   "cell_type": "code",
   "execution_count": 9,
   "metadata": {},
   "outputs": [],
   "source": [
    "class TripletLossLayer(Layer):\n",
    "    def __init__(self, alpha, **kwargs):\n",
    "        self.alpha = alpha\n",
    "        super(TripletLossLayer, self).__init__(**kwargs)\n",
    "    \n",
    "    def triplet_loss(self, inputs):\n",
    "        anchor, positive, negative = inputs\n",
    "\n",
    "        hardest_positive_dist = tf.reduce_max(tf.square(tf.subtract(anchor, positive)), axis=-1)\n",
    "        tf.summary.scalar(\"hardest_positive_dist\", tf.reduce_mean(hardest_positive_dist))\n",
    "\n",
    "        # shape (batch_size)\n",
    "        hardest_negative_dist = tf.reduce_min(tf.subtract(anchor, negative), axis=-1)\n",
    "        tf.summary.scalar(\"hardest_negative_dist\", tf.reduce_mean(hardest_negative_dist))\n",
    "    \n",
    "        # Combine biggest d(a, p) and smallest d(a, n) into final triplet loss\n",
    "        triplet_loss = tf.maximum(hardest_positive_dist - hardest_negative_dist + self.alpha, 0.0)\n",
    "        # Get final mean triplet loss\n",
    "        triplet_loss = tf.reduce_mean(triplet_loss)\n",
    "        return triplet_loss\n",
    "    \n",
    "    def call(self, inputs):\n",
    "        loss = self.triplet_loss(inputs)\n",
    "        self.add_loss(loss)\n",
    "        return loss"
   ]
  },
  {
   "cell_type": "code",
   "execution_count": 14,
   "metadata": {},
   "outputs": [
    {
     "name": "stdout",
     "output_type": "stream",
     "text": [
      "Model: \"model_2\"\n",
      "_________________________________________________________________\n",
      "Layer (type)                 Output Shape              Param #   \n",
      "=================================================================\n",
      "input_2 (InputLayer)         [(None, 100, 30, 2, 2)]   0         \n",
      "_________________________________________________________________\n",
      "lambda_2 (Lambda)            (None, 30, 2, 2)          0         \n",
      "_________________________________________________________________\n",
      "conv2d_3 (Conv2D)            (None, 30, 2, 32)         96        \n",
      "_________________________________________________________________\n",
      "conv2d_4 (Conv2D)            (None, 30, 2, 64)         18496     \n",
      "_________________________________________________________________\n",
      "conv2d_5 (Conv2D)            (None, 30, 2, 128)        8320      \n",
      "_________________________________________________________________\n",
      "lambda_3 (Lambda)            (None, 100, 7680)         0         \n",
      "_________________________________________________________________\n",
      "tcn_1 (TCN)                  (None, 100, 128)          3311232   \n",
      "_________________________________________________________________\n",
      "flatten_1 (Flatten)          (None, 12800)             0         \n",
      "_________________________________________________________________\n",
      "dense_1 (Dense)              (None, 128)               1638528   \n",
      "=================================================================\n",
      "Total params: 4,976,672\n",
      "Trainable params: 4,976,672\n",
      "Non-trainable params: 0\n",
      "_________________________________________________________________\n",
      "Model: \"model_3\"\n",
      "__________________________________________________________________________________________________\n",
      "Layer (type)                    Output Shape         Param #     Connected to                     \n",
      "==================================================================================================\n",
      "anchor_input (InputLayer)       [(None, 100, 30, 2,  0                                            \n",
      "__________________________________________________________________________________________________\n",
      "positive_input (InputLayer)     [(None, 100, 30, 2,  0                                            \n",
      "__________________________________________________________________________________________________\n",
      "negative_input (InputLayer)     [(None, 100, 30, 2,  0                                            \n",
      "__________________________________________________________________________________________________\n",
      "model_2 (Model)                 (None, 128)          4976672     anchor_input[0][0]               \n",
      "                                                                 positive_input[0][0]             \n",
      "                                                                 negative_input[0][0]             \n",
      "__________________________________________________________________________________________________\n",
      "triplet_loss_layer (TripletLoss ()                   0           model_2[1][0]                    \n",
      "                                                                 model_2[2][0]                    \n",
      "                                                                 model_2[3][0]                    \n",
      "==================================================================================================\n",
      "Total params: 4,976,672\n",
      "Trainable params: 4,976,672\n",
      "Non-trainable params: 0\n",
      "__________________________________________________________________________________________________\n",
      "[]\n",
      "Model: \"model_2\"\n",
      "_________________________________________________________________\n",
      "Layer (type)                 Output Shape              Param #   \n",
      "=================================================================\n",
      "input_2 (InputLayer)         [(None, 100, 30, 2, 2)]   0         \n",
      "_________________________________________________________________\n",
      "lambda_2 (Lambda)            (None, 30, 2, 2)          0         \n",
      "_________________________________________________________________\n",
      "conv2d_3 (Conv2D)            (None, 30, 2, 32)         96        \n",
      "_________________________________________________________________\n",
      "conv2d_4 (Conv2D)            (None, 30, 2, 64)         18496     \n",
      "_________________________________________________________________\n",
      "conv2d_5 (Conv2D)            (None, 30, 2, 128)        8320      \n",
      "_________________________________________________________________\n",
      "lambda_3 (Lambda)            (None, 100, 7680)         0         \n",
      "_________________________________________________________________\n",
      "residual_block_0 (ResidualBl [(None, 100, 128), (None, 2982272   \n",
      "_________________________________________________________________\n",
      "residual_block_1 (ResidualBl [(None, 100, 128), (None, 65792     \n",
      "_________________________________________________________________\n",
      "residual_block_2 (ResidualBl [(None, 100, 128), (None, 65792     \n",
      "_________________________________________________________________\n",
      "residual_block_3 (ResidualBl [(None, 100, 128), (None, 65792     \n",
      "_________________________________________________________________\n",
      "residual_block_4 (ResidualBl [(None, 100, 128), (None, 65792     \n",
      "_________________________________________________________________\n",
      "residual_block_5 (ResidualBl [(None, 100, 128), (None, 65792     \n",
      "_________________________________________________________________\n",
      "lambda_1 (Lambda)            multiple                  0         \n",
      "_________________________________________________________________\n",
      "flatten_1 (Flatten)          (None, 12800)             0         \n",
      "_________________________________________________________________\n",
      "dense_1 (Dense)              (None, 128)               1638528   \n",
      "=================================================================\n",
      "Total params: 4,976,672\n",
      "Trainable params: 4,976,672\n",
      "Non-trainable params: 0\n",
      "_________________________________________________________________\n"
     ]
    },
    {
     "data": {
      "image/png": "[encoded data removed]",
      "text/plain": [
       "<IPython.core.display.Image object>"
      ]
     },
     "execution_count": 14,
     "metadata": {},
     "output_type": "execute_result"
    }
   ],
   "source": [
    "def embedding_model(frames, h, w, c, input_shape, dimensions, include_top=False, pooling=None, classes=1):  \n",
    "    inp = Input(shape=(frames, h, w, c))\n",
    "    out = Lambda(lambda y: K.reshape(y, (-1, h, w, c)))(inp)\n",
    "    out = Conv2D(32, kernel_size=(1,1), activation='relu', strides=1, padding=\"same\", input_shape=input_shape,\n",
    "                   use_bias = True, kernel_initializer=initialize_weights, bias_initializer=initialize_bias)(out)\n",
    "   # out = MaxPooling2D()(out)\n",
    "    out = Conv2D(64, kernel_size=(3,3), activation='relu', strides=1, padding=\"same\",\n",
    "                   use_bias = True, kernel_initializer=initialize_weights, bias_initializer=initialize_bias)(out)\n",
    "    out = Conv2D(128, kernel_size=(1,1), activation='relu', strides=1, padding=\"same\",\n",
    "                   use_bias = True, kernel_initializer=initialize_weights, bias_initializer=initialize_bias)(out)\n",
    "    num_features_cnn = np.prod(K.int_shape(out)[1:])\n",
    "    out = Lambda(lambda y: K.reshape(y, (-1, num_frames, num_features_cnn)))(out)\n",
    "    out = TCN(nb_filters=128, return_sequences=True)(out)\n",
    "    out = Flatten()(out)\n",
    "    out = Dense(128, activation=None, kernel_regularizer=l2(1e-3), kernel_initializer='he_uniform')(out)    \n",
    "    return Model(inputs=inp, outputs=out)\n",
    "\n",
    "\n",
    "def triplets_model(input_shape, embedding, include_top=False, pooling=None):\n",
    "\n",
    "    anchor_input = Input(shape=input_shape, name='anchor_input')\n",
    "    positive_input = Input(shape=input_shape, name='positive_input')\n",
    "    negative_input = Input(shape=input_shape, name='negative_input')\n",
    "\n",
    "    # Get the embedded values\n",
    "    encoded_a = embedding(anchor_input)\n",
    "    encoded_p = embedding(positive_input)\n",
    "    encoded_n = embedding(negative_input)\n",
    "    \n",
    "    #TripletLoss Layer\n",
    "    loss_layer = TripletLossLayer(alpha=0.2, name='triplet_loss_layer')([encoded_a,encoded_p,encoded_n])\n",
    "    \n",
    "    # Connect the inputs with the outputs\n",
    "    triplet_net = Model(inputs=[anchor_input,positive_input,negative_input],outputs=loss_layer)\n",
    "    \n",
    "    return triplet_net\n",
    "\n",
    "build_embedding = embedding_model(num_frames, 30, 2, 2, input_shape=(num_frames, 30, 2, 2), dimensions=60)\n",
    "build_triplet = triplets_model(input_shape=(num_frames, 30, 2, 2), embedding=build_embedding)\n",
    "optimizer = Adam(lr = 0.00006)\n",
    "build_triplet.compile(loss=None,optimizer=optimizer)\n",
    "build_embedding.summary()\n",
    "build_triplet.summary()\n",
    "print(build_triplet.metrics_names)\n",
    "tcn_full_summary(build_embedding, expand_residual_blocks=False)\n",
    "plot_model(build_embedding, 'multi_input_and_output_model.png', show_shapes=True)"
   ]
  },
  {
   "cell_type": "markdown",
   "metadata": {},
   "source": [
    "### Training Triplet Net"
   ]
  },
  {
   "cell_type": "code",
   "execution_count": 11,
   "metadata": {},
   "outputs": [],
   "source": [
    "def get_triplet_batch_spoof(batch_size, lob_states, labels):\n",
    "    n_examples, t, h, w, d = lob_states.shape\n",
    "    triplets = [np.zeros((batch_size, t, h, w, d)) for i in range(3)]\n",
    "    labels_u = labels[labels==0]\n",
    "    labels_b = labels[labels==1]\n",
    "    labels_s = labels[labels==2]\n",
    "    for i in range(batch_size):\n",
    "        if (i%5==0):\n",
    "            idx_a = labels_b.sample(1)\n",
    "            idx_p = labels_b.sample(1)\n",
    "            idx_n = labels_s.sample(1)\n",
    "        elif (i%5==1):\n",
    "            idx_a = labels_b.sample(1)\n",
    "            idx_p = labels_b.sample(1)\n",
    "            idx_n = labels_u.sample(1)\n",
    "        elif (i%5==2):\n",
    "            idx_a = labels_s.sample(1)\n",
    "            idx_p = labels_s.sample(1)\n",
    "            idx_n = labels_b.sample(1)\n",
    "        elif (i%5==3):\n",
    "            idx_a = labels_s.sample(1)\n",
    "            idx_p = labels_s.sample(1)\n",
    "            idx_n = labels_u.sample(1)\n",
    "        elif (i%5==4):\n",
    "            idx_a = labels_u.sample(1)\n",
    "            idx_p = labels_u.sample(1)\n",
    "            idx_n = labels_b.sample(1)\n",
    "        else:\n",
    "            idx_a = labels_u.sample(1)\n",
    "            idx_p = labels_u.sample(1)\n",
    "            idx_n = labels_s.sample(1)\n",
    "   \n",
    "        triplets[0][i,:,:,:,:] = lob_states[idx_a]\n",
    "        triplets[1][i,:,:,:,:] = lob_states[idx_p]\n",
    "        triplets[2][i,:,:,:,:] = lob_states[idx_n]\n",
    "        \n",
    "    return [triplets[0], triplets[1], triplets[2]]\n",
    "    \n",
    "#get_triplet_batch_spoof(2, X_train, Y_train)\n",
    "\n",
    "def triplet_generator(batch_size, positive_samples, neg_train, anchor):\n",
    "    while True:\n",
    "        inputs, targets = get_triplet_batch(batch_size, positive_samples, neg_train, anchor)\n",
    "        label = None\n",
    "        yield ({'anchor_input': inputs[0], 'positive_input': inputs[1], 'negative_input': inputs[2]},\\\n",
    "               [targets[0], targets[1], targets[2]])"
   ]
  },
  {
   "cell_type": "code",
   "execution_count": 12,
   "metadata": {},
   "outputs": [],
   "source": [
    "def compute_dist(a,b):\n",
    "    return np.sum(np.square(a-b))\n",
    "\n",
    "def compute_probs(network,X,Y):\n",
    "    '''\n",
    "    Input\n",
    "        network : current NN to compute embeddings\n",
    "        X : tensor of shape (m, num_frame, h, w, 1) containing pics to evaluate\n",
    "        Y : tensor of shape (m,) containing true class\n",
    "        \n",
    "    Returns\n",
    "        probs : array of shape (m,m) containing distances\n",
    "    \n",
    "    '''\n",
    "    m = X.shape[0]\n",
    "    nbevaluation = int(m*(m-1)/2)\n",
    "    probs = np.zeros((nbevaluation))\n",
    "    y = np.zeros((nbevaluation))\n",
    "    \n",
    "    #Compute all embeddings for all pics with current network\n",
    "    embeddings = network.predict(X)\n",
    "    \n",
    "    size_embedding = embeddings.shape[1]\n",
    "    \n",
    "    #For each pics of our dataset\n",
    "    k = 0\n",
    "    for i in range(m-1):\n",
    "            #Against all other images\n",
    "            for j in range(i+1,m-1):\n",
    "                #compute the probability of being the right decision : it should be 1 for right class, 0 for all other classes\n",
    "                probs[k] = -compute_dist(embeddings[i,:],embeddings[j,:])\n",
    "               # print(probs[k])\n",
    "                if (Y[i]==Y[j]):\n",
    "                    y[k] = 1\n",
    "                    #print(\"{3}:{0} vs {1} : {2}\\tSAME\".format(i,j,probs[k],k))\n",
    "                else:\n",
    "                    y[k] = 0\n",
    "                   # print(\"{3}:{0} vs {1} : \\t\\t\\t{2}\\tDIFF\".format(i,j,probs[k],k))\n",
    "                k += 1\n",
    "    return probs,y\n",
    "#probs,yprobs = compute_probs(network,x_test_origin[:10,:,:,:],y_test_origin[:10])\n",
    "\n",
    "def compute_metrics(probs,yprobs):\n",
    "    '''\n",
    "    Returns\n",
    "        fpr : Increasing false positive rates such that element i is the false positive rate of predictions with score >= thresholds[i]\n",
    "        tpr : Increasing true positive rates such that element i is the true positive rate of predictions with score >= thresholds[i].\n",
    "        thresholds : Decreasing thresholds on the decision function used to compute fpr and tpr. thresholds[0] represents no \n",
    "        instances being predicted and is arbitrarily set to max(y_score) + 1\n",
    "        auc : Area Under the ROC Curve metric\n",
    "    '''\n",
    "    # calculate AUC\n",
    "    auc = roc_auc_score(yprobs, probs)\n",
    "    # calculate roc curve\n",
    "    fpr, tpr, thresholds = roc_curve(yprobs, probs)\n",
    "    \n",
    "    return fpr, tpr, thresholds,auc\n",
    "\n",
    "def compute_interdist(network):\n",
    "    '''\n",
    "    Computes sum of distances between all classes embeddings on our reference test image: \n",
    "        d(0,1) + d(0,2) + ... + d(0,9) + d(1,2) + d(1,3) + ... d(8,9)\n",
    "        A good model should have a large distance between all theses embeddings\n",
    "        \n",
    "    Returns:\n",
    "        array of shape (nb_classes,nb_classes) \n",
    "    '''\n",
    "    res = np.zeros((nb_classes,nb_classes))\n",
    "    \n",
    "    ref_images = np.zeros((nb_classes, num_frames, rows, cols, 2))\n",
    "    \n",
    "    #generates embeddings for reference images\n",
    "    for i in range(nb_classes):\n",
    "        ref_images[i,:,:,:] = X_test[i,:,:,:,:]\n",
    "    ref_embeddings = network.predict(ref_images)\n",
    "    \n",
    "    for i in range(nb_classes):\n",
    "        for j in range(nb_classes):\n",
    "            res[i,j] = compute_dist(ref_embeddings[i],ref_embeddings[j])\n",
    "    return res\n",
    "\n",
    "def draw_interdist(network, n_iteration):\n",
    "    interdist = compute_interdist(network)\n",
    "    \n",
    "    data = []\n",
    "    for i in range(nb_classes):\n",
    "        data.append(np.delete(interdist[i,:],[i]))\n",
    "\n",
    "    fig, ax = plt.subplots()\n",
    "    ax.set_title('Evaluating embeddings distance from each other after {0} iterations'.format(n_iteration))\n",
    "    ax.set_ylim([0,3])\n",
    "    plt.xlabel('Classes')\n",
    "    plt.ylabel('Distance')\n",
    "    ax.boxplot(data,showfliers=False,showbox=True)\n",
    "    locs, labels = plt.xticks()\n",
    "    plt.xticks(locs,np.arange(nb_classes))\n",
    "\n",
    "    plt.show()\n",
    "    \n",
    "def find_nearest(array,value):\n",
    "    idx = np.searchsorted(array, value, side=\"left\")\n",
    "    if idx > 0 and (idx == len(array) or math.fabs(value - array[idx-1]) < math.fabs(value - array[idx])):\n",
    "        return array[idx-1],idx-1\n",
    "    else:\n",
    "        return array[idx],idx\n",
    "    \n",
    "def draw_roc(fpr, tpr,thresholds):\n",
    "    #find threshold\n",
    "    targetfpr=1e-3\n",
    "    _, idx = find_nearest(fpr,targetfpr)\n",
    "    threshold = thresholds[idx]\n",
    "    recall = tpr[idx]\n",
    "    \n",
    "    \n",
    "    # plot no skill\n",
    "    plt.plot([0, 1], [0, 1], linestyle='--')\n",
    "    # plot the roc curve for the model\n",
    "    plt.plot(fpr, tpr, marker='.')\n",
    "    plt.title('AUC: {0:.3f}\\nSensitivity : {2:.1%} @FPR={1:.0e}\\nThreshold={3})'.format(auc,targetfpr,recall,abs(threshold)))\n",
    "    # show the plot\n",
    "    plt.show()"
   ]
  },
  {
   "cell_type": "code",
   "execution_count": 13,
   "metadata": {},
   "outputs": [
    {
     "name": "stdout",
     "output_type": "stream",
     "text": [
      "Starting training process!!\n",
      "-------------------------------------\n",
      "WARNING:tensorflow:AutoGraph could not transform <function Model.make_train_function.<locals>.train_function at 0x14991def2a70> and will run it as-is.\n",
      "Please report this to the TensorFlow team. When filing the bug, set the verbosity to 10 (on Linux, `export AUTOGRAPH_VERBOSITY=10`) and attach the full output.\n",
      "Cause: Bad argument number for Name: 4, expecting 3\n",
      "To silence this warning, decorate the function with @tf.autograph.experimental.do_not_convert\n"
     ]
    },
    {
     "name": "stderr",
     "output_type": "stream",
     "text": [
      "WARNING:tensorflow:AutoGraph could not transform <function Model.make_train_function.<locals>.train_function at 0x14991def2a70> and will run it as-is.\n",
      "Please report this to the TensorFlow team. When filing the bug, set the verbosity to 10 (on Linux, `export AUTOGRAPH_VERBOSITY=10`) and attach the full output.\n",
      "Cause: Bad argument number for Name: 4, expecting 3\n",
      "To silence this warning, decorate the function with @tf.autograph.experimental.do_not_convert\n"
     ]
    },
    {
     "name": "stdout",
     "output_type": "stream",
     "text": [
      "WARNING: AutoGraph could not transform <function Model.make_train_function.<locals>.train_function at 0x14991def2a70> and will run it as-is.\n",
      "Please report this to the TensorFlow team. When filing the bug, set the verbosity to 10 (on Linux, `export AUTOGRAPH_VERBOSITY=10`) and attach the full output.\n",
      "Cause: Bad argument number for Name: 4, expecting 3\n",
      "To silence this warning, decorate the function with @tf.autograph.experimental.do_not_convert\n",
      "\n",
      " ------------- \n",
      "\n",
      "[10000] Time for 10000 iterations: 295.0 mins, Train Loss: 0.16518285870552063\n",
      "WARNING:tensorflow:AutoGraph could not transform <function Model.make_predict_function.<locals>.predict_function at 0x149824264950> and will run it as-is.\n",
      "Please report this to the TensorFlow team. When filing the bug, set the verbosity to 10 (on Linux, `export AUTOGRAPH_VERBOSITY=10`) and attach the full output.\n",
      "Cause: Bad argument number for Name: 4, expecting 3\n",
      "To silence this warning, decorate the function with @tf.autograph.experimental.do_not_convert\n"
     ]
    },
    {
     "name": "stderr",
     "output_type": "stream",
     "text": [
      "WARNING:tensorflow:AutoGraph could not transform <function Model.make_predict_function.<locals>.predict_function at 0x149824264950> and will run it as-is.\n",
      "Please report this to the TensorFlow team. When filing the bug, set the verbosity to 10 (on Linux, `export AUTOGRAPH_VERBOSITY=10`) and attach the full output.\n",
      "Cause: Bad argument number for Name: 4, expecting 3\n",
      "To silence this warning, decorate the function with @tf.autograph.experimental.do_not_convert\n"
     ]
    },
    {
     "name": "stdout",
     "output_type": "stream",
     "text": [
      "WARNING: AutoGraph could not transform <function Model.make_predict_function.<locals>.predict_function at 0x149824264950> and will run it as-is.\n",
      "Please report this to the TensorFlow team. When filing the bug, set the verbosity to 10 (on Linux, `export AUTOGRAPH_VERBOSITY=10`) and attach the full output.\n",
      "Cause: Bad argument number for Name: 4, expecting 3\n",
      "To silence this warning, decorate the function with @tf.autograph.experimental.do_not_convert\n"
     ]
    },
    {
     "data": {
      "image/png": "[encoded data removed]",
      "text/plain": [
       "<Figure size 432x288 with 1 Axes>"
      ]
     },
     "metadata": {
      "needs_background": "light"
     },
     "output_type": "display_data"
    },
    {
     "data": {
      "image/png": "[encoded data removed]",
      "text/plain": [
       "<Figure size 432x288 with 1 Axes>"
      ]
     },
     "metadata": {
      "needs_background": "light"
     },
     "output_type": "display_data"
    },
    {
     "name": "stdout",
     "output_type": "stream",
     "text": [
      "\n",
      " ------------- \n",
      "\n",
      "[20000] Time for 20000 iterations: 596.5 mins, Train Loss: 0.1584460437297821\n"
     ]
    },
    {
     "data": {
      "image/png": "[encoded data removed]",
      "text/plain": [
       "<Figure size 432x288 with 1 Axes>"
      ]
     },
     "metadata": {
      "needs_background": "light"
     },
     "output_type": "display_data"
    },
    {
     "data": {
      "image/png": "[encoded data removed]",
      "text/plain": [
       "<Figure size 432x288 with 1 Axes>"
      ]
     },
     "metadata": {
      "needs_background": "light"
     },
     "output_type": "display_data"
    },
    {
     "name": "stdout",
     "output_type": "stream",
     "text": [
      "\n",
      " ------------- \n",
      "\n",
      "[30000] Time for 30000 iterations: 805.5 mins, Train Loss: 0.15720346570014954\n"
     ]
    },
    {
     "data": {
      "image/png": "[encoded data removed]",
      "text/plain": [
       "<Figure size 432x288 with 1 Axes>"
      ]
     },
     "metadata": {
      "needs_background": "light"
     },
     "output_type": "display_data"
    },
    {
     "data": {
      "image/png": "[encoded data removed]",
      "text/plain": [
       "<Figure size 432x288 with 1 Axes>"
      ]
     },
     "metadata": {
      "needs_background": "light"
     },
     "output_type": "display_data"
    },
    {
     "name": "stdout",
     "output_type": "stream",
     "text": [
      "\n",
      " ------------- \n",
      "\n",
      "[40000] Time for 40000 iterations: 1044.8 mins, Train Loss: 0.15657491981983185\n"
     ]
    },
    {
     "data": {
      "image/png": "[encoded data removed]",
      "text/plain": [
       "<Figure size 432x288 with 1 Axes>"
      ]
     },
     "metadata": {
      "needs_background": "light"
     },
     "output_type": "display_data"
    },
    {
     "data": {
      "image/png": "[encoded data removed]",
      "text/plain": [
       "<Figure size 432x288 with 1 Axes>"
      ]
     },
     "metadata": {
      "needs_background": "light"
     },
     "output_type": "display_data"
    },
    {
     "name": "stdout",
     "output_type": "stream",
     "text": [
      "\n",
      " ------------- \n",
      "\n",
      "[50000] Time for 50000 iterations: 1276.2 mins, Train Loss: 0.1564972996711731\n"
     ]
    },
    {
     "data": {
      "image/png": "[encoded data removed]",
      "text/plain": [
       "<Figure size 432x288 with 1 Axes>"
      ]
     },
     "metadata": {
      "needs_background": "light"
     },
     "output_type": "display_data"
    },
    {
     "data": {
      "image/png": "[encoded data removed]",
      "text/plain": [
       "<Figure size 432x288 with 1 Axes>"
      ]
     },
     "metadata": {
      "needs_background": "light"
     },
     "output_type": "display_data"
    }
   ],
   "source": [
    "print(\"Starting training process!!\")\n",
    "print(\"-------------------------------------\")\n",
    "t_start = time.time()\n",
    "n_iteration=0\n",
    "#dummy_target = [np.zeros((batch_size,15)) for i in range(3)]\n",
    "for i in range(1, n_iter+1):\n",
    "    triplets = get_triplet_batch_spoof(batch_size, X_train, Y_train)\n",
    "    loss = build_triplet.train_on_batch(triplets, None)\n",
    "    n_iteration += 1\n",
    "    if i % evaluate_every == 0:\n",
    "        print(\"\\n ------------- \\n\")\n",
    "        print(\"[{3}] Time for {0} iterations: {1:.1f} mins, Train Loss: {2}\"\\\n",
    "              .format(i, (time.time()-t_start)/60.0,loss,n_iteration))\n",
    "        probs, yprob = compute_probs(build_embedding, X_test[:n_val,:,:,:,:], Y_test[:n_val])\n",
    "        fpr, tpr, thresholds,auc = compute_metrics(probs, yprob)\n",
    "        draw_roc(fpr, tpr, thresholds)\n",
    "        draw_interdist(build_embedding, n_iteration)\n",
    "       # print(\"Probability \" + str(probs))\n",
    "       # print(\"YProbs \" + str(yprob))\n",
    "        #fpr, tpr, thresholds,auc = compute_metrics(probs,yprob)\n",
    "        #draw_roc(fpr, tpr)"
   ]
  },
  {
   "cell_type": "markdown",
   "metadata": {},
   "source": [
    "### Validation / Evaluation"
   ]
  },
  {
   "cell_type": "code",
   "execution_count": 41,
   "metadata": {},
   "outputs": [
    {
     "data": {
      "image/png": "[encoded data removed]",
      "text/plain": [
       "<Figure size 432x288 with 1 Axes>"
      ]
     },
     "metadata": {
      "needs_background": "light"
     },
     "output_type": "display_data"
    },
    {
     "data": {
      "image/png": "[encoded data removed]",
      "text/plain": [
       "<Figure size 432x288 with 1 Axes>"
      ]
     },
     "metadata": {
      "needs_background": "light"
     },
     "output_type": "display_data"
    }
   ],
   "source": [
    "#Testing on an untrained network\n",
    "probs, yprob = compute_probs(build_embedding ,X_train[:5000,:,:,:,:], Y_train[:5000])\n",
    "fpr, tpr, thresholds,auc = compute_metrics(probs, yprob)\n",
    "draw_roc(fpr, tpr,thresholds)\n",
    "draw_interdist(build_embedding, n_iter)"
   ]
  },
  {
   "cell_type": "code",
   "execution_count": null,
   "metadata": {},
   "outputs": [],
   "source": [
    "labels_b = Y_test[Y_test==1]\n",
    "labels_s = Y_test[Y_test==2]\n",
    "X_test[labels_s.index].shape\n",
    "y = labels_s.reset_index(drop=True)"
   ]
  },
  {
   "cell_type": "code",
   "execution_count": null,
   "metadata": {},
   "outputs": [],
   "source": [
    "#Testing on an untrained network\n",
    "probs, yprob = compute_probs(build_embedding ,X_test[labels_s.index], y)\n",
    "fpr, tpr, thresholds,auc = compute_metrics(probs, yprob)\n",
    "draw_roc(fpr, tpr,thresholds)\n",
    "draw_interdist(build_embedding, n_iter)"
   ]
  },
  {
   "cell_type": "code",
   "execution_count": null,
   "metadata": {},
   "outputs": [],
   "source": [
    "#Testing on an untrained network\n",
    "probs, yprob = compute_probs(build_embedding ,X_train[:2500,:,:,:,:], Y_train[:2500])\n",
    "fpr, tpr, thresholds,auc = compute_metrics(probs, yprob)\n",
    "draw_roc(fpr, tpr,thresholds)\n",
    "draw_interdist(build_embedding, n_iter)"
   ]
  },
  {
   "cell_type": "code",
   "execution_count": null,
   "metadata": {},
   "outputs": [],
   "source": [
    "from sklearn.metrics import roc_auc_score\n",
    "\n",
    "def power_mean(x, p=-5):\n",
    "    return np.power(np.mean(np.power(x, p)),1/p)\n",
    "\n",
    "def get_s_auc(y_true,y_pred,y_identity):\n",
    "    mask = y_identity==1\n",
    "    s_auc = roc_auc_score(y_true[mask],y_pred[mask])\n",
    "    return s_auc\n",
    "\n",
    "def get_bpsn_auc(y_true,y_pred,y_identity):\n",
    "    mask = (y_identity==1) & (y_true==0) | (y_identity==0) & (y_true==1)\n",
    "    bpsn_auc = roc_auc_score(y_true[mask],y_pred[mask])\n",
    "    return bpsn_auc\n",
    "\n",
    "def get_bspn_auc(y_true,y_pred,y_identity):\n",
    "    mask = (y_identity==1) & (y_true==1) | (y_identity==0) & (y_true==0)\n",
    "    bspn_auc = roc_auc_score(y_true[mask],y_pred[mask])\n",
    "    return bspn_auc\n",
    "\n",
    "def get_total_auc(y_true,y_pred,y_identities):\n",
    "\n",
    "    N = y_identities.shape[1]\n",
    "    saucs = np.array([get_s_auc(y_true,y_pred,y_identities[:,i]) for i in range(N)])\n",
    "    bpsns = np.array([get_bpsn_auc(y_true,y_pred,y_identities[:,i]) for i in range(N)])\n",
    "    bspns = np.array([get_bspn_auc(y_true,y_pred,y_identities[:,i]) for i in range(N)])\n",
    "\n",
    "    M_s_auc = power_mean(saucs)\n",
    "    M_bpsns_auc = power_mean(bpsns)\n",
    "    M_bspns_auc = power_mean(bspns)\n",
    "    rauc = roc_auc_score(y_true,y_pred)\n",
    "\n",
    "\n",
    "    total_auc = M_s_auc + M_bpsns_auc + M_bspns_auc + rauc\n",
    "    total_auc/= 4\n",
    "\n",
    "    return total_auc"
   ]
  },
  {
   "cell_type": "code",
   "execution_count": null,
   "metadata": {},
   "outputs": [],
   "source": [
    "def DrawTestImage(network, images, refidx=500):\n",
    "    '''\n",
    "    Evaluate some pictures vs some samples in the test set\n",
    "        image must be of shape(1,w,h,c)\n",
    "    \n",
    "    Returns\n",
    "        scores : resultat des scores de similarités avec les images de base => (N)\n",
    "    \n",
    "    '''\n",
    "    N=4\n",
    "    _, w,h,c = list_of_test[0].shape\n",
    "    nbimages=images.shape[0]\n",
    "    \n",
    "    #generates embedings for given images\n",
    "    image_embedings = network.predict(images)\n",
    "    \n",
    "    #generates embedings for reference images\n",
    "    ref_images = np.zeros((nb_classes,w,h,c))\n",
    "    for i in range(nb_classes):\n",
    "        ref_images[i,:,:,:1] = list_of_test[i][refidx,:,:,:1]\n",
    "    ref_embedings = network.predict(ref_images)\n",
    "            \n",
    "    for i in range(nbimages):\n",
    "        #Prepare the figure\n",
    "        fig=plt.figure(figsize=(16,2))\n",
    "        subplot = fig.add_subplot(1,nb_classes+1,1)\n",
    "        axis(\"off\")\n",
    "        plotidx = 2\n",
    "            \n",
    "        #Draw this image    \n",
    "        #plt.imshow(images[i,:,:,0],vmin=0, vmax=1,cmap='Greys')\n",
    "        plt.matshow(images[i,:,:,0], cmap='gray')\n",
    "        #sns.heatmap(images[i,:,:,0], vmin=0, vmax=5000, cmap='Greens', center=None,\n",
    "           #             robust=False, annot=None, fmt='.2g', annot_kws=None, linewidths=0, linecolor='white', \n",
    "           #             cbar=True, cbar_kws=None, cbar_ax=None, square=False, xticklabels=True, \n",
    "           #             yticklabels=True, mask=None, ax=None)\n",
    "        subplot.title.set_text(\"Test image\")\n",
    "            \n",
    "        for ref in range(nb_classes):\n",
    "            #Compute distance between this images and references\n",
    "            dist = compute_dist(image_embedings[i,:],ref_embedings[ref,:])\n",
    "            #Draw\n",
    "            subplot = fig.add_subplot(1,nb_classes+1,plotidx)\n",
    "            axis(\"off\")\n",
    "            #plt.imshow(ref_images[ref,:,:,0],vmin=0, vmax=1,cmap='Greys')\n",
    "            plt.matshow(ref_images[ref,:,:,0], vmin=0, vmax=200000, cmap='gray')\n",
    "            #sns.heatmap(ref_images[ref,:,:,0].reshape(2,30).T, vmin=0, vmax=5000, cmap='Greens', center=None,\n",
    "             #           robust=False, annot=None, fmt='.2g', annot_kws=None, linewidths=0, linecolor='white', \n",
    "              #          cbar=True, cbar_kws=None, cbar_ax=None, square=False, xticklabels=True, \n",
    "               #         yticklabels=True, mask=None, ax=None)\n",
    "            subplot.title.set_text((\"Class {0}\\n{1:.3e}\".format(ref,dist)))\n",
    "            plotidx += 1"
   ]
  },
  {
   "cell_type": "code",
   "execution_count": null,
   "metadata": {},
   "outputs": [],
   "source": [
    "for i in range(2):\n",
    "    DrawTestImage(build_embedding,np.expand_dims(list_of_train[i][230,:,:,:,:],axis=0))"
   ]
  },
  {
   "cell_type": "code",
   "execution_count": null,
   "metadata": {},
   "outputs": [],
   "source": [
    "#Full evaluation\n",
    "probs,yprob = compute_probs(build_embedding,X_test,Y_test)\n",
    "fpr, tpr, thresholds,auc = compute_metrics(probs,yprob)\n",
    "draw_roc(fpr, tpr,thresholds)\n",
    "draw_interdist(build_embedding,n_iteration)"
   ]
  },
  {
   "cell_type": "code",
   "execution_count": null,
   "metadata": {},
   "outputs": [],
   "source": [
    "for i in range(2):\n",
    "    DrawTestImage(build_embedding,np.expand_dims(list_of_train[i][680,:,:,:],axis=0))"
   ]
  },
  {
   "cell_type": "code",
   "execution_count": null,
   "metadata": {},
   "outputs": [],
   "source": [
    "checkpoint = ModelCheckpoint(model_cp_path, monitor='loss', verbose=1, save_best_only=True, mode='min')\n",
    "early = EarlyStopping(monitor=\"val_loss\", mode=\"min\", patience=2)\n",
    "callbacks_list = [checkpoint, early]  # early\n",
    "\n",
    "gen_tr = triplet_generator(batch_size, pos_train, neg_train, spoof_ground_truth.spoof_step1_truth1)\n",
    "\n",
    "history = triplet_model.fit_generator(gen_tr, \n",
    "                              epochs=10, \n",
    "                              verbose=1, \n",
    "                              workers=4,\n",
    "                              steps_per_epoch=200, \n",
    "                              validation_steps=20, use_multiprocessing=True)"
   ]
  },
  {
   "cell_type": "code",
   "execution_count": null,
   "metadata": {},
   "outputs": [],
   "source": [
    "train_preds  = []\n",
    "train_file_names = []\n",
    "for i in range(1, n_iter+1):\n",
    "    inputs, targets = data_generator(32, pos_train, neg_train, spoof_ground_truth.spoof_step1_truth1, 1)\n",
    "    predicts = triplet_model.predict(inputs)\n",
    "    print(predicts[0])\n",
    "    predicts = predicts.tolist()\n",
    "    train_preds += predicts\n",
    "    targets = targets.tolist()\n",
    "    train_file_names += targets\n",
    "train_preds = np.array(train_preds)\n",
    "\n",
    "\n",
    "test_preds  = []\n",
    "test_file_names = []\n",
    "for i in range(1, n_iter+1):\n",
    "    inputs, targets = data_generator(32, pos_val, neg_val, spoof_ground_truth.spoof_step1_truth1, 1)\n",
    "    if i % evaluate_every == 0:\n",
    "        predicts = embedding_model.predict(inputs)\n",
    "        predicts = predicts.tolist()\n",
    "        test_preds += predicts\n",
    "        targets = targets.tolist()\n",
    "        test_file_names += targets\n",
    "test_preds = np.array(test_preds)\n"
   ]
  },
  {
   "cell_type": "code",
   "execution_count": null,
   "metadata": {},
   "outputs": [],
   "source": [
    "from sklearn.neighbors import NearestNeighbors\n",
    "neigh = NearestNeighbors(n_neighbors=6)\n",
    "neigh.fit(train_preds)"
   ]
  },
  {
   "cell_type": "code",
   "execution_count": null,
   "metadata": {},
   "outputs": [],
   "source": [
    "distances_test, neighbors_test = neigh.kneighbors(test_preds)\n",
    "distances_test, neighbors_test = distances_test.tolist(), neighbors_test.tolist()"
   ]
  },
  {
   "cell_type": "code",
   "execution_count": null,
   "metadata": {},
   "outputs": [],
   "source": [
    "gen_te = triplet_generator_new(batch_size, pos_val, neg_val, spoof_ground_truth.spoof_step1_truth1)\n",
    "predictions = triplet_model.embedding_model.predict(gen_te, steps=1)\n",
    "print(predictions)"
   ]
  },
  {
   "cell_type": "code",
   "execution_count": null,
   "metadata": {},
   "outputs": [],
   "source": [
    "# plt.legend()\n",
    "# plt.show()\n",
    "def eva_plot(History, epoch):\n",
    "    plt.figure(figsize=(20,10))\n",
    "#     sns.lineplot(range(1, epoch+1), History.history['acc'], label='Train Accuracy')\n",
    "#     sns.lineplot(range(1, epoch+1), History.history['val_acc'], label='Test Accuracy')\n",
    "#     plt.legend(['train', 'validaiton'], loc='upper left')\n",
    "#     plt.ylabel('accuracy')\n",
    "#     plt.xlabel('epoch')\n",
    "#     plt.show()\n",
    "    plt.figure(figsize=(20,10))\n",
    "    sns.lineplot(range(1, epoch+1), History.history['loss'], label='Train loss')\n",
    "    sns.lineplot(range(1, epoch+1), History.history['val_loss'], label='Test loss')\n",
    "    plt.legend(['train', 'validaiton'], loc='upper left')\n",
    "    plt.ylabel('loss')\n",
    "    plt.xlabel('epoch')\n",
    "    plt.title(\"Loss Graph\")\n",
    "    plt.show()\n",
    "    \n",
    "eva_plot(history, 4)\n",
    "\n",
    "def val_plot(History, epoch):\n",
    "    plt.figure(figsize=(20,10))\n",
    "#     sns.lineplot(range(1, epoch+1), History.history['acc'], label='Train Accuracy')\n",
    "#     sns.lineplot(range(1, epoch+1), History.history['val_acc'], label='Test Accuracy')\n",
    "#     plt.legend(['train', 'validaiton'], loc='upper left')\n",
    "#     plt.ylabel('accuracy')\n",
    "#     plt.xlabel('epoch')\n",
    "#     plt.show()\n",
    "    plt.figure(figsize=(20,10))\n",
    "    sns.lineplot(range(1, epoch+1), History.history['model_8_loss'], label='Embedding Train loss')\n",
    "    sns.lineplot(range(1, epoch+1), History.history['val_model_8_loss'], label='Embedding Test loss')\n",
    "    plt.legend(['train', 'validaiton'], loc='upper left')\n",
    "    plt.ylabel('loss')\n",
    "    plt.xlabel('epoch')\n",
    "    plt.title(\"Loss Graph\")\n",
    "    plt.show()\n",
    "    \n",
    "val_plot(history, 4) "
   ]
  },
  {
   "cell_type": "code",
   "execution_count": null,
   "metadata": {},
   "outputs": [],
   "source": [
    "def triplet_loss1(y_true, y_pred, alpha=0.4):\n",
    "    print(\"for distance branch, y_pred.shape:  \", y_pred)       # [Batch_dim, vec_dim*3]\n",
    "\n",
    "    vec_len = y_pred.shape.as_list()[-1]\n",
    "\n",
    "    anchor = y_pred[:, :int(vec_len/3)]\n",
    "    positve = y_pred[:, int(vec_len/3):int(vec_len*2/3)]\n",
    "    negative = y_pred[:, int(vec_len*2/3):]\n",
    "\n",
    "    pos_dist = K.sum(K.square(anchor - positve), axis=1)\n",
    "    neg_dist = K.sum(K.square(anchor - negative), axis=1)\n",
    "\n",
    "    loss = K.maximum(0., pos_dist - neg_dist + alpha)\n",
    "\n",
    "    return loss\n",
    "a = tf.compat.v1.random_normal([5, 60], mean=6, stddev=0.1, seed = 1)\n",
    "\n",
    "with tf.compat.v1.Session() as test:\n",
    "    tf.compat.v1.set_random_seed(1)\n",
    "    y_true = (None, None, None)\n",
    "    a = tf.compat.v1.random_normal([5, 60], mean=6, stddev=0.1, seed = 1)\n",
    "    print(a)\n",
    "    p = tf.compat.v1.random_normal([5, 60], mean=1, stddev=1, seed = 1)\n",
    "    n = tf.compat.v1.random_normal([5, 60], mean=3, stddev=4, seed = 1)\n",
    "    merged = concatenate([a, p, n], axis=-1)\n",
    "    y_pred = (tf.compat.v1.random_normal([3, 60], mean=6, stddev=0.1, seed = 1),\n",
    "              tf.compat.v1.random_normal([3, 60], mean=1, stddev=1, seed = 1),\n",
    "              tf.compat.v1.random_normal([3, 60], mean=3, stddev=4, seed = 1), \n",
    "              tf.compat.v1.random_normal([3, 60], mean=3, stddev=4, seed = 1))\n",
    "    loss = triplet_loss1(y_true, merged)\n",
    "    \n",
    "    print(\"loss = \" + str(loss.eval()))\n"
   ]
  },
  {
   "cell_type": "code",
   "execution_count": null,
   "metadata": {},
   "outputs": [],
   "source": [
    "evaluate_every = 20 # interval for evaluating on one-shot tasks\n",
    "loss_every = 20 # interval for printing loss (iterations)\n",
    "batch_size = 32\n",
    "n_iter = 2\n",
    "N_way = 20 # how many classes for testing one-shot tasks>\n",
    "n_val = 250 # how many one-shot tasks to validate on?\n",
    "best = -1"
   ]
  },
  {
   "cell_type": "code",
   "execution_count": null,
   "metadata": {},
   "outputs": [],
   "source": [
    "print(\"Starting training process!\")\n",
    "print(\"-------------------------------------\")\n",
    "t_start = time.time()\n",
    "for i in range(1, n_iter+1):\n",
    "    (inputs, targets) = get_triplet_batch(batch_size, pos_train, neg_train, spoof_ground_truth.spoof_step1_truth1)\n",
    "    #(inp, tar) = triplet_generator()\n",
    "    loss = triplet_model.model.train_on_batch(inputs, targets)\n",
    "    print(loss)\n",
    "    if i % evaluate_every == 0:\n",
    "        print(\"\\n ------------- \\n\")\n",
    "        print(\"Time for {0} iterations: {1} mins\".format(i, (time.time()-t_start)/60.0))\n",
    "        print(\"Train Loss: {0}\".format(loss)) \n",
    "        val_acc = test_oneshot(model, N_way, n_val, verbose=True)\n",
    "\n",
    "  \n",
    "        triplet_model.model.save_weights(os.path.join(model_path, 'weights_triplet.{}.h5'.format(i)))\n",
    "        if val_acc >= best:\n",
    "            print(\"Current best: {0}, previous best: {1}\".format(val_acc, best))\n",
    "            best = val_acc"
   ]
  },
  {
   "cell_type": "code",
   "execution_count": null,
   "metadata": {},
   "outputs": [],
   "source": [
    "import tensorflow as tf\n",
    "import numpy as np\n",
    "\n",
    "data = [[1,2,3],[4,5,6]]\n",
    "data_np = np.asarray(data, np.float32)\n",
    "\n",
    "data_tf = tf.convert_to_tensor(data_np, np.float32)\n",
    "\n",
    "data_np.shape"
   ]
  },
  {
   "cell_type": "code",
   "execution_count": null,
   "metadata": {},
   "outputs": [],
   "source": [
    "train_generator = triplet_generator(batch_size, pos_train, neg_train, spoof_ground_truth.spoof_step1_truth1)\n",
    "val_generator = triplet_generator(batch_size, pos_val, neg_val, spoof_ground_truth.spoof_step1_truth1)\n",
    "\n",
    "model.fit(generator=train_generator, steps_per_epoch=20, epochs=100,\n",
    "                        validation_data=val_generator,\n",
    "                        validation_steps=10,\n",
    "                        verbose=1) #callbacks=[checkpoint])"
   ]
  },
  {
   "cell_type": "code",
   "execution_count": null,
   "metadata": {},
   "outputs": [],
   "source": [
    "print(\"Starting training process!\")\n",
    "print(\"-------------------------------------\")\n",
    "t_start = time.time()\n",
    "for i in range(1, n_iter+1):\n",
    "    (inputs, targets) = get_triplet_batch(batch_size, pos_train, neg_train, spoof_ground_truth.spoof_step1_truth1)\n",
    "    #(inp, tar) = triplet_generator()\n",
    "    loss = triplet_model.model.train_on_batch(inputs, targets)\n",
    "    print(loss)\n",
    "    if i % evaluate_every == 0:\n",
    "        print(\"\\n ------------- \\n\")\n",
    "        print(\"Time for {0} iterations: {1} mins\".format(i, (time.time()-t_start)/60.0))\n",
    "        print(\"Train Loss: {0}\".format(loss)) \n",
    "      #  val_acc = test_oneshot(model, N_way, n_val, verbose=True)\n",
    "        triplet_model.model.save_weights(os.path.join(model_path, 'weights_triplet.{}.h5'.format(i)))\n",
    "       # if val_acc >= best:\n",
    "        #    print(\"Current best: {0}, previous best: {1}\".format(val_acc, best))\n",
    "         #   best = val_acc"
   ]
  },
  {
   "cell_type": "markdown",
   "metadata": {},
   "source": [
    "### Training "
   ]
  },
  {
   "cell_type": "code",
   "execution_count": null,
   "metadata": {},
   "outputs": [],
   "source": [
    "class Training_Pipeline(object):\n",
    "    def __init__(self):\n",
    "        self._birthdate = time.time()\n",
    "        \n",
    "    @staticmethod\n",
    "    def get_batch(batch_size, positive_samples, negative_samples, anchor):\n",
    "        \"\"\"Create batch of n pairs, half same class, half different class\"\"\"\n",
    "        n_examples_p, d, w, h = positive_samples.shape\n",
    "        n_examples_n = negative_samples.shape[0]\n",
    "\n",
    "        # initialize 2 empty arrays for the input image batch\n",
    "        pairs = [np.zeros((batch_size, w, h, 1)) for i in range(2)]\n",
    "\n",
    "        # initialize vector for the targets\n",
    "        targets=np.zeros((batch_size,))\n",
    "\n",
    "        # make one half of it '1's, so 2nd half of batch has same class\n",
    "        targets[batch_size//2:] = 1\n",
    "\n",
    "        for i in range(batch_size):\n",
    "            idx_p = rng.randint(0, n_examples_p)\n",
    "            idx_n = rng.randint(0, n_examples_n)\n",
    "            pairs[0][i,:,:,:] = anchor.reshape(w, h, 1)\n",
    "\n",
    "            if i >= batch_size // 2:\n",
    "                pairs[1][i,:,:,:] = positive_samples[idx_p].reshape(w, h, 1)\n",
    "            else:\n",
    "                pairs[1][i,:,:,:] = negative_samples[idx_n].reshape(w, h, 1)\n",
    "        return pairs, targets\n",
    "    \n",
    "    def make_oneshot_task(self, N, positive_samples, negative_samples, anchor):\n",
    "        \"\"\"Create pairs of test image, support set for testing N way one-shot learning. \"\"\"\n",
    "\n",
    "        n_examples_p, d, w, h = positive_samples.shape\n",
    "        n_examples_n = negative_samples.shape[0]\n",
    "\n",
    "        test_lob = np.asarray([anchor]*N).reshape(N, w, h, 1)\n",
    "\n",
    "       # print(test_lob)\n",
    "\n",
    "        p_index = rng.randint(0, n_examples_p, size=(1,))\n",
    "        n_index = rng.randint(0, n_examples_n, size=(N,))\n",
    "\n",
    "        support_set = negative_samples[n_index]\n",
    "       # print('n_index' + str(n_index))\n",
    "      #  print(support_set[0])\n",
    "      #  print(support_set[1])\n",
    "        support_set[0] = positive_samples[p_index]\n",
    "       # print('zero now')\n",
    "       # print(support_set[0])\n",
    "       # print('one now')\n",
    "      #  print(support_set[1])\n",
    "        support_set = support_set.reshape(N, w, h, 1)\n",
    "\n",
    "        targets = np.zeros((N,))\n",
    "        targets[0] = 1     \n",
    "       # print(targets)\n",
    "        targets, test_lob, support_set = shuffle(targets, test_lob, support_set)\n",
    "        pairs = [test_lob, support_set]\n",
    "        return pairs, targets\n",
    "\n",
    "    def test_oneshot(self, model, N, k, s = \"val\", verbose = 0):\n",
    "        \"\"\"Test average N way oneshot learning accuracy of a siamese neural net over k one-shot tasks\"\"\"\n",
    "        n_correct = 0\n",
    "        inputs = []\n",
    "        targets = []\n",
    "        if verbose:\n",
    "            print(\"Evaluating model on {} random {} way one-shot learning tasks ... \\n\".format(k,N))\n",
    "        for i in range(k):\n",
    "            if s == 'train':\n",
    "                inputs, targets = self.make_oneshot_task(N, pos_train, neg_train, spoof_ground_truth.spoof_step1_truth1)\n",
    "            else:\n",
    "                inputs, targets = self.make_oneshot_task(N, pos_val, neg_val, spoof_ground_truth.spoof_step1_truth1)\n",
    "            probs = model.predict(inputs)\n",
    "            #print(probs)\n",
    "            if np.argmax(probs) == np.argmax(targets):\n",
    "                n_correct+=1\n",
    "        percent_correct = (100.0 * n_correct / k)\n",
    "        if verbose:\n",
    "            print(\"Got an average of {}% {} way one-shot learning accuracy \\n\".format(percent_correct,N))\n",
    "        return percent_correct\n",
    "    \n",
    "    \n",
    "    def generate(batch_size, s=\"train\"):\n",
    "        \"\"\"a generator for batches, so model.fit_generator can be used. \"\"\"\n",
    "        while True:\n",
    "            pairs, targets = get_batch(batch_size,s)\n",
    "            yield (pairs, targets)\n",
    "\n",
    "training_pipeline = Training_Pipeline()"
   ]
  },
  {
   "cell_type": "code",
   "execution_count": null,
   "metadata": {},
   "outputs": [],
   "source": [
    "# Example of concat image visualization\n",
    "np.set_printoptions(suppress=True)\n",
    "pairs, targets = training_pipeline.make_oneshot_task(15, pos_train, neg_train, spoof_ground_truth.spoof_step1_truth1)\n",
    "plot_oneshot_task(pairs, targets, 15)\n",
    "print(targets)"
   ]
  },
  {
   "cell_type": "markdown",
   "metadata": {},
   "source": [
    "### Plotting LOBs"
   ]
  },
  {
   "cell_type": "code",
   "execution_count": null,
   "metadata": {},
   "outputs": [],
   "source": [
    "def plot_oneshot_task(pairs, targets, N): \n",
    "    '''\n",
    "    Only prints out one before last element of a \n",
    "    '''\n",
    "    count = 0\n",
    "    fig, ax = plt.subplots(2, int(N/2), sharex='col', sharey='row', figsize=(15,15))\n",
    "    lob_matrix = []\n",
    "    lob_matrix.append(pairs[0][0])\n",
    "    for j in range(0,int(N)):\n",
    "        lob_matrix.append(pairs[1][j])\n",
    "     \n",
    "    fig.subplots_adjust(right=0.8)\n",
    "    cbar_ax = fig.add_axes([0.85, 0.15, 0.05, 0.7])\n",
    "    \n",
    "    for i in range(0,2):\n",
    "        for j in range(0,int(N/2)):\n",
    "            sns.heatmap(lob_matrix[count][:,:,0].reshape(2,30).T, vmin=0, vmax=50000, cmap='Greens', center=None,\n",
    "                        robust=False, annot=None, fmt='.2g', annot_kws=None, linewidths=0, linecolor='white', \n",
    "                        cbar=True, cbar_kws=None, cbar_ax=cbar_ax, square=False, xticklabels=True, \n",
    "                        yticklabels=True, mask=None, ax=ax[i, j])\n",
    "            count = count + 1\n",
    "            print(lob_matrix[count][:,:,0])\n",
    "    plt.show()"
   ]
  },
  {
   "cell_type": "code",
   "execution_count": null,
   "metadata": {},
   "outputs": [],
   "source": [
    "def plot_oneshot_task(pairs, N):\n",
    "    if N/2 == 1:\n",
    "        end = int(N/2)\n",
    "    else:\n",
    "        end = int(N/2)\n",
    "    fig, ax = plt.subplots(2, end, sharex='col', sharey='row', figsize=(15,15))\n",
    "   # im = ax[0, 0].matshow(pairs[0][0].reshape(2,30).T)\n",
    "   # print(pairs[0][1])\n",
    "   # print(pairs[1][0])\n",
    "   # print(pairs[0][0].shape)\n",
    "    data_array = []\n",
    "    data_array.append(pairs[0][0])\n",
    "    #print(data_array[0][:,:,0])\n",
    "    for j in range(0,int(N)):\n",
    "        data_array.append(pairs[1][j])\n",
    "    #print(np.moveaxis(data_array, -1, 0).shape)\n",
    "   # print(data_array[0])\n",
    "    count = 0\n",
    "    initial_pair = 0\n",
    "    for i in range(0,2):\n",
    "        for j in range(0,int(N/2)):\n",
    "            sns.heatmap(data_array[count][:,:,0].reshape(2,30).T, vmin=None, vmax=None, cmap=None, center=None,\n",
    "                robust=False, annot=None, fmt='.2g', annot_kws=None, \n",
    "                linewidths=0, linecolor='white', cbar=True, cbar_kws=None, \n",
    "                cbar_ax=None, square=False, xticklabels='auto',\n",
    "                yticklabels='auto', mask=None, ax=ax[i, j], **kwargs)\n",
    "           # im = ax[i, j].matshow(data_array[count][:,:,0].reshape(2,30).T, cmap='BuPu')\n",
    "            print(i)\n",
    "            print(j)\n",
    "            ax[i, j].text(0.5, 0.5, str((i, j)), fontsize=18, ha='right')\n",
    "            count = count + 1\n",
    "            initial_pair = 1\n",
    "    \n",
    "    fig.subplots_adjust(right=0.8)\n",
    "    cbar_ax = fig.add_axes([0.85, 0.15, 0.05, 0.7])\n",
    "    print(im)\n",
    "    fig.colorbar(im, cax=cbar_ax)\n",
    "    plt.show()\n"
   ]
  },
  {
   "cell_type": "code",
   "execution_count": null,
   "metadata": {},
   "outputs": [],
   "source": [
    "def plot_oneshot_task(pairs, N):\n",
    "    if N/2 == 1:\n",
    "        end = int(N/2)\n",
    "    else:\n",
    "        end = int(N/2)\n",
    "    fig, ax = plt.subplots(2, end, sharex='col', sharey='row', figsize=(15,15))\n",
    "   # im = ax[0, 0].matshow(pairs[0][0].reshape(2,30).T)\n",
    "   # print(pairs[0][1])\n",
    "   # print(pairs[1][0])\n",
    "    data_array = pairs[0][0]\n",
    "    for j in range(0,int(N)):\n",
    "        data_array = np.append(data_array, pairs[1][j], axis=-1)\n",
    "    print(data_array)\n",
    "    print(data_array.shape)\n",
    "    print(np.moveaxis(data_array, -1, 0).shape)\n",
    "    count = 0\n",
    "    initial_pair = 0\n",
    "    for i in range(0,2):\n",
    "        for j in range(0,int(end)):\n",
    "            im = ax[i, j].matshow(pairs[initial_pair][count].reshape(2,30).T, cmap='BuPu')\n",
    "            ax[i, j].text(0.5, 0.5, str((i, j)), fontsize=18, ha='right')\n",
    "            count = count + 1\n",
    "            initial_pair = 1\n",
    "    \n",
    "    fig.subplots_adjust(right=0.8)\n",
    "    cbar_ax = fig.add_axes([0.85, 0.15, 0.05, 0.7])\n",
    "    print(im)\n",
    "    fig.colorbar(im, cax=cbar_ax)\n",
    "    plt.show()\n",
    "#(j-start)*(i+1)"
   ]
  },
  {
   "cell_type": "code",
   "execution_count": null,
   "metadata": {},
   "outputs": [],
   "source": [
    "def plot_oneshot_task(pairs, N):\n",
    "    fig,(ax1,ax2) = plt.subplots(nrows=1, ncols=N, figsize=(15,15))\n",
    "    ax1.matshow(pairs[0][0].reshape(30,2), cmap='gray')\n",
    "    img = concat_images(pairs[1], N)\n",
    "    ax1.get_yaxis().set_visible(False)\n",
    "    ax1.get_xaxis().set_visible(False)\n",
    "    ax2.matshow(img,cmap='gray')\n",
    "    plt.xticks([])\n",
    "    plt.yticks([])\n",
    "    plt.show()"
   ]
  },
  {
   "cell_type": "code",
   "execution_count": null,
   "metadata": {},
   "outputs": [],
   "source": [
    "# Hyper parameters\n",
    "#evaluate_every = 2 # interval for evaluating on one-shot tasks\n",
    "#batch_size = 32\n",
    "#n_iter = 20 # No. of training iterations\n",
    "#N_way = 4 # how many classes for testing one-shot tasks\n",
    "#n_val = 10 # how many one-shot tasks to validate on\n",
    "#best = -1\n",
    "#np.set_printoptions(suppress=True)\n",
    "\n",
    "evaluate_every = 10 # interval for evaluating on one-shot tasks\n",
    "loss_every = 20 # interval for printing loss (iterations)\n",
    "batch_size = 32\n",
    "n_iter = 20000\n",
    "N_way = 20 # how many classes for testing one-shot tasks>\n",
    "n_val = 250 # how many one-shot tasks to validate on?\n",
    "best = -1"
   ]
  },
  {
   "cell_type": "code",
   "execution_count": null,
   "metadata": {},
   "outputs": [],
   "source": [
    "model.metrics_names"
   ]
  },
  {
   "cell_type": "code",
   "execution_count": null,
   "metadata": {},
   "outputs": [],
   "source": [
    "print(\"Starting training process!\")\n",
    "print(\"-------------------------------------\")\n",
    "t_start = time.time()\n",
    "for i in range(1, n_iter+1):\n",
    "    inputs, targets = training_pipeline.get_batch(batch_size, pos_train, neg_train,\\\n",
    "                                                     spoof_ground_truth.spoof_step1_truth1)\n",
    "    loss = model.train_on_batch(inputs, targets)\n",
    "    if i % evaluate_every == 0:\n",
    "        print(\"\\n ------------- \\n\")\n",
    "        print(\"Time for {0} iterations: {1} mins\".format(i, (time.time()-t_start)/60.0))\n",
    "        print(\"Train Loss: {0}\".format(loss)) \n",
    "        val_acc = training_pipeline.test_oneshot(model, N_way, n_val, verbose=True)\n",
    "        model.save_weights(os.path.join(model_path, 'weights.{}.h5'.format(i)))\n",
    "        if val_acc >= best:\n",
    "            print(\"Current best: {0}, previous best: {1}\".format(val_acc, best))\n",
    "            best = val_acc"
   ]
  },
  {
   "cell_type": "markdown",
   "metadata": {},
   "source": [
    "### Testing"
   ]
  },
  {
   "cell_type": "code",
   "execution_count": null,
   "metadata": {},
   "outputs": [],
   "source": [
    "model.load_weights(os.path.join(model_path, \"weights.20000.h5\"))"
   ]
  },
  {
   "cell_type": "markdown",
   "metadata": {},
   "source": [
    "#### Baseline model based on nearest neighbors using euclidean distance"
   ]
  },
  {
   "cell_type": "code",
   "execution_count": null,
   "metadata": {},
   "outputs": [],
   "source": [
    "def nearest_neighbour_correct(pairs,targets):\n",
    "    \"\"\"returns 1 if nearest neighbour gets the correct answer for a one-shot task\n",
    "        given by (pairs, targets)\"\"\"\n",
    "    L2_distances = np.zeros_like(targets)\n",
    "    for i in range(len(targets)):\n",
    "        L2_distances[i] = np.sum(np.sqrt(pairs[0][i]**2 - pairs[1][i]**2))\n",
    "    if np.argmin(L2_distances) == np.argmax(targets):\n",
    "        return 1\n",
    "    return 0"
   ]
  },
  {
   "cell_type": "code",
   "execution_count": null,
   "metadata": {},
   "outputs": [],
   "source": [
    "def test_nn_accuracy(N_ways,n_trials):\n",
    "    \"\"\"Returns accuracy of NN approach \"\"\"\n",
    "    print(\"Evaluating nearest neighbour on {} unique {} way one-shot learning tasks ...\".format(n_trials,N_ways))\n",
    "\n",
    "    n_right = 0\n",
    "    \n",
    "    for i in range(n_trials):\n",
    "        pairs,targets = training_pipeline.make_oneshot_task(N_ways,pos_val, neg_val,\\\n",
    "                                                            spoof_ground_truth.spoof_step1_truth1)\n",
    "        correct = nearest_neighbour_correct(pairs,targets)\n",
    "        n_right += correct\n",
    "    return 100.0 * n_right / n_trials"
   ]
  },
  {
   "cell_type": "code",
   "execution_count": null,
   "metadata": {},
   "outputs": [],
   "source": [
    "ways = np.arange(1,15,2)\n",
    "resume =  False\n",
    "trials = 50"
   ]
  },
  {
   "cell_type": "code",
   "execution_count": null,
   "metadata": {},
   "outputs": [],
   "source": [
    "val_accs, train_accs,nn_accs = [], [], []\n",
    "for N in ways:    \n",
    "    val_accs.append(training_pipeline.test_oneshot(model, N, trials, \"val\", verbose=True))\n",
    "    train_accs.append(training_pipeline.test_oneshot(model, N, trials, \"train\", verbose=True))\n",
    "    nn_acc = test_nn_accuracy(N, trials)\n",
    "    nn_accs.append(nn_acc)\n",
    "    print (\"NN Accuracy = \", nn_acc)\n",
    "    print(\"-------------------------------------------------------------------------------------------------------\")"
   ]
  },
  {
   "cell_type": "code",
   "execution_count": null,
   "metadata": {},
   "outputs": [],
   "source": [
    "#Save accuracies on disk\n",
    "with open(os.path.join(project_path,\"accuracies.pickle\"), \"wb\") as f:\n",
    "    pickle.dump((val_accs,train_accs,nn_accs),f)\n",
    "    \n",
    "#Load accuraces from disk\n",
    "with open(os.path.join(project_path, \"accuracies.pickle\"), \"rb\") as f:\n",
    "    (val_accs, train_accs, nn_accs) = pickle.load(f)"
   ]
  },
  {
   "cell_type": "code",
   "execution_count": null,
   "metadata": {},
   "outputs": [],
   "source": [
    "def concat_images(X):\n",
    "    \"\"\"Concatenates a bunch of images into a big matrix for plotting purposes.\"\"\"\n",
    "    nc, h , w, _ = X.shape\n",
    "    X = X.reshape(nc, h, w)\n",
    "    n = np.ceil(np.sqrt(nc)).astype(\"int8\")\n",
    "    img = np.zeros((n*h,n*w))\n",
    "    x = 0\n",
    "    y = 0\n",
    "    for example in range(nc):\n",
    "        img[x*h:(x+1)*h,y*w:(y+1)*w] = X[example]\n",
    "        y += 1\n",
    "        if y >= n:\n",
    "            y = 0\n",
    "            x += 1\n",
    "    return img"
   ]
  },
  {
   "cell_type": "code",
   "execution_count": null,
   "metadata": {},
   "outputs": [],
   "source": [
    "def plot_oneshot_task(pairs):\n",
    "    fig,(ax1,ax2) = plt.subplots(nrows=1, ncols=2, figsize=(15,15))\n",
    "    ax1.matshow(pairs[0][0].reshape(30,2), cmap='gray')\n",
    "    img = concat_images(pairs[1])\n",
    "    ax1.get_yaxis().set_visible(False)\n",
    "    ax1.get_xaxis().set_visible(False)\n",
    "    ax2.matshow(img,cmap='gray')\n",
    "    plt.xticks([])\n",
    "    plt.yticks([])\n",
    "    plt.show()"
   ]
  },
  {
   "cell_type": "code",
   "execution_count": null,
   "metadata": {},
   "outputs": [],
   "source": [
    "# Example of concat image visualization\n",
    "pairs, targets = training_pipeline.make_oneshot_task(1,pos_train,neg_train,spoof_ground_truth.spoof_step1_truth1)\n",
    "plot_oneshot_task(pairs)"
   ]
  },
  {
   "cell_type": "code",
   "execution_count": null,
   "metadata": {},
   "outputs": [],
   "source": [
    "fig,ax = plt.subplots(1)\n",
    "ax.plot(ways, val_accs, \"m\", label=\"Siamese(val set)\")\n",
    "ax.plot(ways, train_accs, \"y\", label=\"Siamese(train set)\")\n",
    "plt.plot(ways, nn_accs, label=\"Nearest neighbour\")\n",
    "\n",
    "ax.plot(ways, 100.0/ways, \"g\", label=\"Random guessing\")\n",
    "plt.xlabel(\"Number of possible classes in one-shot tasks\")\n",
    "plt.ylabel(\"% Accuracy\")\n",
    "plt.title(\"Omiglot One-Shot Learning Performance of a Siamese Network\")\n",
    "box = ax.get_position()\n",
    "ax.set_position([box.x0, box.y0, box.width * 0.8, box.height])\n",
    "ax.legend(loc='center left', bbox_to_anchor=(1, 0.5))\n",
    "#inputs,targets = make_oneshot_task(20, \"val\", 'Oriya')\n",
    "plt.show()"
   ]
  },
  {
   "cell_type": "code",
   "execution_count": null,
   "metadata": {},
   "outputs": [],
   "source": [
    "import tensorflow_datasets as tfds\n",
    "\n",
    "def _normalize_img(img, label):\n",
    "    img = tf.cast(img, tf.float32) / 255.\n",
    "    return (img, label)\n",
    "\n",
    "train_dataset, test_dataset = tfds.load(name=\"mnist\", split=['train', 'test'], as_supervised=True)\n",
    "\n",
    "# Build your input pipelines\n",
    "train_dataset = train_dataset.shuffle(1024).batch(32)\n",
    "train_dataset = train_dataset.map(_normalize_img)\n",
    "\n",
    "test_dataset = test_dataset.batch(32)\n",
    "test_dataset = test_dataset.map(_normalize_img)\n",
    "\n",
    "model = tf.keras.Sequential([\n",
    "    tf.keras.layers.Conv2D(filters=64, kernel_size=2, padding='same', activation='relu', input_shape=(28,28,1)),\n",
    "    tf.keras.layers.MaxPooling2D(pool_size=2),\n",
    "    tf.keras.layers.Dropout(0.3),\n",
    "    tf.keras.layers.Conv2D(filters=32, kernel_size=2, padding='same', activation='relu'),\n",
    "    tf.keras.layers.MaxPooling2D(pool_size=2),\n",
    "    tf.keras.layers.Dropout(0.3),\n",
    "    tf.keras.layers.Flatten(),\n",
    "    tf.keras.layers.Dense(256, activation=None), # No activation on final dense layer\n",
    "    tf.keras.layers.Lambda(lambda x: tf.math.l2_normalize(x, axis=1)) # L2 normalize embeddings\n",
    "\n",
    "])\n",
    "\n",
    "# Compile the model\n",
    "model.compile(\n",
    "    optimizer=tf.keras.optimizers.Adam(0.001),\n",
    "    loss=tfa.losses.TripletSemiHardLoss())\n",
    "\n",
    "# Train the network\n",
    "history = model.fit(\n",
    "    train_dataset,\n",
    "    epochs=5)\n",
    "\n",
    "# Evaluate the network\n",
    "results = model.predict(test_dataset)\n",
    "\n",
    "# Save test embeddings for visualization in projector\n",
    "np.savetxt(\"vecs.tsv\", results, delimiter='\\t')\n",
    "\n",
    "out_m = io.open('meta.tsv', 'w', encoding='utf-8')\n",
    "for img, labels in tfds.as_numpy(test_dataset):\n",
    "    [out_m.write(str(x) + \"\\n\") for x in labels]\n",
    "out_m.close()\n",
    "\n",
    "\n",
    "\n",
    "from google.colab import files\n",
    "files.download('vecs.tsv')\n",
    "files.download('meta.tsv')\n",
    "  "
   ]
  },
  {
   "cell_type": "code",
   "execution_count": null,
   "metadata": {},
   "outputs": [],
   "source": [
    "# Reasons for Choices\n",
    "Normalisation - https://stats.stackexchange.com/questions/7757/data-normalization-and-standardization-in-neural-networks\n",
    "https://medium.com/@urvashilluniya/why-data-normalization-is-necessary-for-machine-learning-models-681b65a05029\n",
    "https://towardsdatascience.com/why-data-should-be-normalized-before-training-a-neural-network-c626b7f66c7d\n",
    "https://www.jeremyjordan.me/batch-normalization/"
   ]
  }
 ],
 "metadata": {
  "kernelspec": {
   "display_name": "Python [conda env:spoofing_new]",
   "language": "python",
   "name": "conda-env-spoofing_new-py"
  },
  "language_info": {
   "codemirror_mode": {
    "name": "ipython",
    "version": 3
   },
   "file_extension": ".py",
   "mimetype": "text/x-python",
   "name": "python",
   "nbconvert_exporter": "python",
   "pygments_lexer": "ipython3",
   "version": "3.7.7"
  }
 },
 "nbformat": 4,
 "nbformat_minor": 2
}
